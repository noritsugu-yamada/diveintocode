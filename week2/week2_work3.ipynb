{
 "cells": [
  {
   "cell_type": "markdown",
   "metadata": {},
   "source": [
    "# 課題1 内積を手計算しよう"
   ]
  },
  {
   "cell_type": "code",
   "execution_count": 1,
   "metadata": {},
   "outputs": [
    {
     "data": {
      "text/plain": [
       "array([[-1,  2,  3],\n",
       "       [ 4, -5,  6],\n",
       "       [ 7,  8, -9]])"
      ]
     },
     "execution_count": 1,
     "metadata": {},
     "output_type": "execute_result"
    }
   ],
   "source": [
    "import numpy as np\n",
    "A = np.array([-1,2,3,4,-5,6,7,8,-9]).reshape(3,3)\n",
    "A"
   ]
  },
  {
   "cell_type": "code",
   "execution_count": 2,
   "metadata": {},
   "outputs": [
    {
     "data": {
      "text/plain": [
       "array([[ 0,  2,  1],\n",
       "       [ 0,  2, -8],\n",
       "       [ 2,  9, -1]])"
      ]
     },
     "execution_count": 2,
     "metadata": {},
     "output_type": "execute_result"
    }
   ],
   "source": [
    "B = np.array([0,2,1,0,2,-8,2,9,-1]).reshape(3,3)\n",
    "B"
   ]
  },
  {
   "cell_type": "code",
   "execution_count": 3,
   "metadata": {},
   "outputs": [
    {
     "name": "stdout",
     "output_type": "stream",
     "text": [
      "[[0.00000000e+000 0.00000000e+000 0.00000000e+000]\n",
      " [0.00000000e+000 0.00000000e+000 5.92878775e-322]\n",
      " [1.96353543e-077 0.00000000e+000 0.00000000e+000]]\n",
      "0 0\n",
      "0 1\n",
      "0 2\n",
      "1 0\n",
      "1 1\n",
      "1 2\n",
      "2 0\n",
      "2 1\n",
      "2 2\n",
      "[[  6.  29. -20.]\n",
      " [ 12.  52.  38.]\n",
      " [-18. -51. -48.]]\n"
     ]
    }
   ],
   "source": [
    "# use_adamal_sum\n",
    "A = np.array([-1,2,3,4,-5,6,7,8,-9]).reshape(3,3)\n",
    "B = np.array([0,2,1,0,2,-8,2,9,-1]).reshape(3,3)\n",
    "A_column_size = A.shape[1]\n",
    "B_line_size = B.shape[0]\n",
    "A_line_size = A.shape[0]\n",
    "# making empty matrix\n",
    "AB = np.empty((B_line_size, A_column_size)) # Pass in tuple\n",
    "print(AB)\n",
    "for i in range(A_column_size):\n",
    "    for j in range(B_line_size):\n",
    "        # vector adamal and sum\n",
    "        AB[i,j] = np.sum(A[i,:]*B[:,j])\n",
    "        print(i,j)\n",
    "print(AB)"
   ]
  },
  {
   "cell_type": "code",
   "execution_count": 4,
   "metadata": {},
   "outputs": [
    {
     "data": {
      "text/plain": [
       "array([[  6,  29, -20],\n",
       "       [ 12,  52,  38],\n",
       "       [-18, -51, -48]])"
      ]
     },
     "execution_count": 4,
     "metadata": {},
     "output_type": "execute_result"
    }
   ],
   "source": [
    "# 手計算\n",
    "AB = np.array([6,29,-20,12,52,38,-18,-51,-48]).reshape(3,3)\n",
    "AB"
   ]
  },
  {
   "cell_type": "markdown",
   "metadata": {},
   "source": [
    "## 課題2, 3 for文で実装 \n",
    "課題2と3を分割していません"
   ]
  },
  {
   "cell_type": "code",
   "execution_count": 5,
   "metadata": {},
   "outputs": [
    {
     "name": "stdout",
     "output_type": "stream",
     "text": [
      "Aの行列00\n",
      "Bの行列00\n",
      "0\n",
      "-------------\n",
      "Aの行列01\n",
      "Bの行列10\n",
      "0\n",
      "-------------\n",
      "Aの行列02\n",
      "Bの行列20\n",
      "6\n",
      "-------------\n",
      "Aの行列00\n",
      "Bの行列01\n",
      "-2\n",
      "-------------\n",
      "Aの行列01\n",
      "Bの行列11\n",
      "2\n",
      "-------------\n",
      "Aの行列02\n",
      "Bの行列21\n",
      "29\n",
      "-------------\n",
      "Aの行列00\n",
      "Bの行列02\n",
      "-1\n",
      "-------------\n",
      "Aの行列01\n",
      "Bの行列12\n",
      "-17\n",
      "-------------\n",
      "Aの行列02\n",
      "Bの行列22\n",
      "-20\n",
      "-------------\n",
      "Aの行列10\n",
      "Bの行列00\n",
      "0\n",
      "-------------\n",
      "Aの行列11\n",
      "Bの行列10\n",
      "0\n",
      "-------------\n",
      "Aの行列12\n",
      "Bの行列20\n",
      "12\n",
      "-------------\n",
      "Aの行列10\n",
      "Bの行列01\n",
      "8\n",
      "-------------\n",
      "Aの行列11\n",
      "Bの行列11\n",
      "-2\n",
      "-------------\n",
      "Aの行列12\n",
      "Bの行列21\n",
      "52\n",
      "-------------\n",
      "Aの行列10\n",
      "Bの行列02\n",
      "4\n",
      "-------------\n",
      "Aの行列11\n",
      "Bの行列12\n",
      "44\n",
      "-------------\n",
      "Aの行列12\n",
      "Bの行列22\n",
      "38\n",
      "-------------\n",
      "Aの行列20\n",
      "Bの行列00\n",
      "0\n",
      "-------------\n",
      "Aの行列21\n",
      "Bの行列10\n",
      "0\n",
      "-------------\n",
      "Aの行列22\n",
      "Bの行列20\n",
      "-18\n",
      "-------------\n",
      "Aの行列20\n",
      "Bの行列01\n",
      "14\n",
      "-------------\n",
      "Aの行列21\n",
      "Bの行列11\n",
      "30\n",
      "-------------\n",
      "Aの行列22\n",
      "Bの行列21\n",
      "-51\n",
      "-------------\n",
      "Aの行列20\n",
      "Bの行列02\n",
      "7\n",
      "-------------\n",
      "Aの行列21\n",
      "Bの行列12\n",
      "-57\n",
      "-------------\n",
      "Aの行列22\n",
      "Bの行列22\n",
      "-48\n",
      "-------------\n",
      "[6, 29, -20, 12, 52, 38, -18, -51, -48]\n",
      "[[  6  29 -20]\n",
      " [ 12  52  38]\n",
      " [-18 -51 -48]]\n"
     ]
    }
   ],
   "source": [
    "# 1つ目の要素 A[0,0]B[0,0]+A[0,1]B[1,0]+A[0,2]B[2,0]\n",
    "# Aの列とBの行が1ずつ増えるように\n",
    "# for i in range(A_column_size):\n",
    "# multiple += A[0,i]*B[i,0]\n",
    "# 2つ目の要素 A[0,0]B[0,1]+A[0,1]B[1,1]+A[0,2]B[2,1]\n",
    "# 3つ目の要素 A[0,0]B[0,2]+A[0,2]B[1,2]+A[0,2]B[2,2]\n",
    "# Bの列が1ずつ増えるように\n",
    "# for j in range(B_line_size):\n",
    "# multiple = 0 和をリセット\n",
    "# multiple += A[0,i]*B[i,j]\n",
    "# 4つ目の要素 A[1,0]B[0,0]+A[1,1]B[1,0]+A[1,2]B[2,0]\n",
    "# 7つ目の要素 A[2,0]B[0,0]+A[2,1]B[1,0]+A[2,2]B[2,0]\n",
    "# Aの行が1ずつ増えるように\n",
    "# for k in range(A_line_size):\n",
    "# multiple += A[k,i]*B[i,j]\n",
    "A_column_size = A.shape[1]\n",
    "B_line_size = B.shape[0]\n",
    "A_line_size = A.shape[0]\n",
    "value_list = []\n",
    "\n",
    "for k in range(A_line_size):\n",
    "    for j in range(B_line_size):\n",
    "        multiple = 0\n",
    "        for i in range(A_column_size):\n",
    "            multiple += A[k,i]*B[i,j]\n",
    "            print('Aの行列{}{}'.format(k,i))\n",
    "            print('Bの行列{}{}'.format(i,j))\n",
    "            print(multiple)\n",
    "            print('-------------')\n",
    "        value_list.append(multiple)\n",
    "            \n",
    "print(value_list)\n",
    "AB = np.array(value_list)\n",
    "AB = AB.reshape(3,3)\n",
    "print(AB)"
   ]
  },
  {
   "cell_type": "code",
   "execution_count": 6,
   "metadata": {},
   "outputs": [
    {
     "name": "stdout",
     "output_type": "stream",
     "text": [
      "Aの行列00\n",
      "Bの行列00\n",
      "0\n",
      "-------------\n",
      "Aの行列01\n",
      "Bの行列10\n",
      "0\n",
      "-------------\n",
      "Aの行列02\n",
      "Bの行列20\n",
      "6\n",
      "-------------\n",
      "Aの行列00\n",
      "Bの行列01\n",
      "-2\n",
      "-------------\n",
      "Aの行列01\n",
      "Bの行列11\n",
      "2\n",
      "-------------\n",
      "Aの行列02\n",
      "Bの行列21\n",
      "29\n",
      "-------------\n",
      "Aの行列00\n",
      "Bの行列02\n",
      "-1\n",
      "-------------\n",
      "Aの行列01\n",
      "Bの行列12\n",
      "-17\n",
      "-------------\n",
      "Aの行列02\n",
      "Bの行列22\n",
      "-20\n",
      "-------------\n",
      "Aの行列10\n",
      "Bの行列00\n",
      "0\n",
      "-------------\n",
      "Aの行列11\n",
      "Bの行列10\n",
      "0\n",
      "-------------\n",
      "Aの行列12\n",
      "Bの行列20\n",
      "12\n",
      "-------------\n",
      "Aの行列10\n",
      "Bの行列01\n",
      "8\n",
      "-------------\n",
      "Aの行列11\n",
      "Bの行列11\n",
      "-2\n",
      "-------------\n",
      "Aの行列12\n",
      "Bの行列21\n",
      "52\n",
      "-------------\n",
      "Aの行列10\n",
      "Bの行列02\n",
      "4\n",
      "-------------\n",
      "Aの行列11\n",
      "Bの行列12\n",
      "44\n",
      "-------------\n",
      "Aの行列12\n",
      "Bの行列22\n",
      "38\n",
      "-------------\n",
      "Aの行列20\n",
      "Bの行列00\n",
      "0\n",
      "-------------\n",
      "Aの行列21\n",
      "Bの行列10\n",
      "0\n",
      "-------------\n",
      "Aの行列22\n",
      "Bの行列20\n",
      "-18\n",
      "-------------\n",
      "Aの行列20\n",
      "Bの行列01\n",
      "14\n",
      "-------------\n",
      "Aの行列21\n",
      "Bの行列11\n",
      "30\n",
      "-------------\n",
      "Aの行列22\n",
      "Bの行列21\n",
      "-51\n",
      "-------------\n",
      "Aの行列20\n",
      "Bの行列02\n",
      "7\n",
      "-------------\n",
      "Aの行列21\n",
      "Bの行列12\n",
      "-57\n",
      "-------------\n",
      "Aの行列22\n",
      "Bの行列22\n",
      "-48\n",
      "-------------\n",
      "[[  6.  29. -20.]\n",
      " [ 12.  52.  38.]\n",
      " [-18. -51. -48.]]\n"
     ]
    }
   ],
   "source": [
    "# after_fixed \n",
    "A_column_size = A.shape[1]\n",
    "B_line_size = B.shape[0]\n",
    "A_line_size = A.shape[0]\n",
    "# making empty matrix\n",
    "AB = np.empty((B_line_size, A_column_size)) # Pass in tuple\n",
    "for k in range(A_line_size):\n",
    "    for j in range(B_line_size):\n",
    "        multiple = 0\n",
    "        for i in range(A_column_size):\n",
    "            multiple += A[k,i]*B[i,j]\n",
    "            print('Aの行列{}{}'.format(k,i))\n",
    "            print('Bの行列{}{}'.format(i,j))\n",
    "            print(multiple)\n",
    "            print('-------------')\n",
    "        AB[k,j] = multiple\n",
    "print(AB)"
   ]
  },
  {
   "cell_type": "code",
   "execution_count": 7,
   "metadata": {},
   "outputs": [
    {
     "name": "stdout",
     "output_type": "stream",
     "text": [
      "0 0\n",
      "0 1\n",
      "0 2\n",
      "1 0\n",
      "1 1\n",
      "1 2\n",
      "2 0\n",
      "2 1\n",
      "2 2\n",
      "[[  6.  29. -20.]\n",
      " [ 12.  52.  38.]\n",
      " [-18. -51. -48.]]\n"
     ]
    }
   ],
   "source": [
    "# use_adamal_sum\n",
    "A_column_size = A.shape[1]\n",
    "B_line_size = B.shape[0]\n",
    "A_line_size = A.shape[0]\n",
    "# making empty matrix\n",
    "AB = np.empty((B_line_size, A_column_size)) # Pass in tuple\n",
    "for i in range(A_column_size):\n",
    "    for j in range(B_line_size):\n",
    "        # vector adamal and sum\n",
    "        AB[i,j] = np.sum(A[i,:]*B[:,j])\n",
    "        print(i,j)\n",
    "print(AB)"
   ]
  },
  {
   "cell_type": "markdown",
   "metadata": {},
   "source": [
    "## 課題4 内積をnp.dotで計算しよう"
   ]
  },
  {
   "cell_type": "code",
   "execution_count": 8,
   "metadata": {},
   "outputs": [
    {
     "data": {
      "text/plain": [
       "array([[  6,  29, -20],\n",
       "       [ 12,  52,  38],\n",
       "       [-18, -51, -48]])"
      ]
     },
     "execution_count": 8,
     "metadata": {},
     "output_type": "execute_result"
    }
   ],
   "source": [
    "np.dot(A, B)"
   ]
  },
  {
   "cell_type": "markdown",
   "metadata": {},
   "source": [
    "## 課題5 内積ができないときはどうするか\n"
   ]
  },
  {
   "cell_type": "code",
   "execution_count": 9,
   "metadata": {},
   "outputs": [
    {
     "name": "stdout",
     "output_type": "stream",
     "text": [
      "[[-1  2  3]\n",
      " [ 4  5  6]]\n",
      "[[-1  4]\n",
      " [ 2  5]\n",
      " [ 3  6]]\n",
      "[[-9  8  7]\n",
      " [ 6 -5  4]]\n",
      "[[-9  6]\n",
      " [ 8 -5]\n",
      " [ 7  4]]\n",
      "[[ 33 -28   9]\n",
      " [ 12  -9  34]\n",
      " [  9  -6  45]]\n",
      "[[46 -4]\n",
      " [46 23]]\n"
     ]
    }
   ],
   "source": [
    "A = np.array([-1, 2, 3, 4, 5, 6])\n",
    "A = A.reshape(2,3)\n",
    "print(A)\n",
    "print(A.T)\n",
    "B = np.array([-9, 8, 7, 6, -5, 4])\n",
    "B = B.reshape(2,3)\n",
    "print(B)\n",
    "print(B.T)\n",
    "#AB = np.dot(A, B)\n",
    "ATB = np.dot(A.T, B)\n",
    "print(ATB)\n",
    "ABT = np.dot(A, B.T)\n",
    "print(ABT)"
   ]
  },
  {
   "cell_type": "code",
   "execution_count": null,
   "metadata": {},
   "outputs": [],
   "source": []
  }
 ],
 "metadata": {
  "kernelspec": {
   "display_name": "Python 3",
   "language": "python",
   "name": "python3"
  },
  "language_info": {
   "codemirror_mode": {
    "name": "ipython",
    "version": 3
   },
   "file_extension": ".py",
   "mimetype": "text/x-python",
   "name": "python",
   "nbconvert_exporter": "python",
   "pygments_lexer": "ipython3",
   "version": "3.6.7"
  }
 },
 "nbformat": 4,
 "nbformat_minor": 2
}
