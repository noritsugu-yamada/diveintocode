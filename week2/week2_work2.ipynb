{
 "cells": [
  {
   "cell_type": "markdown",
   "metadata": {},
   "source": [
    "## 課題1 0~1の範囲で0.01ごとにデータをnumpy配列で作成"
   ]
  },
  {
   "cell_type": "code",
   "execution_count": 1,
   "metadata": {
    "scrolled": true
   },
   "outputs": [
    {
     "data": {
      "text/plain": [
       "array([0.  , 0.01, 0.02, 0.03, 0.04, 0.05, 0.06, 0.07, 0.08, 0.09, 0.1 ,\n",
       "       0.11, 0.12, 0.13, 0.14, 0.15, 0.16, 0.17, 0.18, 0.19, 0.2 , 0.21,\n",
       "       0.22, 0.23, 0.24, 0.25, 0.26, 0.27, 0.28, 0.29, 0.3 , 0.31, 0.32,\n",
       "       0.33, 0.34, 0.35, 0.36, 0.37, 0.38, 0.39, 0.4 , 0.41, 0.42, 0.43,\n",
       "       0.44, 0.45, 0.46, 0.47, 0.48, 0.49, 0.5 , 0.51, 0.52, 0.53, 0.54,\n",
       "       0.55, 0.56, 0.57, 0.58, 0.59, 0.6 , 0.61, 0.62, 0.63, 0.64, 0.65,\n",
       "       0.66, 0.67, 0.68, 0.69, 0.7 , 0.71, 0.72, 0.73, 0.74, 0.75, 0.76,\n",
       "       0.77, 0.78, 0.79, 0.8 , 0.81, 0.82, 0.83, 0.84, 0.85, 0.86, 0.87,\n",
       "       0.88, 0.89, 0.9 , 0.91, 0.92, 0.93, 0.94, 0.95, 0.96, 0.97, 0.98,\n",
       "       0.99, 1.  ])"
      ]
     },
     "execution_count": 1,
     "metadata": {},
     "output_type": "execute_result"
    }
   ],
   "source": [
    "import numpy as np\n",
    "x = np.linspace(0, 1, 101)\n",
    "x"
   ]
  },
  {
   "cell_type": "markdown",
   "metadata": {},
   "source": [
    "## 課題2 2次元配列を作ろう"
   ]
  },
  {
   "cell_type": "code",
   "execution_count": 2,
   "metadata": {},
   "outputs": [
    {
     "data": {
      "text/plain": [
       "array([1.   , 1.005, 1.01 , 1.015, 1.02 , 1.025, 1.03 , 1.035, 1.04 ,\n",
       "       1.045, 1.05 , 1.055, 1.06 , 1.065, 1.07 , 1.075, 1.08 , 1.085,\n",
       "       1.09 , 1.095, 1.1  , 1.105, 1.11 , 1.115, 1.12 , 1.125, 1.13 ,\n",
       "       1.135, 1.14 , 1.145, 1.15 , 1.155, 1.16 , 1.165, 1.17 , 1.175,\n",
       "       1.18 , 1.185, 1.19 , 1.195, 1.2  , 1.205, 1.21 , 1.215, 1.22 ,\n",
       "       1.225, 1.23 , 1.235, 1.24 , 1.245, 1.25 , 1.255, 1.26 , 1.265,\n",
       "       1.27 , 1.275, 1.28 , 1.285, 1.29 , 1.295, 1.3  , 1.305, 1.31 ,\n",
       "       1.315, 1.32 , 1.325, 1.33 , 1.335, 1.34 , 1.345, 1.35 , 1.355,\n",
       "       1.36 , 1.365, 1.37 , 1.375, 1.38 , 1.385, 1.39 , 1.395, 1.4  ,\n",
       "       1.405, 1.41 , 1.415, 1.42 , 1.425, 1.43 , 1.435, 1.44 , 1.445,\n",
       "       1.45 , 1.455, 1.46 , 1.465, 1.47 , 1.475, 1.48 , 1.485, 1.49 ,\n",
       "       1.495, 1.5  ])"
      ]
     },
     "execution_count": 2,
     "metadata": {},
     "output_type": "execute_result"
    }
   ],
   "source": [
    "# y = aX + b\n",
    "a = 0.5\n",
    "b = 1\n",
    "y = a*x +b\n",
    "y"
   ]
  },
  {
   "cell_type": "code",
   "execution_count": 3,
   "metadata": {},
   "outputs": [
    {
     "name": "stdout",
     "output_type": "stream",
     "text": [
      "[[0.    1.   ]\n",
      " [0.01  1.005]\n",
      " [0.02  1.01 ]\n",
      " [0.03  1.015]\n",
      " [0.04  1.02 ]\n",
      " [0.05  1.025]\n",
      " [0.06  1.03 ]\n",
      " [0.07  1.035]\n",
      " [0.08  1.04 ]\n",
      " [0.09  1.045]\n",
      " [0.1   1.05 ]\n",
      " [0.11  1.055]\n",
      " [0.12  1.06 ]\n",
      " [0.13  1.065]\n",
      " [0.14  1.07 ]\n",
      " [0.15  1.075]\n",
      " [0.16  1.08 ]\n",
      " [0.17  1.085]\n",
      " [0.18  1.09 ]\n",
      " [0.19  1.095]\n",
      " [0.2   1.1  ]\n",
      " [0.21  1.105]\n",
      " [0.22  1.11 ]\n",
      " [0.23  1.115]\n",
      " [0.24  1.12 ]\n",
      " [0.25  1.125]\n",
      " [0.26  1.13 ]\n",
      " [0.27  1.135]\n",
      " [0.28  1.14 ]\n",
      " [0.29  1.145]\n",
      " [0.3   1.15 ]\n",
      " [0.31  1.155]\n",
      " [0.32  1.16 ]\n",
      " [0.33  1.165]\n",
      " [0.34  1.17 ]\n",
      " [0.35  1.175]\n",
      " [0.36  1.18 ]\n",
      " [0.37  1.185]\n",
      " [0.38  1.19 ]\n",
      " [0.39  1.195]\n",
      " [0.4   1.2  ]\n",
      " [0.41  1.205]\n",
      " [0.42  1.21 ]\n",
      " [0.43  1.215]\n",
      " [0.44  1.22 ]\n",
      " [0.45  1.225]\n",
      " [0.46  1.23 ]\n",
      " [0.47  1.235]\n",
      " [0.48  1.24 ]\n",
      " [0.49  1.245]\n",
      " [0.5   1.25 ]\n",
      " [0.51  1.255]\n",
      " [0.52  1.26 ]\n",
      " [0.53  1.265]\n",
      " [0.54  1.27 ]\n",
      " [0.55  1.275]\n",
      " [0.56  1.28 ]\n",
      " [0.57  1.285]\n",
      " [0.58  1.29 ]\n",
      " [0.59  1.295]\n",
      " [0.6   1.3  ]\n",
      " [0.61  1.305]\n",
      " [0.62  1.31 ]\n",
      " [0.63  1.315]\n",
      " [0.64  1.32 ]\n",
      " [0.65  1.325]\n",
      " [0.66  1.33 ]\n",
      " [0.67  1.335]\n",
      " [0.68  1.34 ]\n",
      " [0.69  1.345]\n",
      " [0.7   1.35 ]\n",
      " [0.71  1.355]\n",
      " [0.72  1.36 ]\n",
      " [0.73  1.365]\n",
      " [0.74  1.37 ]\n",
      " [0.75  1.375]\n",
      " [0.76  1.38 ]\n",
      " [0.77  1.385]\n",
      " [0.78  1.39 ]\n",
      " [0.79  1.395]\n",
      " [0.8   1.4  ]\n",
      " [0.81  1.405]\n",
      " [0.82  1.41 ]\n",
      " [0.83  1.415]\n",
      " [0.84  1.42 ]\n",
      " [0.85  1.425]\n",
      " [0.86  1.43 ]\n",
      " [0.87  1.435]\n",
      " [0.88  1.44 ]\n",
      " [0.89  1.445]\n",
      " [0.9   1.45 ]\n",
      " [0.91  1.455]\n",
      " [0.92  1.46 ]\n",
      " [0.93  1.465]\n",
      " [0.94  1.47 ]\n",
      " [0.95  1.475]\n",
      " [0.96  1.48 ]\n",
      " [0.97  1.485]\n",
      " [0.98  1.49 ]\n",
      " [0.99  1.495]\n",
      " [1.    1.5  ]]\n"
     ]
    }
   ],
   "source": [
    "# making 2dimensions Compare x and y\n",
    "Z = np.vstack([x,y]).T\n",
    "print(Z)"
   ]
  },
  {
   "cell_type": "code",
   "execution_count": 4,
   "metadata": {},
   "outputs": [
    {
     "data": {
      "text/plain": [
       "array([1.   , 1.005, 1.01 , 1.015, 1.02 , 1.025, 1.03 , 1.035, 1.04 ,\n",
       "       1.045, 1.05 , 1.055, 1.06 , 1.065, 1.07 , 1.075, 1.08 , 1.085,\n",
       "       1.09 , 1.095, 1.1  , 1.105, 1.11 , 1.115, 1.12 , 1.125, 1.13 ,\n",
       "       1.135, 1.14 , 1.145, 1.15 , 1.155, 1.16 , 1.165, 1.17 , 1.175,\n",
       "       1.18 , 1.185, 1.19 , 1.195, 1.2  , 1.205, 1.21 , 1.215, 1.22 ,\n",
       "       1.225, 1.23 , 1.235, 1.24 , 1.245, 1.25 , 1.255, 1.26 , 1.265,\n",
       "       1.27 , 1.275, 1.28 , 1.285, 1.29 , 1.295, 1.3  , 1.305, 1.31 ,\n",
       "       1.315, 1.32 , 1.325, 1.33 , 1.335, 1.34 , 1.345, 1.35 , 1.355,\n",
       "       1.36 , 1.365, 1.37 , 1.375, 1.38 , 1.385, 1.39 , 1.395, 1.4  ,\n",
       "       1.405, 1.41 , 1.415, 1.42 , 1.425, 1.43 , 1.435, 1.44 , 1.445,\n",
       "       1.45 , 1.455, 1.46 , 1.465, 1.47 , 1.475, 1.48 , 1.485, 1.49 ,\n",
       "       1.495, 1.5  ])"
      ]
     },
     "execution_count": 4,
     "metadata": {},
     "output_type": "execute_result"
    }
   ],
   "source": [
    "Z[:,1]"
   ]
  },
  {
   "cell_type": "markdown",
   "metadata": {},
   "source": [
    "## 課題3 勾配を求めよう"
   ]
  },
  {
   "cell_type": "code",
   "execution_count": 5,
   "metadata": {},
   "outputs": [
    {
     "name": "stdout",
     "output_type": "stream",
     "text": [
      "[0.005 0.005 0.005 0.005 0.005 0.005 0.005 0.005 0.005 0.005 0.005 0.005\n",
      " 0.005 0.005 0.005 0.005 0.005 0.005 0.005 0.005 0.005 0.005 0.005 0.005\n",
      " 0.005 0.005 0.005 0.005 0.005 0.005 0.005 0.005 0.005 0.005 0.005 0.005\n",
      " 0.005 0.005 0.005 0.005 0.005 0.005 0.005 0.005 0.005 0.005 0.005 0.005\n",
      " 0.005 0.005 0.005 0.005 0.005 0.005 0.005 0.005 0.005 0.005 0.005 0.005\n",
      " 0.005 0.005 0.005 0.005 0.005 0.005 0.005 0.005 0.005 0.005 0.005 0.005\n",
      " 0.005 0.005 0.005 0.005 0.005 0.005 0.005 0.005 0.005 0.005 0.005 0.005\n",
      " 0.005 0.005 0.005 0.005 0.005 0.005 0.005 0.005 0.005 0.005 0.005 0.005\n",
      " 0.005 0.005 0.005 0.005]\n",
      "[0.01 0.01 0.01 0.01 0.01 0.01 0.01 0.01 0.01 0.01 0.01 0.01 0.01 0.01\n",
      " 0.01 0.01 0.01 0.01 0.01 0.01 0.01 0.01 0.01 0.01 0.01 0.01 0.01 0.01\n",
      " 0.01 0.01 0.01 0.01 0.01 0.01 0.01 0.01 0.01 0.01 0.01 0.01 0.01 0.01\n",
      " 0.01 0.01 0.01 0.01 0.01 0.01 0.01 0.01 0.01 0.01 0.01 0.01 0.01 0.01\n",
      " 0.01 0.01 0.01 0.01 0.01 0.01 0.01 0.01 0.01 0.01 0.01 0.01 0.01 0.01\n",
      " 0.01 0.01 0.01 0.01 0.01 0.01 0.01 0.01 0.01 0.01 0.01 0.01 0.01 0.01\n",
      " 0.01 0.01 0.01 0.01 0.01 0.01 0.01 0.01 0.01 0.01 0.01 0.01 0.01 0.01\n",
      " 0.01 0.01]\n",
      "[0.5 0.5 0.5 0.5 0.5 0.5 0.5 0.5 0.5 0.5 0.5 0.5 0.5 0.5 0.5 0.5 0.5 0.5\n",
      " 0.5 0.5 0.5 0.5 0.5 0.5 0.5 0.5 0.5 0.5 0.5 0.5 0.5 0.5 0.5 0.5 0.5 0.5\n",
      " 0.5 0.5 0.5 0.5 0.5 0.5 0.5 0.5 0.5 0.5 0.5 0.5 0.5 0.5 0.5 0.5 0.5 0.5\n",
      " 0.5 0.5 0.5 0.5 0.5 0.5 0.5 0.5 0.5 0.5 0.5 0.5 0.5 0.5 0.5 0.5 0.5 0.5\n",
      " 0.5 0.5 0.5 0.5 0.5 0.5 0.5 0.5 0.5 0.5 0.5 0.5 0.5 0.5 0.5 0.5 0.5 0.5\n",
      " 0.5 0.5 0.5 0.5 0.5 0.5 0.5 0.5 0.5 0.5 0.5]\n",
      "(101,)\n"
     ]
    }
   ],
   "source": [
    "# 勾配=yの変化量/xの変化量\n",
    "# Z[1]はy Z[0]はxの配列\n",
    "Change_amount_of_y = Z[1:,1] - Z[:100,1]\n",
    "Change_amount_of_x = Z[1:,0] - Z[:100,0]\n",
    "print(Change_amount_of_y)\n",
    "print(Change_amount_of_x)\n",
    "gradient = Change_amount_of_y / Change_amount_of_x\n",
    "gradient = np.insert(gradient,100, 0.5)\n",
    "print(gradient)\n",
    "print(gradient.shape)"
   ]
  },
  {
   "cell_type": "markdown",
   "metadata": {},
   "source": [
    "## 課題4 配列、勾配、グラフを作ろう"
   ]
  },
  {
   "cell_type": "code",
   "execution_count": 6,
   "metadata": {},
   "outputs": [
    {
     "name": "stdout",
     "output_type": "stream",
     "text": [
      "[[0.000e+00 0.000e+00]\n",
      " [1.000e-02 1.000e-04]\n",
      " [2.000e-02 4.000e-04]\n",
      " [3.000e-02 9.000e-04]\n",
      " [4.000e-02 1.600e-03]\n",
      " [5.000e-02 2.500e-03]\n",
      " [6.000e-02 3.600e-03]\n",
      " [7.000e-02 4.900e-03]\n",
      " [8.000e-02 6.400e-03]\n",
      " [9.000e-02 8.100e-03]\n",
      " [1.000e-01 1.000e-02]\n",
      " [1.100e-01 1.210e-02]\n",
      " [1.200e-01 1.440e-02]\n",
      " [1.300e-01 1.690e-02]\n",
      " [1.400e-01 1.960e-02]\n",
      " [1.500e-01 2.250e-02]\n",
      " [1.600e-01 2.560e-02]\n",
      " [1.700e-01 2.890e-02]\n",
      " [1.800e-01 3.240e-02]\n",
      " [1.900e-01 3.610e-02]\n",
      " [2.000e-01 4.000e-02]\n",
      " [2.100e-01 4.410e-02]\n",
      " [2.200e-01 4.840e-02]\n",
      " [2.300e-01 5.290e-02]\n",
      " [2.400e-01 5.760e-02]\n",
      " [2.500e-01 6.250e-02]\n",
      " [2.600e-01 6.760e-02]\n",
      " [2.700e-01 7.290e-02]\n",
      " [2.800e-01 7.840e-02]\n",
      " [2.900e-01 8.410e-02]\n",
      " [3.000e-01 9.000e-02]\n",
      " [3.100e-01 9.610e-02]\n",
      " [3.200e-01 1.024e-01]\n",
      " [3.300e-01 1.089e-01]\n",
      " [3.400e-01 1.156e-01]\n",
      " [3.500e-01 1.225e-01]\n",
      " [3.600e-01 1.296e-01]\n",
      " [3.700e-01 1.369e-01]\n",
      " [3.800e-01 1.444e-01]\n",
      " [3.900e-01 1.521e-01]\n",
      " [4.000e-01 1.600e-01]\n",
      " [4.100e-01 1.681e-01]\n",
      " [4.200e-01 1.764e-01]\n",
      " [4.300e-01 1.849e-01]\n",
      " [4.400e-01 1.936e-01]\n",
      " [4.500e-01 2.025e-01]\n",
      " [4.600e-01 2.116e-01]\n",
      " [4.700e-01 2.209e-01]\n",
      " [4.800e-01 2.304e-01]\n",
      " [4.900e-01 2.401e-01]\n",
      " [5.000e-01 2.500e-01]\n",
      " [5.100e-01 2.601e-01]\n",
      " [5.200e-01 2.704e-01]\n",
      " [5.300e-01 2.809e-01]\n",
      " [5.400e-01 2.916e-01]\n",
      " [5.500e-01 3.025e-01]\n",
      " [5.600e-01 3.136e-01]\n",
      " [5.700e-01 3.249e-01]\n",
      " [5.800e-01 3.364e-01]\n",
      " [5.900e-01 3.481e-01]\n",
      " [6.000e-01 3.600e-01]\n",
      " [6.100e-01 3.721e-01]\n",
      " [6.200e-01 3.844e-01]\n",
      " [6.300e-01 3.969e-01]\n",
      " [6.400e-01 4.096e-01]\n",
      " [6.500e-01 4.225e-01]\n",
      " [6.600e-01 4.356e-01]\n",
      " [6.700e-01 4.489e-01]\n",
      " [6.800e-01 4.624e-01]\n",
      " [6.900e-01 4.761e-01]\n",
      " [7.000e-01 4.900e-01]\n",
      " [7.100e-01 5.041e-01]\n",
      " [7.200e-01 5.184e-01]\n",
      " [7.300e-01 5.329e-01]\n",
      " [7.400e-01 5.476e-01]\n",
      " [7.500e-01 5.625e-01]\n",
      " [7.600e-01 5.776e-01]\n",
      " [7.700e-01 5.929e-01]\n",
      " [7.800e-01 6.084e-01]\n",
      " [7.900e-01 6.241e-01]\n",
      " [8.000e-01 6.400e-01]\n",
      " [8.100e-01 6.561e-01]\n",
      " [8.200e-01 6.724e-01]\n",
      " [8.300e-01 6.889e-01]\n",
      " [8.400e-01 7.056e-01]\n",
      " [8.500e-01 7.225e-01]\n",
      " [8.600e-01 7.396e-01]\n",
      " [8.700e-01 7.569e-01]\n",
      " [8.800e-01 7.744e-01]\n",
      " [8.900e-01 7.921e-01]\n",
      " [9.000e-01 8.100e-01]\n",
      " [9.100e-01 8.281e-01]\n",
      " [9.200e-01 8.464e-01]\n",
      " [9.300e-01 8.649e-01]\n",
      " [9.400e-01 8.836e-01]\n",
      " [9.500e-01 9.025e-01]\n",
      " [9.600e-01 9.216e-01]\n",
      " [9.700e-01 9.409e-01]\n",
      " [9.800e-01 9.604e-01]\n",
      " [9.900e-01 9.801e-01]\n",
      " [1.000e+00 1.000e+00]]\n",
      "(101, 2)\n",
      "[0.01 0.03 0.05 0.07 0.09 0.11 0.13 0.15 0.17 0.19 0.21 0.23 0.25 0.27\n",
      " 0.29 0.31 0.33 0.35 0.37 0.39 0.41 0.43 0.45 0.47 0.49 0.51 0.53 0.55\n",
      " 0.57 0.59 0.61 0.63 0.65 0.67 0.69 0.71 0.73 0.75 0.77 0.79 0.81 0.83\n",
      " 0.85 0.87 0.89 0.91 0.93 0.95 0.97 0.99 1.01 1.03 1.05 1.07 1.09 1.11\n",
      " 1.13 1.15 1.17 1.19 1.21 1.23 1.25 1.27 1.29 1.31 1.33 1.35 1.37 1.39\n",
      " 1.41 1.43 1.45 1.47 1.49 1.51 1.53 1.55 1.57 1.59 1.61 1.63 1.65 1.67\n",
      " 1.69 1.71 1.73 1.75 1.77 1.79 1.81 1.83 1.85 1.87 1.89 1.91 1.93 1.95\n",
      " 1.97 1.99 2.01]\n"
     ]
    },
    {
     "data": {
      "image/png": "[encoded data removed]",
      "text/plain": [
       "<Figure size 432x288 with 1 Axes>"
      ]
     },
     "metadata": {
      "needs_background": "light"
     },
     "output_type": "display_data"
    }
   ],
   "source": [
    "import matplotlib.pyplot as plt\n",
    "%matplotlib inline\n",
    "x = np.linspace(0, 1, 101)\n",
    "y = x**2 \n",
    "Z = np.vstack([x,y]).T\n",
    "print(Z)\n",
    "print(Z.shape)\n",
    "Change_amount_of_y = Z[1:,1] - Z[:100,1]\n",
    "Change_amount_of_x = Z[1:,0] - Z[:100,0]\n",
    "gradient = Change_amount_of_y / Change_amount_of_x\n",
    "gradient = np.insert(gradient,100, 2.01)\n",
    "print(gradient)\n",
    "\n",
    "plt.title('gradient')\n",
    "plt.plot(gradient, x)\n",
    "plt.xlabel('x')\n",
    "plt.ylabel('y')\n",
    "plt.show()"
   ]
  },
  {
   "cell_type": "markdown",
   "metadata": {},
   "source": [
    "## 課題5 最小値の求め方を説明する"
   ]
  },
  {
   "cell_type": "markdown",
   "metadata": {},
   "source": [
    "勾配降下法とは最適化問題をコンピューターに解かせるための手法である.\n",
    "前提として微分可能である必要がある.\n",
    "関数が下に凸である場合に現在の勾配の逆方向に移動して再度勾配を観測し,移動する(update).\n",
    "これを繰り返し勾配が0になった時にその点を最小値とする(極値).\n",
    "y = x^2の場合勾配が0になる点がx=0のみなのでいずれx=0に収束すると考えられる.\n"
   ]
  },
  {
   "cell_type": "markdown",
   "metadata": {},
   "source": [
    "## 課題6 微分法で最小値を求める"
   ]
  },
  {
   "cell_type": "markdown",
   "metadata": {},
   "source": [
    "微分法でy = x^2 + 5xの最小値を求める\n",
    "y = x ** 2 + 5 * x\n",
    "1階微分をfirst_differential, 2階微分をsecond_differentialとする.\n",
    "first_differential = 2*x + 5\n",
    "second_differential = 2\n",
    "二階微分>0なのでy = x**2 + 5*x は下に凸な関数\n",
    "最小値は1階微分=0 となるxで\n",
    "x = -5/2, y = -25/4"
   ]
  },
  {
   "cell_type": "code",
   "execution_count": 7,
   "metadata": {},
   "outputs": [
    {
     "name": "stdout",
     "output_type": "stream",
     "text": [
      "[ 0.     -0.2475 -0.49   -0.7275 -0.96   -1.1875 -1.41   -1.6275 -1.84\n",
      " -2.0475 -2.25   -2.4475 -2.64   -2.8275 -3.01   -3.1875 -3.36   -3.5275\n",
      " -3.69   -3.8475 -4.     -4.1475 -4.29   -4.4275 -4.56   -4.6875 -4.81\n",
      " -4.9275 -5.04   -5.1475 -5.25   -5.3475 -5.44   -5.5275 -5.61   -5.6875\n",
      " -5.76   -5.8275 -5.89   -5.9475 -6.     -6.0475 -6.09   -6.1275 -6.16\n",
      " -6.1875 -6.21   -6.2275 -6.24   -6.2475 -6.25   -6.2475 -6.24   -6.2275\n",
      " -6.21   -6.1875 -6.16   -6.1275 -6.09   -6.0475 -6.     -5.9475 -5.89\n",
      " -5.8275 -5.76   -5.6875 -5.61   -5.5275 -5.44   -5.3475 -5.25   -5.1475\n",
      " -5.04   -4.9275 -4.81   -4.6875 -4.56   -4.4275 -4.29   -4.1475 -4.\n",
      " -3.8475 -3.69   -3.5275 -3.36   -3.1875 -3.01   -2.8275 -2.64   -2.4475\n",
      " -2.25   -2.0475 -1.84   -1.6275 -1.41   -1.1875 -0.96   -0.7275 -0.49\n",
      " -0.2475  0.    ]\n"
     ]
    },
    {
     "data": {
      "image/png": "[encoded data removed]",
      "text/plain": [
       "<Figure size 432x288 with 1 Axes>"
      ]
     },
     "metadata": {
      "needs_background": "light"
     },
     "output_type": "display_data"
    }
   ],
   "source": [
    "x = np.linspace(-5, 0, 101)\n",
    "y = x ** 2 + 5 * x\n",
    "print(y)\n",
    "plt.title('y = x^2 + 5x')\n",
    "plt.plot(x, y)\n",
    "plt.show()"
   ]
  },
  {
   "cell_type": "code",
   "execution_count": null,
   "metadata": {},
   "outputs": [],
   "source": []
  }
 ],
 "metadata": {
  "kernelspec": {
   "display_name": "Python 3",
   "language": "python",
   "name": "python3"
  },
  "language_info": {
   "codemirror_mode": {
    "name": "ipython",
    "version": 3
   },
   "file_extension": ".py",
   "mimetype": "text/x-python",
   "name": "python",
   "nbconvert_exporter": "python",
   "pygments_lexer": "ipython3",
   "version": "3.6.7"
  }
 },
 "nbformat": 4,
 "nbformat_minor": 2
}
