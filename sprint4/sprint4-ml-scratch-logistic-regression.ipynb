{
 "cells": [
  {
   "cell_type": "code",
   "execution_count": 1,
   "metadata": {},
   "outputs": [],
   "source": [
    "class ScratchLogisticRegression():\n",
    "    \"\"\"\n",
    "    parameter\n",
    "    ---------\n",
    "    max_iter: int : default 100\n",
    "      イテレーション回数\n",
    "    lr : float : default 0.01\n",
    "      learning_rate\n",
    "    penalty_coefficient : float : default 1.0 \n",
    "      正則化項の重み(lambda)\n",
    "    verbose : bool : default False\n",
    "      学習記録の視覚化\n",
    "    random_state : bool default False\n",
    "      乱数を固定するか\n",
    "\n",
    "    \n",
    "    Attribute\n",
    "    ---------\n",
    "    coef_ : ndarrya (n_features, 1)\n",
    "      特徴量の重みベクトル\n",
    "    loss : 次の形のndarray shape(max_iter, 1)\n",
    "      iter毎のloss \n",
    "    val_loss : 次の形のndarray shape(max_iter, 1)\n",
    "      iter毎のvalidation_loss\n",
    "    \n",
    "    \"\"\"\n",
    "    \n",
    "    def __init__(self, max_iter=100, lr=0.01, penalty_coefficient=1.0 , verbose=False, random_state=False):\n",
    "        # parameterを属性として記録\n",
    "        self.max_iter = max_iter\n",
    "        self.lr = lr\n",
    "        self.penalty_coefficient = penalty_coefficient\n",
    "        self.random_state = random_state\n",
    "        \n",
    "        self.loss = np.zeros(max_iter)\n",
    "        self.val_loss = np.zeros(max_iter)\n",
    "        \n",
    "    def sigmoid_function(self, X):\n",
    "        return  1/(1+np.exp(-X))\n",
    "    \n",
    "    def _sigmoid_linear_hypothesis(self, X):\n",
    "        \"\"\"\n",
    "        線形の関数を仮定してシグモイド関数の引数にすることで確率に置き換える\n",
    "        \n",
    "        Parameters\n",
    "        ----------\n",
    "        X : 次の形のndarray, shpae(n_samples, n_features)\n",
    "          学習データ\n",
    "        \n",
    "        \n",
    "        Returns\n",
    "        -------\n",
    "        次の形のndarray, shape (n_samples,)\n",
    "        [0or1]の推定結果\n",
    "        \n",
    "        \n",
    "        \"\"\"\n",
    "        # Xとthetaの行列積の計算\n",
    "        x_theta = np.dot(X, self.coef_)\n",
    "        # シグモイド関数の引数にする\n",
    "        sigmoid_x_theta = self.sigmoid_function(x_theta)\n",
    "        \n",
    "        return sigmoid_x_theta\n",
    "    \n",
    "    def cross_entropy_error(self, X, y):\n",
    "        \"\"\"\n",
    "        目的関数としてcross_entropyを導入する\n",
    "        \n",
    "        X : 次の形のndarray, shpae(n_samples, n_features)\n",
    "          学習データ\n",
    "        y : 次の形のndarray, shpae(n_samples,1)\n",
    "          正解ラベル\n",
    "          \n",
    "        return\n",
    "        cross_entropy_error : np.float\n",
    "          cross_entropy\n",
    "        \"\"\"\n",
    "        # yを整形\n",
    "        y = y.reshape(-1,1)\n",
    "        #  _sigmoid_linear_hypothesisからσ(hθx)を変数に代入\n",
    "        sigmoid_x_theta = self._sigmoid_linear_hypothesis(X)\n",
    "        # cross_entropyの1/m *Σと正則化項以外を算出\n",
    "        single_loss = -y*np.log(sigmoid_x_theta)-(1-y)*np.log(1-sigmoid_x_theta)\n",
    "        # 正則化項以外を算出\n",
    "        ids = len(y)\n",
    "        cross_entropy_error = 1/ids * np.sum(single_loss)\n",
    "        \n",
    "        # 正則化項の算出, θ0を除く\n",
    "        penalty = self.penalty_coefficient/2/ids * np.sum(self.coef_[1:]**2)\n",
    "        \n",
    "        # total_loss\n",
    "        total_loss = cross_entropy_error + penalty\n",
    "        \n",
    "        return total_loss\n",
    "        \n",
    "    def _gradient_descent(self, X, y):\n",
    "        \"\"\"\n",
    "        勾配を算出し、最急降下法で重みを更新\n",
    "        \n",
    "        X : 次の形のndarray, shpae(n_samples, n_features)\n",
    "          学習データ\n",
    "        y : 次の形のndarray, shpae(n_samples,1)\n",
    "          正解ラベル\n",
    "          \n",
    "          \n",
    "        return\n",
    "        self.coef = self.coef - lr / m * gradient\n",
    "        \n",
    "        \"\"\"\n",
    "        grad = np.zeros_like(self.coef_)\n",
    "        # θ0の勾配\n",
    "        theta_0 = self.coef_[0].reshape(1,1)\n",
    "        # Xの0列目のみ取り出して整形しσ(hθ0X)を計算\n",
    "        x0 = X[:,0].reshape(-1,1)\n",
    "        h_x_theta_0 = np.dot(x0, theta_0)\n",
    "        sigmoid_h_x_theta_0 = self.sigmoid_function(h_x_theta_0)\n",
    "        # 正解ラベルとの差を算出\n",
    "        ids = len(y)\n",
    "        delta = sigmoid_h_x_theta_0 - y.reshape(-1,1)\n",
    "        grad_0 = 1/ids * np.dot(delta.T, x0).T\n",
    "        grad[0] = grad_0\n",
    "        \n",
    "        # θjの勾配\n",
    "        # bias項の除去\n",
    "        theta_j = self.coef_[1:].reshape(self.coef_.shape[0]-1,1)\n",
    "        X_j = X[:,1:]\n",
    "        # 行列の積を計算とシグモイド関数の適用\n",
    "        h_theta_j = np.dot(X_j, theta_j)\n",
    "        sigmoid_h_theta_j = self.sigmoid_function(h_theta_j)\n",
    "        # yをvectorからmatrixにし、shapeを合わせて差をとる\n",
    "        delta_j = sigmoid_h_theta_j - y.reshape(-1,1)\n",
    "        # 勾配を算出するshapeに注意\n",
    "        gradient_theta_j = 1/ids * np.dot(delta_j.T, X_j).T\n",
    "        \n",
    "        # 正則化項\n",
    "        penalty_gradient_j = self.penalty_coefficient/ids * theta_j\n",
    "        \n",
    "        # 和をとる\n",
    "        total_gradient_j = gradient_theta_j + penalty_gradient_j\n",
    "        \n",
    "        # gradに入れる\n",
    "        grad[1:] = total_gradient_j\n",
    "        \n",
    "        # update\n",
    "        self.coef_ -= self.lr * grad\n",
    "    \n",
    "    def fit(self, X, y, X_val=None, y_val=None):\n",
    "        \"\"\"\n",
    "        ロジスティク回帰を学習する。検証用データが入力された場合はそれに対する損失と精度もイテレーションごとに計算する。\n",
    "\n",
    "        Parameters\n",
    "        ----------\n",
    "        X : 次の形のndarray, shape (n_samples, n_features)\n",
    "            学習用データの特徴量\n",
    "        y : 次の形のndarray, shape (n_samples, )\n",
    "            学習用データの正解値\n",
    "        X_val : 次の形のndarray, shape (n_samples, n_features)\n",
    "            検証用データの特徴量\n",
    "        y_val : 次の形のndarray, shape (n_samples, )\n",
    "            検証用データの正解値\n",
    "        \"\"\"\n",
    "        \n",
    "        # biasの追加\n",
    "        bias = np.ones(X.shape[0])\n",
    "        # X_valのbias\n",
    "        X = np.insert(X, 0, bias, axis=1)\n",
    "        if (X_val is not None) and (y_val is not None):\n",
    "            val_bias = np.ones(X_val.shape[0])\n",
    "            X_val = np.insert(X_val, 0, val_bias, axis=1)\n",
    "        # thetaの初期値をランダムで設定\n",
    "        if self.random_state:\n",
    "            rand_seed = 0\n",
    "            np.random.seed(rand_seed)\n",
    "            \n",
    "        self.coef_ = np.random.randn(X.shape[1]).reshape(-1,1)\n",
    "        \n",
    "        # 予測(y_pred = hθx) → クロスエントロピー → 勾配降下 → 予測\n",
    "        for i in range(self.max_iter):\n",
    "            # 予測\n",
    "            y_pred = self._sigmoid_linear_hypothesis(X)\n",
    "            # クロスエントロピー\n",
    "            self.loss[i] = self.cross_entropy_error(X, y)\n",
    "            # 勾配降下\n",
    "            self._gradient_descent(X, y)\n",
    "            \n",
    "            if (X_val is not None) and (y_val is not None):\n",
    "                #x_val_theta = np.dot(x_val, self.coef_)\n",
    "                #sigmoid_x_val_theta = self.sigmoid_function(x_val_theta)\n",
    "                self.val_loss[i] =  self.cross_entropy_error(X_val, y_val)\n",
    "                \n",
    "    def predict_proba(self, X_test):\n",
    "        test_bias = np.ones(X_test.shape[0])\n",
    "        X_test = np.insert(X_test, 0, test_bias, axis=1)\n",
    "        \n",
    "        return self._sigmoid_linear_hypothesis(X_test)\n",
    "    \n",
    "    def predict(self, X_test):\n",
    "        y_predict_proba = self.predict_proba(X_test)\n",
    "        # predict > 0.5 →1\n",
    "        y_pred = y_predict_proba > 0.5\n",
    "        y_one_hot = y_pred.astype(int)\n",
    "        y_one_hot_vector = y_one_hot.reshape(-1,)\n",
    "        \n",
    "        return y_one_hot_vector\n",
    "    \n",
    "    \n",
    "    def score(self, X_test, y_test):\n",
    "        y_one_hot_vector = self.predict(X_test)\n",
    "        # 配列を比較してnp.sumする\n",
    "        score = np.sum(y_one_hot_vector == y_test) / len(y_test)\n",
    "        \n",
    "        return score"
   ]
  },
  {
   "cell_type": "code",
   "execution_count": 2,
   "metadata": {},
   "outputs": [
    {
     "name": "stdout",
     "output_type": "stream",
     "text": [
      "X------\n",
      "[[6 1 4 4]\n",
      " [8 4 6 3]\n",
      " [5 8 7 9]]\n",
      "(3, 4)\n",
      "[[0.9999881]\n",
      " [0.9999996]\n",
      " [1.       ]]\n",
      "[1 1 1]\n",
      "0.6666666666666666\n"
     ]
    },
    {
     "data": {
      "text/plain": [
       "array([4.26912913])"
      ]
     },
     "execution_count": 2,
     "metadata": {},
     "output_type": "execute_result"
    }
   ],
   "source": [
    "import numpy as np\n",
    "# hθ(x) = g(θ.T,x)の算出\n",
    "# seedを固定して適当な行列Xを作る\n",
    "np.random.seed(0)\n",
    "X = np.random.randint(1,10,(3,4))\n",
    "print('X------')\n",
    "print(X)\n",
    "print(X.shape)\n",
    "y = np.array([0,1,1])\n",
    "\n",
    "slr = ScratchLogisticRegression(max_iter=1, lr=0.001)\n",
    "slr.fit(X, y)\n",
    "print(slr.predict_proba(X))\n",
    "print(slr.predict(X))\n",
    "print(slr.score(X,y))\n",
    "\n",
    "slr.loss"
   ]
  },
  {
   "cell_type": "code",
   "execution_count": 3,
   "metadata": {},
   "outputs": [],
   "source": [
    "import numpy as np\n",
    "import pandas as pd\n",
    "import sys\n",
    "from sklearn.model_selection import train_test_split\n",
    "from sklearn.datasets import load_iris\n",
    "import matplotlib.pyplot as plt\n",
    "%matplotlib inline"
   ]
  },
  {
   "cell_type": "code",
   "execution_count": 4,
   "metadata": {},
   "outputs": [],
   "source": [
    "# iris DataFrame化\n",
    "iris = load_iris()\n",
    "df = pd.DataFrame(iris.data, columns=iris.feature_names)\n",
    "df['target'] = iris.target_names[iris.target]"
   ]
  },
  {
   "cell_type": "code",
   "execution_count": 13,
   "metadata": {},
   "outputs": [],
   "source": [
    "df_vergicolor_and_virginica = df[df['target'] != 'setosa']\n",
    "y = df_vergicolor_and_virginica['target'].values"
   ]
  },
  {
   "cell_type": "code",
   "execution_count": 6,
   "metadata": {
    "scrolled": true
   },
   "outputs": [
    {
     "data": {
      "text/plain": [
       "array([0, 0, 0, 0, 0, 0, 0, 0, 0, 0, 0, 0, 0, 0, 0, 0, 0, 0, 0, 0, 0, 0,\n",
       "       0, 0, 0, 0, 0, 0, 0, 0, 0, 0, 0, 0, 0, 0, 0, 0, 0, 0, 0, 0, 0, 0,\n",
       "       0, 0, 0, 0, 0, 0, 1, 1, 1, 1, 1, 1, 1, 1, 1, 1, 1, 1, 1, 1, 1, 1,\n",
       "       1, 1, 1, 1, 1, 1, 1, 1, 1, 1, 1, 1, 1, 1, 1, 1, 1, 1, 1, 1, 1, 1,\n",
       "       1, 1, 1, 1, 1, 1, 1, 1, 1, 1, 1, 1])"
      ]
     },
     "execution_count": 6,
     "metadata": {},
     "output_type": "execute_result"
    }
   ],
   "source": [
    "y_onehot = (y=='virginica').astype(int)\n",
    "y_onehot"
   ]
  },
  {
   "cell_type": "code",
   "execution_count": 7,
   "metadata": {},
   "outputs": [],
   "source": [
    "X = df_vergicolor_and_virginica.iloc[:,2:4].values"
   ]
  },
  {
   "cell_type": "code",
   "execution_count": 9,
   "metadata": {},
   "outputs": [
    {
     "name": "stdout",
     "output_type": "stream",
     "text": [
      "[0 1 1 1 0 1 1 1 1 1 0 1 1 1 1 1 1 1 1 1]\n",
      "0.6\n"
     ]
    },
    {
     "data": {
      "image/png": "[encoded data removed]",
      "text/plain": [
       "<Figure size 432x288 with 1 Axes>"
      ]
     },
     "metadata": {
      "needs_background": "light"
     },
     "output_type": "display_data"
    }
   ],
   "source": [
    "# iris_data\n",
    "X_train, X_test, y_train, y_test = train_test_split(X, y_onehot, test_size=0.2)\n",
    "slr = ScratchLogisticRegression(max_iter=5000, lr=0.01)\n",
    "slr.fit(X_train, y_train, X_test, y_test)\n",
    "print(slr.predict(X_test))\n",
    "print(slr.score(X_test, y_test))\n",
    "plt.plot(slr.loss,'o',linewidth=2, label='train_data')\n",
    "plt.title('closs_entropy_error')\n",
    "plt.xlabel('iter')\n",
    "plt.ylabel('closs_entropy_error')\n",
    "plt.plot(slr.val_loss, label='val_data')\n",
    "plt.legend()\n",
    "plt.show()"
   ]
  },
  {
   "cell_type": "code",
   "execution_count": 10,
   "metadata": {},
   "outputs": [],
   "source": [
    "import matplotlib.pyplot as plt\n",
    "from matplotlib.colors import ListedColormap\n",
    "import matplotlib.patches as mpatches\n",
    "\n",
    "def decision_region(X_train, y_train, model, step=0.01, title='decision region', xlabel='xlabel', ylabel='ylabel', target_names=['versicolor', 'virginica']):\n",
    "    \"\"\"\n",
    "    2値分類を2次元の特徴量で学習したモデルの決定領域を描く。\n",
    "    背景の色が学習したモデルによる推定値から描画される。\n",
    "    散布図の点は学習用データである。\n",
    "\n",
    "    Parameters\n",
    "    ----------------\n",
    "    X_train : ndarray, shape(n_samples, 2)\n",
    "        学習用データの特徴量\n",
    "    y_train : ndarray, shape(n_samples,)\n",
    "        学習用データの正解値\n",
    "    model : object\n",
    "        学習したモデルのインスンタスを入れる\n",
    "    step : float, (default : 0.1)\n",
    "        推定値を計算する間隔を設定する\n",
    "    title : str\n",
    "        グラフのタイトルの文章を与える\n",
    "    xlabel, ylabel : str\n",
    "        軸ラベルの文章を与える\n",
    "    target_names= : list of str\n",
    "        凡例の一覧を与える\n",
    "    \"\"\"\n",
    "    # setting\n",
    "    scatter_color = ['red', 'blue']\n",
    "    contourf_color = ['pink', 'skyblue']\n",
    "    n_class = 2\n",
    "\n",
    "    # pred\n",
    "    mesh_f0, mesh_f1  = np.meshgrid(np.arange(np.min(X_train[:,0])-0.5, np.max(X_train[:,0])+0.5, step), np.arange(np.min(X_train[:,1])-0.5, np.max(X_train[:,1])+0.5, step))\n",
    "    mesh = np.c_[np.ravel(mesh_f0),np.ravel(mesh_f1)]\n",
    "    pred = model.predict(mesh).reshape(mesh_f0.shape)\n",
    "\n",
    "    # plot\n",
    "    plt.title(title)\n",
    "    plt.xlabel(xlabel)\n",
    "    plt.ylabel(ylabel)\n",
    "    plt.contourf(mesh_f0, mesh_f1, pred, n_class-1, cmap=ListedColormap(contourf_color))\n",
    "    plt.contour(mesh_f0, mesh_f1, pred, n_class-1, colors='y', linewidths=3, alpha=0.5)\n",
    "    for i, target in enumerate(set(y_train)):\n",
    "        plt.scatter(X_train[y_train==target][:, 0], X_train[y_train==target][:, 1], s=80, color=scatter_color[i], label=target_names[i], marker='o')\n",
    "    patches = [mpatches.Patch(color=scatter_color[i], label=target_names[i]) for i in range(n_class)]\n",
    "    plt.legend(handles=patches)\n",
    "    plt.legend()\n",
    "    plt.show()"
   ]
  },
  {
   "cell_type": "code",
   "execution_count": 11,
   "metadata": {
    "scrolled": true
   },
   "outputs": [
    {
     "data": {
      "image/png": "[encoded data removed]",
      "text/plain": [
       "<Figure size 432x288 with 1 Axes>"
      ]
     },
     "metadata": {
      "needs_background": "light"
     },
     "output_type": "display_data"
    }
   ],
   "source": [
    "decision_region(X_train,y_train, model=slr)"
   ]
  },
  {
   "cell_type": "code",
   "execution_count": 12,
   "metadata": {},
   "outputs": [
    {
     "name": "stdout",
     "output_type": "stream",
     "text": [
      "0.8666666666666667\n",
      "[0 1 1 0 1 1 1 1 0 1 1 1 0 1 1 1 1 1 0 1 0 1 1 0 1 1 0 0 1 1] [0 0 1 0 1 1 1 1 0 1 1 1 0 1 1 1 1 0 0 0 0 1 1 0 1 0 0 0 1 1]\n"
     ]
    },
    {
     "data": {
      "image/png": "[encoded data removed]",
      "text/plain": [
       "<Figure size 432x288 with 1 Axes>"
      ]
     },
     "metadata": {
      "needs_background": "light"
     },
     "output_type": "display_data"
    },
    {
     "data": {
      "text/plain": [
       "<Figure size 432x288 with 0 Axes>"
      ]
     },
     "metadata": {},
     "output_type": "display_data"
    }
   ],
   "source": [
    "# .pyfileの実行\n",
    "%run ../ml-scratch/utils/scratch_logistic_regression.py --file_path  \"C:/Users/umini/git-test/diveintocode-ml/ml-scratch/utils/df_vergicolor_and_virginica.csv\" --max_iter 1000 --test_size=0.3"
   ]
  },
  {
   "cell_type": "code",
   "execution_count": null,
   "metadata": {},
   "outputs": [],
   "source": []
  }
 ],
 "metadata": {
  "kernelspec": {
   "display_name": "Python 3",
   "language": "python",
   "name": "python3"
  },
  "language_info": {
   "codemirror_mode": {
    "name": "ipython",
    "version": 3
   },
   "file_extension": ".py",
   "mimetype": "text/x-python",
   "name": "python",
   "nbconvert_exporter": "python",
   "pygments_lexer": "ipython3",
   "version": "3.6.7"
  }
 },
 "nbformat": 4,
 "nbformat_minor": 2
}
