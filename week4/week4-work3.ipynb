{
 "cells": [
  {
   "cell_type": "markdown",
   "metadata": {},
   "source": [
    "## Task1"
   ]
  },
  {
   "cell_type": "markdown",
   "metadata": {},
   "source": [
    "## Class enumeration\n",
    "### pandas class\n",
    "DataFrame(data=None, index=None, columns=None, dtype=None, copy=False)\n",
    "\n",
    "### matplotlib\n",
    "figure\n",
    "axes\n",
    "\n",
    "### scikit-learn\n",
    "DecisionTreeClassifier\n",
    "\n",
    "RandomforestClassifier\n",
    "\n",
    "LogisticRegression\n",
    "\n",
    "LinearRegression\n",
    "\n",
    "SVC\n",
    "\n",
    "KMeans\n",
    "\n",
    "NearestNeighbors\n",
    "\n",
    "PCA\n"
   ]
  },
  {
   "cell_type": "markdown",
   "metadata": {},
   "source": [
    "## Task 2 method and instance"
   ]
  },
  {
   "cell_type": "markdown",
   "metadata": {},
   "source": [
    "## method\n",
    "\n",
    "count(), isnull(), array(), arrange(), range(), mean(), read_csv(), std(), sqrt(), square(), list(), dict(),\n",
    "\n",
    "## instance\n",
    ".shape, .mean, .sum, .datetime, .time, .date"
   ]
  },
  {
   "cell_type": "code",
   "execution_count": null,
   "metadata": {},
   "outputs": [],
   "source": [
    "z = (x - u) / s"
   ]
  },
  {
   "cell_type": "code",
   "execution_count": 26,
   "metadata": {},
   "outputs": [],
   "source": [
    "class ScratchStandardScaler():\n",
    "    \"\"\"\n",
    "    標準化のためのクラス\n",
    "\n",
    "    Attributes\n",
    "    ----------\n",
    "    mean_ : 次の形のndarray, shape(n_features,)\n",
    "        平均\n",
    "    var_ : 次の形のndarray, shape(n_features,)\n",
    "        分散\n",
    "    \"\"\"\n",
    "\n",
    "    def fit(self, X):\n",
    "        \"\"\"\n",
    "        標準化のために平均と標準偏差を計算する。\n",
    "\n",
    "        Parameters\n",
    "        ----------\n",
    "        X : 次の形のndarray, shape (n_samples, n_features)\n",
    "            学習データ\n",
    "        \"\"\"\n",
    "\n",
    "        self.mean_ = X.mean()\n",
    "        self.var_ = X.var()\n",
    "\n",
    "        pass\n",
    "\n",
    "    def transform(self, X):\n",
    "        \"\"\"\n",
    "        fitで求めた値を使い標準化を行う。\n",
    "\n",
    "        Parameters\n",
    "        ----------\n",
    "        X : 次の形のndarray, shape (n_samples, n_features)\n",
    "            特徴量\n",
    "\n",
    "        Returns\n",
    "        ----------\n",
    "        X_scaled : 次の形のndarray, shape (n_samples, n_features)\n",
    "            標準化された特緒量\n",
    "        \"\"\"\n",
    "        X_scaled = (X - self.mean_) / np.sqrt(self.var_ + 1e-12)\n",
    "        \n",
    "        \n",
    "        return X_scaled"
   ]
  },
  {
   "cell_type": "code",
   "execution_count": 27,
   "metadata": {},
   "outputs": [
    {
     "name": "stdout",
     "output_type": "stream",
     "text": [
      "平均 : 2.46\n",
      "分散 : 3.1744\n",
      "[[ 1.48174374  0.58371723 -0.59494256 -1.26846245]\n",
      " [ 1.36949043  0.30308395 -0.59494256 -1.26846245]\n",
      " [ 1.25723711  0.41533726 -0.65106922 -1.26846245]\n",
      " [ 1.20111046  0.3592106  -0.53881591 -1.26846245]\n",
      " [ 1.42561708  0.63984389 -0.59494256 -1.26846245]\n",
      " [ 1.65012371  0.80822386 -0.42656259 -1.15620913]\n",
      " [ 1.20111046  0.52759057 -0.59494256 -1.21233579]\n",
      " [ 1.42561708  0.52759057 -0.53881591 -1.26846245]\n",
      " [ 1.08885714  0.24695729 -0.59494256 -1.26846245]\n",
      " [ 1.36949043  0.3592106  -0.53881591 -1.3245891 ]]\n",
      "8.881784197001253e-17\n",
      "0.9999999999998425\n"
     ]
    }
   ],
   "source": [
    "import numpy as np\n",
    "from sklearn.datasets import load_iris\n",
    "\n",
    "data = load_iris()\n",
    "X = data.data[:10]\n",
    "\n",
    "scratch_scaler = ScratchStandardScaler()\n",
    "scratch_scaler.fit(X)\n",
    "print(\"平均 :\", scratch_scaler.mean_)\n",
    "print(\"分散 :\", scratch_scaler.var_)\n",
    "X_std = scratch_scaler.transform(X)\n",
    "print(X_std)\n",
    "\n",
    "# X_std.mena X_std_std\n",
    "print(X_std.mean())\n",
    "print(X_std.std())"
   ]
  },
  {
   "cell_type": "code",
   "execution_count": 28,
   "metadata": {},
   "outputs": [
    {
     "name": "stdout",
     "output_type": "stream",
     "text": [
      "初期値5が設定されました\n",
      "value : 5\n",
      "value : 8\n"
     ]
    }
   ],
   "source": [
    "class ExampleClass():\n",
    "    \"\"\"\n",
    "    説明用の簡単なクラス\n",
    "\n",
    "    Parameters\n",
    "    ----------\n",
    "    value : float or int\n",
    "        初期値\n",
    "\n",
    "    Attributes\n",
    "    ----------\n",
    "    value : float or int\n",
    "        計算結果\n",
    "    \"\"\"\n",
    "    def __init__(self, value):\n",
    "        self.value = value\n",
    "        print(\"初期値{}が設定されました\".format(self.value))\n",
    "    def add(self, value2):\n",
    "        \"\"\"\n",
    "        受け取った引数をself.valueに加える\n",
    "        \"\"\"\n",
    "        self.value += value2\n",
    "\n",
    "example = ExampleClass(5)\n",
    "print(\"value :\", example.value)\n",
    "example.add(3)\n",
    "print(\"value :\", example.value)"
   ]
  },
  {
   "cell_type": "code",
   "execution_count": 60,
   "metadata": {},
   "outputs": [],
   "source": [
    "value = 100"
   ]
  },
  {
   "cell_type": "code",
   "execution_count": 61,
   "metadata": {},
   "outputs": [
    {
     "data": {
      "text/plain": [
       "False"
      ]
     },
     "execution_count": 61,
     "metadata": {},
     "output_type": "execute_result"
    }
   ],
   "source": [
    "(type(value) != int) and (type(value) != float)"
   ]
  },
  {
   "cell_type": "code",
   "execution_count": 77,
   "metadata": {},
   "outputs": [
    {
     "name": "stdout",
     "output_type": "stream",
     "text": [
      "0は入力できません\n"
     ]
    }
   ],
   "source": [
    "value = 0\n",
    "if value == 0:\n",
    "    print('0は入力できません')"
   ]
  },
  {
   "cell_type": "code",
   "execution_count": 82,
   "metadata": {},
   "outputs": [
    {
     "name": "stdout",
     "output_type": "stream",
     "text": [
      "初期値5が設定されました\n",
      "value : 5\n",
      "value : 8\n",
      "value : 4\n",
      "value : 12\n",
      "0は入力できません\n",
      "value : 12\n",
      "value : 0.3\n"
     ]
    }
   ],
   "source": [
    "class ExampleClass():\n",
    "    \"\"\"\n",
    "    説明用の簡単なクラス\n",
    "\n",
    "    Parameters\n",
    "    ----------\n",
    "    value : float or int\n",
    "        初期値\n",
    "\n",
    "    Attributes\n",
    "    ----------\n",
    "    value : float or int\n",
    "        計算結果\n",
    "    \"\"\"\n",
    "    def __init__(self, value):\n",
    "        \n",
    "        self.value = value\n",
    "        if (type(self.value) != int) and (type(self.value) != float):\n",
    "            self.value = 0\n",
    "            print(\"初期値は数字にしてください.\")\n",
    "            \n",
    "        else:\n",
    "            print(\"初期値{}が設定されました\".format(self.value))\n",
    "        \n",
    "    def add(self, value2):\n",
    "        \"\"\"\n",
    "        受け取った引数をself.valueに加える\n",
    "        \"\"\"\n",
    "        self.value += value2\n",
    "        \n",
    "        \n",
    "    def subtraction(self, value3):\n",
    "        \"\"\"\n",
    "        受け取った引数をself.valueからサブトラクションする\n",
    "        \"\"\"\n",
    "        self.value -= value3\n",
    "        \n",
    "    def multiplication(self, value4):\n",
    "        \"\"\"\n",
    "        受け取った引数をself.valueから掛け算する\n",
    "        \"\"\"\n",
    "        self.value *= value4\n",
    "        \n",
    "    def division(self, value5):\n",
    "        # 0のときは実行しない\n",
    "        \"\"\"\n",
    "        受け取った引数をself.valueから割り算する\n",
    "        \"\"\"\n",
    "        if value5 == 0:\n",
    "            print('0は入力できません')\n",
    "        else:\n",
    "            self.value /= value5\n",
    "        \n",
    "    \n",
    "\n",
    "example = ExampleClass(5)\n",
    "print(\"value :\", example.value)\n",
    "example.add(3)\n",
    "print(\"value :\", example.value)\n",
    "example.subtraction(4)\n",
    "print(\"value :\", example.value)\n",
    "example.multiplication(3)\n",
    "print(\"value :\", example.value)\n",
    "example.division(0)\n",
    "print(\"value :\", example.value)\n",
    "example.division(40)\n",
    "print(\"value :\", example.value)"
   ]
  },
  {
   "cell_type": "code",
   "execution_count": null,
   "metadata": {},
   "outputs": [],
   "source": []
  },
  {
   "cell_type": "code",
   "execution_count": null,
   "metadata": {},
   "outputs": [],
   "source": []
  }
 ],
 "metadata": {
  "kernelspec": {
   "display_name": "Python 3",
   "language": "python",
   "name": "python3"
  },
  "language_info": {
   "codemirror_mode": {
    "name": "ipython",
    "version": 3
   },
   "file_extension": ".py",
   "mimetype": "text/x-python",
   "name": "python",
   "nbconvert_exporter": "python",
   "pygments_lexer": "ipython3",
   "version": "3.6.7"
  }
 },
 "nbformat": 4,
 "nbformat_minor": 2
}
