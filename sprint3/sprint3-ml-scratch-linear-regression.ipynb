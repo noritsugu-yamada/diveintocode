{
 "cells": [
  {
   "cell_type": "markdown",
   "metadata": {},
   "source": [
    "## 【問題1】線形回帰のクラスを作成する"
   ]
  },
  {
   "cell_type": "code",
   "execution_count": 1,
   "metadata": {},
   "outputs": [],
   "source": [
    "class ScratchLinearRegression():\n",
    "    \"\"\"\n",
    "    線形回帰のスクラッチ実装\n",
    "\n",
    "    Parameters\n",
    "    ----------\n",
    "    \n",
    "    num_iter : int\n",
    "    lr : float\n",
    "    no_bias : bool\n",
    "    verbose :bool\n",
    "    学習過程を出力する場合はTrue\n",
    "     Attributes\n",
    "    ----------\n",
    "    self.coef : theta 次の形のndarray, shape (n_features,)\n",
    "      parameter\n",
    "    self.loss : 次の形のndarray, shape (self.iter,)\n",
    "      学習用データに対する損失の記録\n",
    "    self.val_loss : 次の形のndarray, shape (self.iter,)\n",
    "      検証用データに対する損失の記録\n",
    "\n",
    "    \n",
    "    \"\"\"\n",
    "    \n",
    "    def __init__(self, num_iter, lr, bias, verbose=False, random_state=False):\n",
    "         # ハイパーパラメータを属性として記録\n",
    "            self.num_iter = num_iter\n",
    "            self.lr = lr\n",
    "            self.bias = bias\n",
    "            self.verbose = verbose\n",
    "            self.random_state = random_state\n",
    "            self.loss = np.zeros(self.num_iter)\n",
    "            self.val_loss = np.zeros(self.num_iter)\n",
    "            \n",
    "            \n",
    "    def _linear_hyposis(self,X):\n",
    "        \n",
    "        \"\"\"線形の仮定関数を計算する\n",
    "        Parameters\n",
    "        ----------\n",
    "        self.X : 次の形のndarray, shape (n_samples, n_features)\n",
    "        学習データ fitから持ってくる\n",
    "        Returns\n",
    "        -------\n",
    "        次の形のndarray, shape (n_samples, 1)\n",
    "        線形の仮定関数による推定結果\n",
    "        \"\"\"\n",
    "        y_pred = np.dot(X, self.coef_)\n",
    "        \n",
    "        return y_pred\n",
    "    \n",
    "    def MSE(self, y_pred, y):\n",
    "        \"\"\"\n",
    "        平均二乗誤差の計算\n",
    "        Parameters\n",
    "        ----------\n",
    "        y_pred : 次の形のndarray, shape (n_samples,)\n",
    "        推定した値\n",
    "        y : 次の形のndarray, shape (n_samples,)\n",
    "        正解値\n",
    "        Returns\n",
    "        ----------\n",
    "        mse : numpy.float\n",
    "        平均二乗誤差\n",
    "        \"\"\"\n",
    "        ids = len(y)\n",
    "        # Σ(y_pred - y_true)^2 / 2*m　平均二乗誤差を計算\n",
    "        mse = np.sum((y_pred - y)**2)/(2*ids)\n",
    "        \n",
    "        return mse\n",
    "    \n",
    "    def _compute_cost(self, X, y):\n",
    "        \"\"\"\n",
    "        平均二乗誤差を計算する。MSEは共通の関数を作っておき呼び出す\n",
    "        \n",
    "        Parameters\n",
    "        ----------\n",
    "        X : 次の形のndarray, shape (n_samples, n_features)\n",
    "        学習データ\n",
    "        y : 次の形のndarray, shape (n_samples, 1)\n",
    "        正解値\n",
    "        Returns\n",
    "        -------\n",
    "        次の形のndarray, shape (1,)\n",
    "        平均二乗誤差\n",
    "        \"\"\"\n",
    "        y_pred = np.dot(X, self.coef_)\n",
    "        mse = self.MSE(y_pred, y)\n",
    "        \n",
    "        return mse\n",
    "        \n",
    "    def _gradient_descent(self, X, y):\n",
    "        \"\"\"\n",
    "        説明を記述\n",
    "        \"\"\"\n",
    "        # gradient と mseを算出\n",
    "        y_pred = self._linear_hyposis(X)\n",
    "        mse = self.MSE(y_pred, y)\n",
    "        ids = len(y)\n",
    "        # MSEの微分が勾配 1/mΣ(ypred - ytrue)X\n",
    "        grad = np.dot(y_pred - y, X) / ids\n",
    "        \n",
    "        # 更新 -lr(/ids) * grad\n",
    "        lr = self.lr\n",
    "        self.coef_ = self.coef_ - lr * grad\n",
    "        \n",
    "        return mse\n",
    "    \n",
    "    def fit(self,X, y, X_val=None, y_val=None):\n",
    "        \"\"\"\n",
    "        線形回帰を学習する。検証用データが入力された場合はそれに対する損失と精度もイテレーションごとに計算する。\n",
    "\n",
    "        Parameters\n",
    "        ----------\n",
    "        X : 次の形のndarray, shape (n_samples, n_features)\n",
    "            学習用データの特徴量\n",
    "        y : 次の形のndarray, shape (n_samples, )\n",
    "            学習用データの正解値\n",
    "        X_val : 次の形のndarray, shape (n_samples, n_features)\n",
    "            検証用データの特徴量\n",
    "        y_val : 次の形のndarray, shape (n_samples, )\n",
    "            検証用データの正解値\n",
    "        \"\"\"\n",
    "        # biasがTrueならX0として要素が1の 次の形のndarray, shape (n_features,)\n",
    "        if self.bias:\n",
    "            b = np.ones(X.shape[0])\n",
    "            # biasをinsertしたXを上書きしインスタンス変数にして格納\n",
    "            X = np.insert(X, 0, b, axis=1)\n",
    "        \n",
    "        # Xの形に合わせてself.coef_ をインスタンス変数に\n",
    "        # random_state=Trueでseed固定\n",
    "        if self.random_state:\n",
    "            rand_seed = 0\n",
    "            np.random.seed(rand_seed)\n",
    "        self.coef_ = np.random.randn(X.shape[1])\n",
    "        # bias = Trueならval_dataにbiasを追加する \n",
    "        if (X_val is not None) and (y_val is not None):\n",
    "            if self.bias:\n",
    "                b = np.ones(X_val.shape[0])\n",
    "                X_val = np.insert(X_val, 0, b, axis=1)\n",
    "            \n",
    "        # lossの格納とthetaのnum_iter回の更新\n",
    "        for i in range(self.num_iter):\n",
    "            mse = self._gradient_descent(X, y)\n",
    "            self.loss[i] = mse\n",
    "            \n",
    "            if self.verbose:\n",
    "                print('{}回目mse {}'.format(i+1, mse))\n",
    "            \n",
    "            # val_lossの格納\n",
    "            if (X_val is not None) and (y_val is not None):\n",
    "                y_val_pred = np.dot(X_val, self.coef_)\n",
    "                #print('y_val_pred {}, y_val {}'.format(y_val_pred, y_val))\n",
    "                val_mse = self.MSE(y_val_pred, y_val)\n",
    "                self.val_loss[i] = val_mse\n",
    "                \n",
    "                if self.verbose:\n",
    "                    print('{}回目val_loss {}'.format(i+1, val_mse))\n",
    "                \n",
    "    def predict(self, X_test):\n",
    "        # 学習と異なるXで予測\n",
    "        if self.bias:\n",
    "            b = np.ones(X_test.shape[0])\n",
    "            X_test = np.insert(X_test, 0, b, axis=1)\n",
    "        \n",
    "        # y_predを算出\n",
    "        y_pred = np.dot(X_test, self.coef_)\n",
    "        \n",
    "        return y_pred\n"
   ]
  },
  {
   "cell_type": "code",
   "execution_count": 2,
   "metadata": {},
   "outputs": [],
   "source": [
    "# import\n",
    "import numpy as np\n",
    "import pandas as pd\n",
    "import matplotlib.pyplot as plt\n",
    "from sklearn.preprocessing import StandardScaler\n",
    "from sklearn.model_selection import train_test_split\n",
    "%matplotlib inline\n"
   ]
  },
  {
   "cell_type": "code",
   "execution_count": 3,
   "metadata": {
    "scrolled": false
   },
   "outputs": [
    {
     "data": {
      "image/png": "[encoded data removed]",
      "text/plain": [
       "<Figure size 432x288 with 1 Axes>"
      ]
     },
     "metadata": {
      "needs_background": "light"
     },
     "output_type": "display_data"
    }
   ],
   "source": [
    "# 動作の確認\n",
    "X = np.array([[1,2],[2,4],[3,6]])\n",
    "y = np.array([4,7,10])\n",
    "reg = ScratchLinearRegression(num_iter=300, lr=0.001, bias=True, verbose=None, random_state=False)\n",
    "reg.fit(X,y)\n",
    "#reg.predict(X_test)\n",
    "plt.title('loss')\n",
    "plt.plot(reg.loss)\n",
    "plt.show()"
   ]
  },
  {
   "cell_type": "code",
   "execution_count": 4,
   "metadata": {},
   "outputs": [
    {
     "data": {
      "text/plain": [
       "array([ 3.07720203,  6.77171924, 10.46623644])"
      ]
     },
     "execution_count": 4,
     "metadata": {},
     "output_type": "execute_result"
    }
   ],
   "source": [
    "reg.predict(X)\n",
    "# 正解ラベルは[4,7,10]"
   ]
  },
  {
   "cell_type": "code",
   "execution_count": 5,
   "metadata": {},
   "outputs": [],
   "source": [
    "# House_Priceデータで確認する\n",
    "# session4のtrainfaile読み込み\n",
    "df = pd.read_csv(\"C:/Users/umini/git-test/diveintocode-ml/week4/train.csv\")\n",
    "# GrLivArea', 'YearBuilt','SalePriceを抜き出す\n",
    "df_grlivearea_yearbuilt = df[['GrLivArea', 'YearBuilt','SalePrice']]\n",
    "X = df_grlivearea_yearbuilt.iloc[:,:-1].values\n",
    "y = df_grlivearea_yearbuilt.iloc[:,-1].values"
   ]
  },
  {
   "cell_type": "code",
   "execution_count": 6,
   "metadata": {},
   "outputs": [
    {
     "name": "stdout",
     "output_type": "stream",
     "text": [
      "[[ 0.37033344  1.05099379]\n",
      " [-0.48251191  0.15673371]\n",
      " [ 0.51501256  0.9847523 ]\n",
      " ...\n",
      " [ 1.56964722 -1.00249232]\n",
      " [-0.83278768 -0.70440562]\n",
      " [-0.49393395 -0.20759447]]\n",
      "[12.24769432 12.10901093 12.31716669 ... 12.49312952 11.86446223\n",
      " 11.90158345]\n"
     ]
    },
    {
     "name": "stderr",
     "output_type": "stream",
     "text": [
      "C:\\Users\\umini\\Anaconda3\\lib\\site-packages\\sklearn\\utils\\validation.py:595: DataConversionWarning: Data with input dtype int64 was converted to float64 by StandardScaler.\n",
      "  warnings.warn(msg, DataConversionWarning)\n",
      "C:\\Users\\umini\\Anaconda3\\lib\\site-packages\\sklearn\\utils\\validation.py:595: DataConversionWarning: Data with input dtype int64 was converted to float64 by StandardScaler.\n",
      "  warnings.warn(msg, DataConversionWarning)\n"
     ]
    }
   ],
   "source": [
    "# 標準化\n",
    "scaler = StandardScaler()\n",
    "scaler.fit(X)\n",
    "X_stand = scaler.transform(X)\n",
    "print(X_stand)\n",
    "\n",
    "# 対数化(正規分布に近づける)\n",
    "log_y = np.log(y)\n",
    "print(log_y)"
   ]
  },
  {
   "cell_type": "code",
   "execution_count": 7,
   "metadata": {},
   "outputs": [],
   "source": [
    "# tarinデータをtrainとvalに分ける\n",
    "X_train, X_val, y_train, y_val = train_test_split(\n",
    "     X_stand, log_y, test_size=0.2, random_state=42)"
   ]
  },
  {
   "cell_type": "markdown",
   "metadata": {},
   "source": [
    "## 【問題2】学習曲線のプロット"
   ]
  },
  {
   "cell_type": "code",
   "execution_count": 8,
   "metadata": {
    "scrolled": true
   },
   "outputs": [
    {
     "data": {
      "image/png": "[encoded data removed]",
      "text/plain": [
       "<Figure size 432x288 with 1 Axes>"
      ]
     },
     "metadata": {
      "needs_background": "light"
     },
     "output_type": "display_data"
    }
   ],
   "source": [
    "# ScratchLinearRegression()クラスを使用する(デバック)\n",
    "# 使用データはHousePriceで標準化と対数化を行ったもの\n",
    "num_iter = 300\n",
    "lr = 0.05\n",
    "reg = ScratchLinearRegression(num_iter, lr,bias=True, verbose=False, random_state=False)\n",
    "reg.fit(X_train, y_train, X_val, y_val)\n",
    "#reg.predict(X_val)\n",
    "plt.title('loss')\n",
    "plt.plot(reg.loss, label='loss')\n",
    "plt.plot(reg.val_loss, '--', label='val_loss')\n",
    "plt.xlabel('num_iter')\n",
    "plt.ylabel('loss and val_loss')\n",
    "plt.legend()\n",
    "plt.show()"
   ]
  },
  {
   "cell_type": "markdown",
   "metadata": {},
   "source": [
    "## 【問題7】スクラッチで学べることは何か\n",
    "数式をコードに置換するパターンを認識できる.\n",
    "\n",
    "i.e.数式上で同じΣという記号でもコードが変わる例\n",
    "\n",
    "MSE : Σ((E)^2)/ 2m は\n",
    "np.sum(np.square(E))(**2も同じ)\n",
    "\n",
    "gradient : Σ(E)X は\n",
    "\n",
    "np.dot(E,X) (sumでなく行列の積)\n",
    "\n",
    "where, E= y_pred-y_ture\n",
    "\n",
    "このようなパターンは理解とともに自然に慣れる必要があると感じた\n",
    "そのためコードを書くときは必ず数式と見比べながら書くようにする.\n",
    "パターンを増やせば新しい論文の数式を実装するときに役立つと思う\n"
   ]
  },
  {
   "cell_type": "markdown",
   "metadata": {},
   "source": [
    "## 【問題3】（アドバンス課題）バイアス項の除去"
   ]
  },
  {
   "cell_type": "code",
   "execution_count": 9,
   "metadata": {
    "scrolled": true
   },
   "outputs": [
    {
     "data": {
      "image/png": "[encoded data removed]",
      "text/plain": [
       "<Figure size 432x288 with 1 Axes>"
      ]
     },
     "metadata": {
      "needs_background": "light"
     },
     "output_type": "display_data"
    }
   ],
   "source": [
    "# bias=Falseにする\n",
    "num_iter = 300\n",
    "lr = 0.05\n",
    "reg = ScratchLinearRegression(num_iter, lr,bias=False, verbose=False, random_state=False)\n",
    "reg.fit(X_train, y_train, X_val, y_val)\n",
    "#reg.predict(X_val)\n",
    "plt.title('loss')\n",
    "plt.plot(reg.loss, 'o',label='loss')\n",
    "plt.plot(reg.val_loss, '--', linewidth=2, label='val_loss')\n",
    "plt.xlabel('num_iter')\n",
    "plt.ylabel('loss and val_loss')\n",
    "plt.show()"
   ]
  },
  {
   "cell_type": "markdown",
   "metadata": {},
   "source": [
    "bias項を入れない場合収束が早いがbias項を付けた場合に比べてlossが下がらなかった."
   ]
  },
  {
   "cell_type": "markdown",
   "metadata": {},
   "source": [
    "## 【問題4】（アドバンス課題）特徴量の多次元化"
   ]
  },
  {
   "cell_type": "code",
   "execution_count": 10,
   "metadata": {
    "scrolled": true
   },
   "outputs": [
    {
     "data": {
      "image/png": "[encoded data removed]",
      "text/plain": [
       "<Figure size 432x288 with 1 Axes>"
      ]
     },
     "metadata": {
      "needs_background": "light"
     },
     "output_type": "display_data"
    }
   ],
   "source": [
    "# 特徴量を2乗する\n",
    "X_train_2 = X_train**2\n",
    "X_val_2 = X_val**2\n",
    "y_train_2 = y_train**2\n",
    "y_val_2 = y_val**2\n",
    "# 比較する\n",
    "num_iter = 300\n",
    "lr = 0.05\n",
    "reg = ScratchLinearRegression(num_iter, lr,bias=True, verbose=False, random_state=False)\n",
    "reg.fit(X_train_2, y_train_2, X_val_2, y_val_2)\n",
    "#reg.predict(X_test)\n",
    "plt.title('loss')\n",
    "plt.plot(reg.loss, 'o',label='loss')\n",
    "plt.plot(reg.val_loss, '--', linewidth=2, label='val_loss')\n",
    "plt.xlabel('num_iter')\n",
    "plt.ylabel('loss and val_loss')\n",
    "plt.show()"
   ]
  },
  {
   "cell_type": "code",
   "execution_count": 11,
   "metadata": {},
   "outputs": [],
   "source": [
    "# 特徴量を3乗する\n",
    "X_train_3 = X_train**3\n",
    "X_val_3 = X_val**3\n",
    "y_train_3 = y_train**3\n",
    "y_val_3 = y_val**3"
   ]
  },
  {
   "cell_type": "code",
   "execution_count": 12,
   "metadata": {},
   "outputs": [
    {
     "data": {
      "image/png": "[encoded data removed]",
      "text/plain": [
       "<Figure size 432x288 with 1 Axes>"
      ]
     },
     "metadata": {
      "needs_background": "light"
     },
     "output_type": "display_data"
    }
   ],
   "source": [
    "# 特徴量を3乗する\n",
    "X_train_3 = X_train**3\n",
    "X_val_3 = X_val**3\n",
    "y_train_3 = y_train**3\n",
    "y_val_3 = y_val**3\n",
    "# 違いを比較する\n",
    "num_iter = 300\n",
    "lr = 0.05\n",
    "reg = ScratchLinearRegression(num_iter, lr,bias=True)\n",
    "reg.fit(X_train_2, y_train_2, X_val_2, y_val_2)\n",
    "#reg.predict(X_test)\n",
    "plt.title('loss')\n",
    "plt.plot(reg.loss, 'o',label='loss')\n",
    "plt.plot(reg.val_loss, '--', linewidth=2, label='val_loss')\n",
    "plt.xlabel('num_iter')\n",
    "plt.ylabel('loss and val_loss')\n",
    "plt.show()"
   ]
  },
  {
   "cell_type": "markdown",
   "metadata": {},
   "source": [
    "特徴量を2乗すると元の特徴量の時と比較したときにグラフの形状が定性的に変化するようには感じないが\n",
    "同じiter回数ではlossが上昇した。2乗と3乗ではほとんど変化しなかった."
   ]
  },
  {
   "cell_type": "markdown",
   "metadata": {},
   "source": [
    "## 【問題5】（アドバンス課題）更新式の導出\n",
    "$$\n",
    "\\theta_j := \\theta_j - \\alpha \\frac{1}{m} \\sum_{i=1}^{m}[(h_\\theta(x^{(i)} - y^{(i)} )x_{j}^{(i)}]\n",
    "$$"
   ]
  },
  {
   "cell_type": "markdown",
   "metadata": {},
   "source": [
    "更新式は -lr*grad\n",
    "gradientはMSEの微分でできる\n",
    "\n",
    "hθ = Xθとする\n",
    "\n",
    "MSE = 1/2m * Σ((hθ(X) - y)^2)\n",
    "\n",
    "MSE = 1/2m * Σ(x^2θ^2 - 2Xθy + y^2)\n",
    "\n",
    "∂MSE/∂θ = 1/2m (2X^2θ +2xy)\n",
    "\n",
    "∂MSE/∂θ = 1/m(Xθ - y )X\n",
    "\n",
    "∂MSE/∂θ = 1/m(hθ - y)X\n",
    "\n",
    "ここで更新式はθ =θ -lr* ∂MSE/∂θ\n",
    "\n",
    "よってθ = θ -lr* 1/m(hθ - y)X"
   ]
  },
  {
   "cell_type": "markdown",
   "metadata": {},
   "source": [
    "## 【問題6】（アドバンス課題）局所最適解の問題\n",
    "MSEはθに対して(xθ-b)の2乗の形式になっており下に凸の関数である。\n",
    "下に凸の二次関数は変数が-∞<θ<∞の範囲において勾配0となるθにおいて最小値になることが知られている.\n",
    "よって最小値以外の極値にはまる可能性がなく勾配0の点を目指していくと必ず最小値に収束する"
   ]
  },
  {
   "cell_type": "markdown",
   "metadata": {},
   "source": [
    "## pyfileにして呼び出す"
   ]
  },
  {
   "cell_type": "code",
   "execution_count": 13,
   "metadata": {
    "scrolled": true
   },
   "outputs": [
    {
     "name": "stdout",
     "output_type": "stream",
     "text": [
      "1328019889.1486485\n"
     ]
    },
    {
     "data": {
      "image/png": "[encoded data removed]",
      "text/plain": [
       "<Figure size 432x288 with 1 Axes>"
      ]
     },
     "metadata": {
      "needs_background": "light"
     },
     "output_type": "display_data"
    },
    {
     "data": {
      "text/plain": [
       "<Figure size 432x288 with 0 Axes>"
      ]
     },
     "metadata": {},
     "output_type": "display_data"
    }
   ],
   "source": [
    "#py fileの呼び出し \n",
    "%run ../ml-scratch/utils/scratch_linear_regression.py --file_path  \"C:/Users/umini/git-test/diveintocode-ml/ml-scratch/utils/df_grlivearea_yearbuilt.csv\" --num_iter 2000 --lr 1.0e-08 --random_state True"
   ]
  },
  {
   "cell_type": "code",
   "execution_count": 14,
   "metadata": {},
   "outputs": [
    {
     "data": {
      "text/plain": [
       "2039370183.5444863"
      ]
     },
     "execution_count": 14,
     "metadata": {},
     "output_type": "execute_result"
    }
   ],
   "source": [
    "# scikitlearnと比較してみる\n",
    "from sklearn.linear_model import LinearRegression\n",
    "from sklearn.metrics import mean_squared_error\n",
    "lr = LinearRegression()\n",
    "df = pd.read_csv(\"C:/Users/umini/git-test/diveintocode-ml/ml-scratch/utils/df_grlivearea_yearbuilt.csv\")\n",
    "X = df.iloc[:,:-1].values\n",
    "y = df.iloc[:, -1].values\n",
    "X_train, X_test, y_train, y_test = train_test_split(X, y, test_size = 0.2)\n",
    "lr.fit(X_train, y_train)\n",
    "y_pred = lr.predict(X_test)\n",
    "mse = mean_squared_error(y_test, y_pred)\n",
    "mse"
   ]
  },
  {
   "cell_type": "markdown",
   "metadata": {},
   "source": [
    "# # 学習率に対する考察\n",
    "今回HousePriceのデータを使用した際に標準化＆対数化をした場合に学習が進んだ(学習率0.01)が、しない場合に\n",
    "MSE(loss関数)が発散してしまった.これは同じデータでも標準化＆対数化をした場合としない場合で\n",
    "データの値が大きく異なり、学習率が同じでも更新量が大きく異なっているために起こっていることであった\n",
    "今回標準化＆対数化しない場合には学習率を1e-08(最初は信じられない数字だと思った)とかなり小さくしたこと\n",
    "で収束した\n",
    "\n",
    "結論　値が大きいデータはその分学習率を小さくする\n",
    "\n",
    "ps.scikitlearnとの比較\n",
    "\n",
    "scratchのMSE  1460456830.5740407\n",
    "\n",
    "sklearanのMSE 1437536654.0529032"
   ]
  },
  {
   "cell_type": "code",
   "execution_count": null,
   "metadata": {},
   "outputs": [],
   "source": []
  }
 ],
 "metadata": {
  "kernelspec": {
   "display_name": "Python 3",
   "language": "python",
   "name": "python3"
  },
  "language_info": {
   "codemirror_mode": {
    "name": "ipython",
    "version": 3
   },
   "file_extension": ".py",
   "mimetype": "text/x-python",
   "name": "python",
   "nbconvert_exporter": "python",
   "pygments_lexer": "ipython3",
   "version": "3.6.7"
  }
 },
 "nbformat": 4,
 "nbformat_minor": 2
}
