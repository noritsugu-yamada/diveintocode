{
 "cells": [
  {
   "cell_type": "markdown",
   "metadata": {},
   "source": [
    "# 栗まんじゅう問題\n",
    "5分後2個\n",
    "10分後4個\n",
    "15分後8個\n",
    "30分後64個\n",
    "\n",
    "input \n",
    "Chestnut Cake volume（栗饅頭の体積）\n",
    "Volume of solar system\n",
    "\n",
    "体積の関数 球か立方体か\n",
    "\n",
    "\n",
    "def　covering_minutes\n",
    "i = 0\n",
    "while  >  :\n",
    "    饅頭の体積　* 2**i\n",
    "    i + 1\n",
    "minute = i * 5分後\n",
    "\n",
    "output minute"
   ]
  },
  {
   "cell_type": "code",
   "execution_count": 3,
   "metadata": {},
   "outputs": [
    {
     "name": "stdout",
     "output_type": "stream",
     "text": [
      "(885, 1.3792459867793e+49)\n"
     ]
    }
   ],
   "source": [
    "import math\n",
    "# chestnut_cake_size = width60cm,length40cm,height30cm,\n",
    "chestnut_cake_volume = 6*4*3/1000000\n",
    "solar_system_half_rength = 15*10**15 # unit=m\n",
    "volume_of_solar_system = math.pi * 3 * (solar_system_half_rength)**3 / 4\n",
    "\n",
    "def covering_minutes(sprinkle_target, compare_target):\n",
    "    # index = doubled times\n",
    "    i = 0\n",
    "    while sprinkle_target < compare_target:\n",
    "        sprinkle_target *= 2\n",
    "        i += 1\n",
    "    minute = i*5 #because volume is double after 5minutes\n",
    "    return minute, sprinkle_target\n",
    "\n",
    "\n",
    "print(covering_minutes(chestnut_cake_volume, volume_of_solar_system))"
   ]
  },
  {
   "cell_type": "code",
   "execution_count": 25,
   "metadata": {},
   "outputs": [
    {
     "name": "stdout",
     "output_type": "stream",
     "text": [
      "(175, 2473901.162496)\n"
     ]
    }
   ],
   "source": [
    "TOKYO_DOME = 1240000\n",
    "print(covering_minutes(chestnut_cake_volume, TOKYO_DOME))"
   ]
  },
  {
   "cell_type": "code",
   "execution_count": null,
   "metadata": {},
   "outputs": [],
   "source": []
  }
 ],
 "metadata": {
  "kernelspec": {
   "display_name": "Python 3",
   "language": "python",
   "name": "python3"
  },
  "language_info": {
   "codemirror_mode": {
    "name": "ipython",
    "version": 3
   },
   "file_extension": ".py",
   "mimetype": "text/x-python",
   "name": "python",
   "nbconvert_exporter": "python",
   "pygments_lexer": "ipython3",
   "version": "3.6.7"
  }
 },
 "nbformat": 4,
 "nbformat_minor": 2
}
