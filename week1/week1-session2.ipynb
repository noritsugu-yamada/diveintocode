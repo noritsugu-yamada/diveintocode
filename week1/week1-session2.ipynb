{
 "cells": [
  {
   "cell_type": "markdown",
   "metadata": {},
   "source": [
    "## 【課題】富士山を超える最小の折る回数\n",
    "問い：超えるのは何回紙を折った時？\n",
    "\n",
    "input: t0, def number_of_folds_exceeding_height(t0): output: number\n",
    "\n",
    "必要な折る回数は、対象物の高さ < 厚みになった時 厚みは、折る回数で変化する 折る回数ごとの厚みは、 tn = t0 * 2^n\n",
    "\n",
    "## 【課題】任意の厚さに対応した関数を作成"
   ]
  },
  {
   "cell_type": "code",
   "execution_count": 9,
   "metadata": {},
   "outputs": [
    {
     "name": "stdout",
     "output_type": "stream",
     "text": [
      "計算前のTHICKNESS : [8e-05]\n",
      "26\n",
      "計算後のTHICKNESS : [8e-05]\n"
     ]
    }
   ],
   "source": [
    "HEIGHT_OF_MOUNT_FUJI = 3776\n",
    "THICKNESS = [0.00008]\n",
    "\n",
    "def number_of_folds_exceeding_height(height=1000, t0=[0.00008]):\n",
    "    folded_thickness = t0.copy()\n",
    "    i = 0\n",
    "    while height > folded_thickness[0]:\n",
    "        i  += 1\n",
    "        folded_thickness[0] = t0[0] * 2 ** i\n",
    "    return i\n",
    "\n",
    "print(\"計算前のTHICKNESS :\", THICKNESS)\n",
    "print(number_of_folds_exceeding_height(HEIGHT_OF_MOUNT_FUJI , THICKNESS))\n",
    "print(\"計算後のTHICKNESS :\", THICKNESS)"
   ]
  },
  {
   "cell_type": "code",
   "execution_count": 11,
   "metadata": {},
   "outputs": [
    {
     "name": "stdout",
     "output_type": "stream",
     "text": [
      "計算前のTHICKNESS : 8e-05\n",
      "26\n",
      "計算後のTHICKNESS : 8e-05\n"
     ]
    }
   ],
   "source": [
    "# 修正後\n",
    "HEIGHT_OF_MOUNT_FUJI = 3776\n",
    "THICKNESS = 0.00008\n",
    "\n",
    "def number_of_folds_exceeding_height(height=1000, t0=0.00008):\n",
    "    folded_thickness = t0 # t0を配列に拡張する場合は浅いコピー注意\n",
    "    i = 0\n",
    "    while height > folded_thickness:\n",
    "        folded_thickness *= 2\n",
    "        i += 1\n",
    "    return i\n",
    "\n",
    "print(\"計算前のTHICKNESS :\", THICKNESS)\n",
    "print(number_of_folds_exceeding_height(HEIGHT_OF_MOUNT_FUJI , THICKNESS))\n",
    "print(\"計算後のTHICKNESS :\", THICKNESS)"
   ]
  },
  {
   "cell_type": "markdown",
   "metadata": {},
   "source": [
    "# 【課題】必要な紙の長さ\n",
    "公式： L = (π * t0 * (2^n+4) * (2^n-1)) / 6\n",
    "\n",
    "input 折る回数\n",
    "\n",
    "def required_length()\n",
    "\n",
    "output 必要な長さ"
   ]
  },
  {
   "cell_type": "code",
   "execution_count": 27,
   "metadata": {},
   "outputs": [
    {
     "name": "stdout",
     "output_type": "stream",
     "text": [
      "188646348487\n"
     ]
    }
   ],
   "source": [
    "import math\n",
    "\n",
    "def required_length(number_of_fold, t0=0.00008):\n",
    "    length = (math.pi * t0  * (2**number_of_fold + 4) * (2**number_of_fold -1)) / 6\n",
    "    return int(length)\n",
    "# 富士山に届くときのnumber_of_foldを関数number_of_foldes_exceeding_heightから持ってくる\n",
    "print(required_length(\n",
    "    number_of_folds_exceeding_height(HEIGHT_OF_MOUNT_FUJI ,THICKNESS)\n",
    "))"
   ]
  },
  {
   "cell_type": "code",
   "execution_count": 28,
   "metadata": {},
   "outputs": [
    {
     "name": "stdout",
     "output_type": "stream",
     "text": [
      "3240919444170781229056\n"
     ]
    }
   ],
   "source": [
    "# 月に届くための長さ\n",
    "MOON_DISTANCE = 384400000\n",
    "print(required_length(\n",
    "    number_of_folds_exceeding_height(MOON_DISTANCE, THICKNESS))\n",
    "     )"
   ]
  },
  {
   "cell_type": "code",
   "execution_count": 29,
   "metadata": {},
   "outputs": [
    {
     "name": "stdout",
     "output_type": "stream",
     "text": [
      "14595803601100347983589756318297096192\n"
     ]
    }
   ],
   "source": [
    "# 最も近い太陽以外の恒星\n",
    "PROXIMA_CENTAURI = 4.243 * 9.461e+15\n",
    "print(required_length(\n",
    "    number_of_folds_exceeding_height(PROXIMA_CENTAURI, THICKNESS))\n",
    "     )"
   ]
  },
  {
   "cell_type": "code",
   "execution_count": null,
   "metadata": {},
   "outputs": [],
   "source": []
  }
 ],
 "metadata": {
  "kernelspec": {
   "display_name": "Python 3",
   "language": "python",
   "name": "python3"
  },
  "language_info": {
   "codemirror_mode": {
    "name": "ipython",
    "version": 3
   },
   "file_extension": ".py",
   "mimetype": "text/x-python",
   "name": "python",
   "nbconvert_exporter": "python",
   "pygments_lexer": "ipython3",
   "version": "3.6.7"
  }
 },
 "nbformat": 4,
 "nbformat_minor": 2
}
