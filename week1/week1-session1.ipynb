{
 "cells": [
  {
   "cell_type": "markdown",
   "metadata": {},
   "source": [
    "## 曽呂利新左衛門問題"
   ]
  },
  {
   "cell_type": "markdown",
   "metadata": {},
   "source": [
    "## 5日後にもらえる米粒の数を計算する\n",
    "\n",
    "秀吉から褒美を下される際、何を希望するか尋ねられた新左衛門は、今日は米1粒、翌日には倍の2粒、その翌日には更に倍の4粒と、日ごとに倍の量の米を100日間もらう事を希望した。米粒なら大した事はないと思った秀吉は簡単に承諾したが、日ごとに倍ずつ増やして行くと100日後には膨大な量になる事に途中で気づき、他の褒美に変えてもらった。\n",
    "\n",
    "\n",
    "1日目:1\n",
    "2日目:1*2\n",
    "3日目：1*2*2\n",
    "4日目:1*2*2*2\n",
    "5日目:1*2*2*2*2\n",
    "\n",
    "\n",
    "## 5日後には合計で米粒をいくつもらっているのかを計算する\n",
    "\n",
    "\n",
    "## 100日後には合計で米粒をいくつもらっているのかを計算する\n",
    "\n",
    "\n",
    "## 1日目から100日目までの「その日にもらう米の数」を計算する\n",
    "\n",
    "\n",
    "## その日までに累計で貰う米の数を計算して推移を折れ線グラフで表現\n"
   ]
  },
  {
   "cell_type": "code",
   "execution_count": 4,
   "metadata": {},
   "outputs": [
    {
     "name": "stdout",
     "output_type": "stream",
     "text": [
      "5 16\n",
      "31\n",
      "633825300114114700748351602688\n",
      "1267650600228229401496703205375\n",
      "[1, 3, 7, 15, 31, 63, 127, 255, 511, 1023, 2047, 4095, 8191, 16383, 32767, 65535, 131071, 262143, 524287, 1048575, 2097151, 4194303, 8388607, 16777215, 33554431, 67108863, 134217727, 268435455, 536870911, 1073741823, 2147483647, 4294967295, 8589934591, 17179869183, 34359738367, 68719476735, 137438953471, 274877906943, 549755813887, 1099511627775, 2199023255551, 4398046511103, 8796093022207, 17592186044415, 35184372088831, 70368744177663, 140737488355327, 281474976710655, 562949953421311, 1125899906842623, 2251799813685247, 4503599627370495, 9007199254740991, 18014398509481983, 36028797018963967, 72057594037927935, 144115188075855871, 288230376151711743, 576460752303423487, 1152921504606846975, 2305843009213693951, 4611686018427387903, 9223372036854775807, 18446744073709551615, 36893488147419103231, 73786976294838206463, 147573952589676412927, 295147905179352825855, 590295810358705651711, 1180591620717411303423, 2361183241434822606847, 4722366482869645213695, 9444732965739290427391, 18889465931478580854783, 37778931862957161709567, 75557863725914323419135, 151115727451828646838271, 302231454903657293676543, 604462909807314587353087, 1208925819614629174706175, 2417851639229258349412351, 4835703278458516698824703, 9671406556917033397649407, 19342813113834066795298815, 38685626227668133590597631, 77371252455336267181195263, 154742504910672534362390527, 309485009821345068724781055, 618970019642690137449562111, 1237940039285380274899124223, 2475880078570760549798248447, 4951760157141521099596496895, 9903520314283042199192993791, 19807040628566084398385987583, 39614081257132168796771975167, 79228162514264337593543950335, 158456325028528675187087900671, 316912650057057350374175801343, 633825300114114700748351602687, 1267650600228229401496703205375]\n"
     ]
    },
    {
     "data": {
      "text/plain": [
       "[<matplotlib.lines.Line2D at 0x2bafeac5518>]"
      ]
     },
     "execution_count": 4,
     "metadata": {},
     "output_type": "execute_result"
    },
    {
     "data": {
      "image/png": "[encoded data removed]",
      "text/plain": [
       "<Figure size 432x288 with 1 Axes>"
      ]
     },
     "metadata": {
      "needs_background": "light"
     },
     "output_type": "display_data"
    }
   ],
   "source": [
    "import matplotlib.pyplot as plt\n",
    "%matplotlib inline\n",
    "from itertools import accumulate\n",
    "\n",
    "## 5日後にもらえる米粒の数を計算する\n",
    "rice_of_hideyoshi = 1\n",
    "i = 5\n",
    "grain_of_rice_5days = rice_of_hideyoshi * 2**(i-1)\n",
    "print(i, grain_of_rice_5days)\n",
    "\n",
    "\n",
    "## 5日後には合計で米粒をいくつもらっているのかを計算する\n",
    "list_of_rices = []\n",
    "grain_of_rice_5days = rice_of_hideyoshi\n",
    "for _ in range(5):\n",
    "    list_of_rices.append(grain_of_rice_5days)\n",
    "    grain_of_rice_5days *= 2\n",
    "sum_of_rices = sum(list_of_rices)\n",
    "print(sum_of_rices)\n",
    "\n",
    "## 100日後には米粒をいくつもらっているのかを計算する\n",
    "i = 100\n",
    "grain_of_rice_100days =  rice_of_hideyoshi * 2**(i-1)\n",
    "print(grain_of_rice_100days)\n",
    "\n",
    "## 1日目から100日目までの累計を計算する\n",
    "list_of_rices = []\n",
    "grain_of_rice_100days = rice_of_hideyoshi\n",
    "for _ in range(100):\n",
    "    list_of_rices.append(grain_of_rice_100days)\n",
    "    grain_of_rice_100days *= 2\n",
    "sum_of_rices = sum(list_of_rices)\n",
    "print(sum_of_rices)\n",
    "\n",
    "## その日までに累計で貰う米の数を計算する\n",
    "sum_of_rices_list = list(accumulate(list_of_rices))\n",
    "print(sum_of_rices_list)\n",
    "\n",
    "plt.title('sum_of_rices')\n",
    "plt.xlabel('days')\n",
    "plt.ylabel('sum_of_rices')\n",
    "plt.plot(sum_of_rices_list)"
   ]
  },
  {
   "cell_type": "code",
   "execution_count": 5,
   "metadata": {},
   "outputs": [
    {
     "name": "stdout",
     "output_type": "stream",
     "text": [
      "[1, 3, 7, 15, 31, 63, 127, 255, 511, 1023, 2047, 4095, 8191, 16383, 32767, 65535, 131071, 262143, 524287, 1048575, 2097151, 4194303, 8388607, 16777215, 33554431, 67108863, 134217727, 268435455, 536870911, 1073741823, 2147483647, 4294967295, 8589934591, 17179869183, 34359738367, 68719476735, 137438953471, 274877906943, 549755813887, 1099511627775, 2199023255551, 4398046511103, 8796093022207, 17592186044415, 35184372088831, 70368744177663, 140737488355327, 281474976710655, 562949953421311, 1125899906842623, 2251799813685247, 4503599627370495, 9007199254740991, 18014398509481983, 36028797018963967, 72057594037927935, 144115188075855871, 288230376151711743, 576460752303423487, 1152921504606846975, 2305843009213693951, 4611686018427387903, 9223372036854775807, 18446744073709551615, 36893488147419103231, 73786976294838206463, 147573952589676412927, 295147905179352825855, 590295810358705651711, 1180591620717411303423, 2361183241434822606847, 4722366482869645213695, 9444732965739290427391, 18889465931478580854783, 37778931862957161709567, 75557863725914323419135, 151115727451828646838271, 302231454903657293676543, 604462909807314587353087, 1208925819614629174706175, 2417851639229258349412351, 4835703278458516698824703, 9671406556917033397649407, 19342813113834066795298815, 38685626227668133590597631, 77371252455336267181195263, 154742504910672534362390527, 309485009821345068724781055, 618970019642690137449562111, 1237940039285380274899124223, 2475880078570760549798248447, 4951760157141521099596496895, 9903520314283042199192993791, 19807040628566084398385987583, 39614081257132168796771975167, 79228162514264337593543950335, 158456325028528675187087900671, 316912650057057350374175801343, 633825300114114700748351602687, 1267650600228229401496703205375]\n"
     ]
    }
   ],
   "source": [
    "#100日後以外の米の数\n",
    "from itertools import accumulate\n",
    "\n",
    "def compute_sorori_shinzaemon(day=100):\n",
    "\n",
    "    rice_of_hideyoshi = 1\n",
    "    list_n_grains = []\n",
    "    \n",
    "    ## その日時点でいくつか？\n",
    "    grain_of_rices = rice_of_hideyoshi\n",
    "    for _ in range(day):\n",
    "        list_n_grains.append(grain_of_rices)\n",
    "        grain_of_rices *= 2 \n",
    "        \n",
    "    \n",
    "    ## その日までに累計でいくつか？\n",
    "    list_of_rices = []\n",
    "    grain_of_rices = rice_of_hideyoshi\n",
    "    for i in range(day):\n",
    "        list_of_rices.append(grain_of_rices)\n",
    "        grain_of_rices *= 2\n",
    "        list_total_grains = list(accumulate(list_of_rices))\n",
    "        \n",
    "    return list_n_grains, list_total_grains\n",
    "\n",
    "list_n_grains, list_total_grains = compute_sorori_shinzaemon(100)\n",
    "\n",
    "print(list_total_grains)"
   ]
  },
  {
   "cell_type": "markdown",
   "metadata": {},
   "source": [
    "input day\n",
    "output list_n_grains, list_total_grains"
   ]
  },
  {
   "cell_type": "markdown",
   "metadata": {},
   "source": [
    "【課題】何人が何日生活できる米か\n",
    "この米があれば何人が何日生活できるか計算する関数を作成してください。機械学習コースを受講する期間に貰える米粒で、受講している人数であれば、何日間生活できるかを出力してみましょう。\n",
    "\n",
    "受講人数: 9人 関数の最低限の入力は米粒の数(int)と人数(int)、出力は生活できる日数(int)です。関数名やコメントなどは分かりやすく考えて作成してください。\n",
    "\n",
    "input : rice, human def days_of_can_survive(rice, human): output : days\n",
    "\n",
    "ここでは1日に必要な米粒の数は提示しません。自分なりに調べて、計算式に落とし込んでください。どう調べ、何を根拠にしたかもコメントを残しておいてください。\n",
    "\n",
    "基礎代謝: 1,500キロカロリー 生命維持のために最低限必要なエネルギー量で、１日の総消費エネルギーの約70%。 米1粒: 72cal 人数 9人 1日生きるためには、 1,500 * 9 キロカロリー必要。 1日生きるために消費される米粒数は、1,500 * 9 * 1000 / 72 生存可能日数は、 ライスの量 / (1,500 * 9 * 1000 / 72)"
   ]
  },
  {
   "cell_type": "code",
   "execution_count": 6,
   "metadata": {},
   "outputs": [
    {
     "name": "stdout",
     "output_type": "stream",
     "text": [
      "1267650600228229401496703205375\n",
      "676080320121722361610240\n"
     ]
    }
   ],
   "source": [
    "BASL_METABOLISM = 15000000\n",
    "number_of_people = 9\n",
    "calorie_of_rice = 72\n",
    "\n",
    "# 仮設定\n",
    "rices = list_total_grains[-1]\n",
    "print(rices)\n",
    "def days_of_can_survive(rices, number_of_people):\n",
    "    days = rices / (BASL_METABOLISM * number_of_people / calorie_of_rice)\n",
    "    return int(days)\n",
    "\n",
    "print(days_of_can_survive(rices, number_of_people))"
   ]
  },
  {
   "cell_type": "code",
   "execution_count": null,
   "metadata": {},
   "outputs": [],
   "source": []
  }
 ],
 "metadata": {
  "kernelspec": {
   "display_name": "Python 3",
   "language": "python",
   "name": "python3"
  },
  "language_info": {
   "codemirror_mode": {
    "name": "ipython",
    "version": 3
   },
   "file_extension": ".py",
   "mimetype": "text/x-python",
   "name": "python",
   "nbconvert_exporter": "python",
   "pygments_lexer": "ipython3",
   "version": "3.6.7"
  }
 },
 "nbformat": 4,
 "nbformat_minor": 2
}
