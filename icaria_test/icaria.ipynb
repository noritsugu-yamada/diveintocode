{
 "cells": [
  {
   "cell_type": "code",
   "execution_count": 1,
   "metadata": {
    "colab": {
     "base_uri": "https://localhost:8080/",
     "height": 122
    },
    "colab_type": "code",
    "executionInfo": {
     "elapsed": 43142,
     "status": "ok",
     "timestamp": 1560238269048,
     "user": {
      "displayName": "山田智継",
      "photoUrl": "https://lh4.googleusercontent.com/-2OPZw8DvGcY/AAAAAAAAAAI/AAAAAAAAAp0/HF0-Q5UiENk/s64/photo.jpg",
      "userId": "13526205579918780782"
     },
     "user_tz": -540
    },
    "id": "XlaamDKd2uAi",
    "outputId": "1f5f501a-5d35-4b19-ef3a-a8a4ac0e00bc"
   },
   "outputs": [
    {
     "name": "stdout",
     "output_type": "stream",
     "text": [
      "Go to this URL in a browser: https://accounts.google.com/o/oauth2/auth?client_id=947318989803-6bn6qk8qdgf4n4g3pfee6491hc0brc4i.apps.googleusercontent.com&redirect_uri=urn%3Aietf%3Awg%3Aoauth%3A2.0%3Aoob&scope=email%20https%3A%2F%2Fwww.googleapis.com%2Fauth%2Fdocs.test%20https%3A%2F%2Fwww.googleapis.com%2Fauth%2Fdrive%20https%3A%2F%2Fwww.googleapis.com%2Fauth%2Fdrive.photos.readonly%20https%3A%2F%2Fwww.googleapis.com%2Fauth%2Fpeopleapi.readonly&response_type=code\n",
      "\n",
      "Enter your authorization code:\n",
      "··········\n",
      "Mounted at /content/drive\n"
     ]
    }
   ],
   "source": [
    "from google.colab import drive\n",
    "drive.mount('/content/drive')"
   ]
  },
  {
   "cell_type": "code",
   "execution_count": 2,
   "metadata": {
    "colab": {
     "base_uri": "https://localhost:8080/",
     "height": 34
    },
    "colab_type": "code",
    "executionInfo": {
     "elapsed": 4262,
     "status": "ok",
     "timestamp": 1560239492014,
     "user": {
      "displayName": "山田智継",
      "photoUrl": "https://lh4.googleusercontent.com/-2OPZw8DvGcY/AAAAAAAAAAI/AAAAAAAAAp0/HF0-Q5UiENk/s64/photo.jpg",
      "userId": "13526205579918780782"
     },
     "user_tz": -540
    },
    "id": "PnAg0c6A20We",
    "outputId": "a6a5ecf3-8d3d-422d-e3c1-00877f9038fe"
   },
   "outputs": [
    {
     "name": "stdout",
     "output_type": "stream",
     "text": [
      "/content/drive/My Drive/icaria_pre_task/mfeat\n"
     ]
    }
   ],
   "source": [
    "cd drive/My Drive/icaria_pre_task/mfeat"
   ]
  },
  {
   "cell_type": "code",
   "execution_count": 0,
   "metadata": {
    "colab": {},
    "colab_type": "code",
    "id": "CVvjt0Qh3tAI"
   },
   "outputs": [],
   "source": [
    "import pandas as pd\n",
    "import numpy as np\n",
    "from sklearn.model_selection import train_test_split\n",
    "from sklearn.model_selection import KFold, StratifiedKFold\n",
    "from sklearn.model_selection import GridSearchCV\n",
    "from sklearn.linear_model import LogisticRegression\n",
    "from sklearn.svm import SVC\n",
    "import lightgbm as lgb\n",
    "import matplotlib.pyplot as plt\n",
    "import seaborn as sns\n",
    "%matplotlib inline"
   ]
  },
  {
   "cell_type": "markdown",
   "metadata": {
    "colab_type": "text",
    "id": "EG6zHKnY-wki"
   },
   "source": [
    "##fou 76個のフーリエ変換"
   ]
  },
  {
   "cell_type": "code",
   "execution_count": 18,
   "metadata": {
    "colab": {
     "base_uri": "https://localhost:8080/",
     "height": 204
    },
    "colab_type": "code",
    "executionInfo": {
     "elapsed": 4542,
     "status": "ok",
     "timestamp": 1560240379744,
     "user": {
      "displayName": "山田智継",
      "photoUrl": "https://lh4.googleusercontent.com/-2OPZw8DvGcY/AAAAAAAAAAI/AAAAAAAAAp0/HF0-Q5UiENk/s64/photo.jpg",
      "userId": "13526205579918780782"
     },
     "user_tz": -540
    },
    "id": "STK2mkym3-6J",
    "outputId": "234a33ed-de73-4de9-c204-7bdc0dc97319"
   },
   "outputs": [
    {
     "data": {
      "text/html": [
       "<div>\n",
       "<style scoped>\n",
       "    .dataframe tbody tr th:only-of-type {\n",
       "        vertical-align: middle;\n",
       "    }\n",
       "\n",
       "    .dataframe tbody tr th {\n",
       "        vertical-align: top;\n",
       "    }\n",
       "\n",
       "    .dataframe thead th {\n",
       "        text-align: right;\n",
       "    }\n",
       "</style>\n",
       "<table border=\"1\" class=\"dataframe\">\n",
       "  <thead>\n",
       "    <tr style=\"text-align: right;\">\n",
       "      <th></th>\n",
       "      <th>0</th>\n",
       "    </tr>\n",
       "  </thead>\n",
       "  <tbody>\n",
       "    <tr>\n",
       "      <th>0</th>\n",
       "      <td>0.06588172  0.19731169  0.10382563  0.270361...</td>\n",
       "    </tr>\n",
       "    <tr>\n",
       "      <th>1</th>\n",
       "      <td>0.04914215  0.17597068  0.10551464  0.227094...</td>\n",
       "    </tr>\n",
       "    <tr>\n",
       "      <th>2</th>\n",
       "      <td>0.03417192  0.22764888  0.10876636  0.127696...</td>\n",
       "    </tr>\n",
       "    <tr>\n",
       "      <th>3</th>\n",
       "      <td>0.06233634  0.21797938  0.08024345  0.289591...</td>\n",
       "    </tr>\n",
       "    <tr>\n",
       "      <th>4</th>\n",
       "      <td>0.06196956  0.19835840  0.11123936  0.253460...</td>\n",
       "    </tr>\n",
       "  </tbody>\n",
       "</table>\n",
       "</div>"
      ],
      "text/plain": [
       "                                                   0\n",
       "0    0.06588172  0.19731169  0.10382563  0.270361...\n",
       "1    0.04914215  0.17597068  0.10551464  0.227094...\n",
       "2    0.03417192  0.22764888  0.10876636  0.127696...\n",
       "3    0.06233634  0.21797938  0.08024345  0.289591...\n",
       "4    0.06196956  0.19835840  0.11123936  0.253460..."
      ]
     },
     "execution_count": 18,
     "metadata": {
      "tags": []
     },
     "output_type": "execute_result"
    }
   ],
   "source": [
    "# csv fileのデータを整形する(各係数とtarget)\n",
    "fou_df = pd.read_csv(\"mfeat-fou.csv\",header=None)\n",
    "fou_df.head() #一つのcolumnに全ての係数が入っている"
   ]
  },
  {
   "cell_type": "code",
   "execution_count": 0,
   "metadata": {
    "colab": {},
    "colab_type": "code",
    "id": "tXotFj5HPVAa"
   },
   "outputs": [],
   "source": [
    "# 各係数をcolumnにする関数を作成\n",
    "def create_new_df(df):\n",
    "  df_array =np.array(df)\n",
    "  new_list = []\n",
    "  for i in range(len(df_array)):\n",
    "    cofficients = df_array[i][0].rstrip().split(' ')\n",
    "    coefficient_list = []\n",
    "    for j in cofficients:\n",
    "      if j:\n",
    "        coefficient_list.append(float(j))\n",
    "    new_list += [coefficient_list]\n",
    "  new_array = np.array(new_list)\n",
    "  new_df = pd.DataFrame(new_array)\n",
    "  return new_df"
   ]
  },
  {
   "cell_type": "code",
   "execution_count": 0,
   "metadata": {
    "colab": {},
    "colab_type": "code",
    "id": "f8pbpG8aQzx6"
   },
   "outputs": [],
   "source": [
    "new_fou_df = create_new_df(fou_df)"
   ]
  },
  {
   "cell_type": "code",
   "execution_count": 0,
   "metadata": {
    "colab": {
     "base_uri": "https://localhost:8080/",
     "height": 224
    },
    "colab_type": "code",
    "executionInfo": {
     "elapsed": 10479,
     "status": "ok",
     "timestamp": 1559810037356,
     "user": {
      "displayName": "山田智継",
      "photoUrl": "https://lh4.googleusercontent.com/-2OPZw8DvGcY/AAAAAAAAAAI/AAAAAAAAAp0/HF0-Q5UiENk/s64/photo.jpg",
      "userId": "13526205579918780782"
     },
     "user_tz": -540
    },
    "id": "T3lMHycNF0gx",
    "outputId": "3f64d4e6-53a1-4257-d3ae-09222420a8c4"
   },
   "outputs": [
    {
     "data": {
      "text/html": [
       "<div>\n",
       "<style scoped>\n",
       "    .dataframe tbody tr th:only-of-type {\n",
       "        vertical-align: middle;\n",
       "    }\n",
       "\n",
       "    .dataframe tbody tr th {\n",
       "        vertical-align: top;\n",
       "    }\n",
       "\n",
       "    .dataframe thead th {\n",
       "        text-align: right;\n",
       "    }\n",
       "</style>\n",
       "<table border=\"1\" class=\"dataframe\">\n",
       "  <thead>\n",
       "    <tr style=\"text-align: right;\">\n",
       "      <th></th>\n",
       "      <th>0</th>\n",
       "      <th>1</th>\n",
       "      <th>2</th>\n",
       "      <th>3</th>\n",
       "      <th>4</th>\n",
       "      <th>5</th>\n",
       "      <th>6</th>\n",
       "      <th>7</th>\n",
       "      <th>8</th>\n",
       "      <th>9</th>\n",
       "      <th>10</th>\n",
       "      <th>11</th>\n",
       "      <th>12</th>\n",
       "      <th>13</th>\n",
       "      <th>14</th>\n",
       "      <th>15</th>\n",
       "      <th>16</th>\n",
       "      <th>17</th>\n",
       "      <th>18</th>\n",
       "      <th>19</th>\n",
       "      <th>20</th>\n",
       "      <th>21</th>\n",
       "      <th>22</th>\n",
       "      <th>23</th>\n",
       "      <th>24</th>\n",
       "      <th>25</th>\n",
       "      <th>26</th>\n",
       "      <th>27</th>\n",
       "      <th>28</th>\n",
       "      <th>29</th>\n",
       "      <th>30</th>\n",
       "      <th>31</th>\n",
       "      <th>32</th>\n",
       "      <th>33</th>\n",
       "      <th>34</th>\n",
       "      <th>35</th>\n",
       "      <th>36</th>\n",
       "      <th>37</th>\n",
       "      <th>38</th>\n",
       "      <th>39</th>\n",
       "      <th>40</th>\n",
       "      <th>41</th>\n",
       "      <th>42</th>\n",
       "      <th>43</th>\n",
       "      <th>44</th>\n",
       "      <th>45</th>\n",
       "      <th>46</th>\n",
       "      <th>47</th>\n",
       "      <th>48</th>\n",
       "      <th>49</th>\n",
       "      <th>50</th>\n",
       "      <th>51</th>\n",
       "      <th>52</th>\n",
       "      <th>53</th>\n",
       "      <th>54</th>\n",
       "      <th>55</th>\n",
       "      <th>56</th>\n",
       "      <th>57</th>\n",
       "      <th>58</th>\n",
       "      <th>59</th>\n",
       "      <th>60</th>\n",
       "      <th>61</th>\n",
       "      <th>62</th>\n",
       "      <th>63</th>\n",
       "      <th>64</th>\n",
       "      <th>65</th>\n",
       "      <th>66</th>\n",
       "      <th>67</th>\n",
       "      <th>68</th>\n",
       "      <th>69</th>\n",
       "      <th>70</th>\n",
       "      <th>71</th>\n",
       "      <th>72</th>\n",
       "      <th>73</th>\n",
       "      <th>74</th>\n",
       "      <th>75</th>\n",
       "    </tr>\n",
       "  </thead>\n",
       "  <tbody>\n",
       "    <tr>\n",
       "      <th>0</th>\n",
       "      <td>0.065882</td>\n",
       "      <td>0.197312</td>\n",
       "      <td>0.103826</td>\n",
       "      <td>0.270362</td>\n",
       "      <td>0.616078</td>\n",
       "      <td>0.035856</td>\n",
       "      <td>0.424572</td>\n",
       "      <td>0.089701</td>\n",
       "      <td>0.367773</td>\n",
       "      <td>0.037065</td>\n",
       "      <td>0.075942</td>\n",
       "      <td>0.263906</td>\n",
       "      <td>0.077903</td>\n",
       "      <td>0.372009</td>\n",
       "      <td>0.219485</td>\n",
       "      <td>0.055327</td>\n",
       "      <td>0.108906</td>\n",
       "      <td>0.127752</td>\n",
       "      <td>0.114051</td>\n",
       "      <td>0.018581</td>\n",
       "      <td>0.102627</td>\n",
       "      <td>0.172682</td>\n",
       "      <td>0.073033</td>\n",
       "      <td>0.140344</td>\n",
       "      <td>0.132199</td>\n",
       "      <td>0.076015</td>\n",
       "      <td>0.032517</td>\n",
       "      <td>0.128840</td>\n",
       "      <td>0.120526</td>\n",
       "      <td>0.016615</td>\n",
       "      <td>0.102583</td>\n",
       "      <td>0.101625</td>\n",
       "      <td>0.065730</td>\n",
       "      <td>0.035213</td>\n",
       "      <td>0.079009</td>\n",
       "      <td>0.083773</td>\n",
       "      <td>0.021491</td>\n",
       "      <td>0.121625</td>\n",
       "      <td>0.067512</td>\n",
       "      <td>0.033777</td>\n",
       "      <td>0.099013</td>\n",
       "      <td>0.059408</td>\n",
       "      <td>0.081286</td>\n",
       "      <td>0.052345</td>\n",
       "      <td>0.090500</td>\n",
       "      <td>0.063582</td>\n",
       "      <td>0.081104</td>\n",
       "      <td>0.059101</td>\n",
       "      <td>0.097236</td>\n",
       "      <td>0.041576</td>\n",
       "      <td>0.083515</td>\n",
       "      <td>0.042379</td>\n",
       "      <td>0.082965</td>\n",
       "      <td>0.077170</td>\n",
       "      <td>0.116732</td>\n",
       "      <td>0.034761</td>\n",
       "      <td>0.109485</td>\n",
       "      <td>0.016423</td>\n",
       "      <td>0.099352</td>\n",
       "      <td>0.113763</td>\n",
       "      <td>0.086372</td>\n",
       "      <td>0.167654</td>\n",
       "      <td>0.106281</td>\n",
       "      <td>0.125783</td>\n",
       "      <td>0.090675</td>\n",
       "      <td>0.081256</td>\n",
       "      <td>0.123448</td>\n",
       "      <td>0.113374</td>\n",
       "      <td>0.074343</td>\n",
       "      <td>0.281666</td>\n",
       "      <td>0.067795</td>\n",
       "      <td>0.344182</td>\n",
       "      <td>0.038963</td>\n",
       "      <td>0.394366</td>\n",
       "      <td>0.049971</td>\n",
       "      <td>0.344871</td>\n",
       "    </tr>\n",
       "    <tr>\n",
       "      <th>1</th>\n",
       "      <td>0.049142</td>\n",
       "      <td>0.175971</td>\n",
       "      <td>0.105515</td>\n",
       "      <td>0.227095</td>\n",
       "      <td>0.599280</td>\n",
       "      <td>0.041217</td>\n",
       "      <td>0.431078</td>\n",
       "      <td>0.096801</td>\n",
       "      <td>0.326739</td>\n",
       "      <td>0.059661</td>\n",
       "      <td>0.017184</td>\n",
       "      <td>0.314690</td>\n",
       "      <td>0.012904</td>\n",
       "      <td>0.453107</td>\n",
       "      <td>0.209364</td>\n",
       "      <td>0.053331</td>\n",
       "      <td>0.081334</td>\n",
       "      <td>0.007550</td>\n",
       "      <td>0.234876</td>\n",
       "      <td>0.043490</td>\n",
       "      <td>0.019631</td>\n",
       "      <td>0.161129</td>\n",
       "      <td>0.044329</td>\n",
       "      <td>0.132679</td>\n",
       "      <td>0.130415</td>\n",
       "      <td>0.073866</td>\n",
       "      <td>0.051192</td>\n",
       "      <td>0.030221</td>\n",
       "      <td>0.144867</td>\n",
       "      <td>0.023895</td>\n",
       "      <td>0.016790</td>\n",
       "      <td>0.121181</td>\n",
       "      <td>0.076889</td>\n",
       "      <td>0.054896</td>\n",
       "      <td>0.088678</td>\n",
       "      <td>0.097209</td>\n",
       "      <td>0.019548</td>\n",
       "      <td>0.026906</td>\n",
       "      <td>0.113283</td>\n",
       "      <td>0.020423</td>\n",
       "      <td>0.024929</td>\n",
       "      <td>0.085364</td>\n",
       "      <td>0.090844</td>\n",
       "      <td>0.011986</td>\n",
       "      <td>0.092177</td>\n",
       "      <td>0.072633</td>\n",
       "      <td>0.006894</td>\n",
       "      <td>0.040413</td>\n",
       "      <td>0.007373</td>\n",
       "      <td>0.030241</td>\n",
       "      <td>0.088277</td>\n",
       "      <td>0.101808</td>\n",
       "      <td>0.082933</td>\n",
       "      <td>0.117419</td>\n",
       "      <td>0.030040</td>\n",
       "      <td>0.122958</td>\n",
       "      <td>0.015721</td>\n",
       "      <td>0.081246</td>\n",
       "      <td>0.054884</td>\n",
       "      <td>0.087803</td>\n",
       "      <td>0.069228</td>\n",
       "      <td>0.145889</td>\n",
       "      <td>0.019964</td>\n",
       "      <td>0.193200</td>\n",
       "      <td>0.014135</td>\n",
       "      <td>0.131552</td>\n",
       "      <td>0.045310</td>\n",
       "      <td>0.069337</td>\n",
       "      <td>0.045386</td>\n",
       "      <td>0.254264</td>\n",
       "      <td>0.045447</td>\n",
       "      <td>0.335659</td>\n",
       "      <td>0.021719</td>\n",
       "      <td>0.445277</td>\n",
       "      <td>0.083978</td>\n",
       "      <td>0.354092</td>\n",
       "    </tr>\n",
       "    <tr>\n",
       "      <th>2</th>\n",
       "      <td>0.034172</td>\n",
       "      <td>0.227649</td>\n",
       "      <td>0.108766</td>\n",
       "      <td>0.127697</td>\n",
       "      <td>0.612494</td>\n",
       "      <td>0.056554</td>\n",
       "      <td>0.470639</td>\n",
       "      <td>0.041903</td>\n",
       "      <td>0.324267</td>\n",
       "      <td>0.044569</td>\n",
       "      <td>0.017012</td>\n",
       "      <td>0.283372</td>\n",
       "      <td>0.060468</td>\n",
       "      <td>0.364420</td>\n",
       "      <td>0.218012</td>\n",
       "      <td>0.065799</td>\n",
       "      <td>0.100798</td>\n",
       "      <td>0.041148</td>\n",
       "      <td>0.103112</td>\n",
       "      <td>0.029623</td>\n",
       "      <td>0.016676</td>\n",
       "      <td>0.126331</td>\n",
       "      <td>0.073546</td>\n",
       "      <td>0.160574</td>\n",
       "      <td>0.127323</td>\n",
       "      <td>0.076715</td>\n",
       "      <td>0.058565</td>\n",
       "      <td>0.007764</td>\n",
       "      <td>0.074607</td>\n",
       "      <td>0.021533</td>\n",
       "      <td>0.016114</td>\n",
       "      <td>0.090223</td>\n",
       "      <td>0.077979</td>\n",
       "      <td>0.090263</td>\n",
       "      <td>0.072140</td>\n",
       "      <td>0.091450</td>\n",
       "      <td>0.035295</td>\n",
       "      <td>0.020528</td>\n",
       "      <td>0.063147</td>\n",
       "      <td>0.022222</td>\n",
       "      <td>0.038475</td>\n",
       "      <td>0.054014</td>\n",
       "      <td>0.094508</td>\n",
       "      <td>0.039474</td>\n",
       "      <td>0.086138</td>\n",
       "      <td>0.071334</td>\n",
       "      <td>0.014315</td>\n",
       "      <td>0.059481</td>\n",
       "      <td>0.019133</td>\n",
       "      <td>0.046476</td>\n",
       "      <td>0.054556</td>\n",
       "      <td>0.101624</td>\n",
       "      <td>0.073648</td>\n",
       "      <td>0.117885</td>\n",
       "      <td>0.032529</td>\n",
       "      <td>0.057997</td>\n",
       "      <td>0.029461</td>\n",
       "      <td>0.040950</td>\n",
       "      <td>0.033732</td>\n",
       "      <td>0.218233</td>\n",
       "      <td>0.051349</td>\n",
       "      <td>0.190854</td>\n",
       "      <td>0.045106</td>\n",
       "      <td>0.180896</td>\n",
       "      <td>0.036688</td>\n",
       "      <td>0.082467</td>\n",
       "      <td>0.019858</td>\n",
       "      <td>0.218842</td>\n",
       "      <td>0.041087</td>\n",
       "      <td>0.360464</td>\n",
       "      <td>0.047154</td>\n",
       "      <td>0.377408</td>\n",
       "      <td>0.052099</td>\n",
       "      <td>0.445029</td>\n",
       "      <td>0.071234</td>\n",
       "      <td>0.261465</td>\n",
       "    </tr>\n",
       "    <tr>\n",
       "      <th>3</th>\n",
       "      <td>0.062336</td>\n",
       "      <td>0.217979</td>\n",
       "      <td>0.080243</td>\n",
       "      <td>0.289592</td>\n",
       "      <td>0.546316</td>\n",
       "      <td>0.045779</td>\n",
       "      <td>0.425545</td>\n",
       "      <td>0.022841</td>\n",
       "      <td>0.331454</td>\n",
       "      <td>0.119052</td>\n",
       "      <td>0.036931</td>\n",
       "      <td>0.224981</td>\n",
       "      <td>0.051425</td>\n",
       "      <td>0.337966</td>\n",
       "      <td>0.152098</td>\n",
       "      <td>0.072680</td>\n",
       "      <td>0.162303</td>\n",
       "      <td>0.037585</td>\n",
       "      <td>0.056670</td>\n",
       "      <td>0.106918</td>\n",
       "      <td>0.017703</td>\n",
       "      <td>0.109614</td>\n",
       "      <td>0.076275</td>\n",
       "      <td>0.187445</td>\n",
       "      <td>0.059987</td>\n",
       "      <td>0.087590</td>\n",
       "      <td>0.113050</td>\n",
       "      <td>0.038817</td>\n",
       "      <td>0.034270</td>\n",
       "      <td>0.088544</td>\n",
       "      <td>0.018063</td>\n",
       "      <td>0.043295</td>\n",
       "      <td>0.089820</td>\n",
       "      <td>0.156005</td>\n",
       "      <td>0.018523</td>\n",
       "      <td>0.088568</td>\n",
       "      <td>0.092721</td>\n",
       "      <td>0.036220</td>\n",
       "      <td>0.045108</td>\n",
       "      <td>0.066557</td>\n",
       "      <td>0.035874</td>\n",
       "      <td>0.013387</td>\n",
       "      <td>0.087210</td>\n",
       "      <td>0.087777</td>\n",
       "      <td>0.076711</td>\n",
       "      <td>0.019268</td>\n",
       "      <td>0.079736</td>\n",
       "      <td>0.044408</td>\n",
       "      <td>0.043399</td>\n",
       "      <td>0.069940</td>\n",
       "      <td>0.067212</td>\n",
       "      <td>0.010513</td>\n",
       "      <td>0.085155</td>\n",
       "      <td>0.017055</td>\n",
       "      <td>0.073653</td>\n",
       "      <td>0.083279</td>\n",
       "      <td>0.020877</td>\n",
       "      <td>0.105687</td>\n",
       "      <td>0.081941</td>\n",
       "      <td>0.023220</td>\n",
       "      <td>0.089021</td>\n",
       "      <td>0.062116</td>\n",
       "      <td>0.069341</td>\n",
       "      <td>0.158564</td>\n",
       "      <td>0.011687</td>\n",
       "      <td>0.165806</td>\n",
       "      <td>0.083995</td>\n",
       "      <td>0.085479</td>\n",
       "      <td>0.087658</td>\n",
       "      <td>0.151880</td>\n",
       "      <td>0.075950</td>\n",
       "      <td>0.293462</td>\n",
       "      <td>0.022675</td>\n",
       "      <td>0.408291</td>\n",
       "      <td>0.063010</td>\n",
       "      <td>0.401376</td>\n",
       "    </tr>\n",
       "    <tr>\n",
       "      <th>4</th>\n",
       "      <td>0.061970</td>\n",
       "      <td>0.198358</td>\n",
       "      <td>0.111239</td>\n",
       "      <td>0.253460</td>\n",
       "      <td>0.608455</td>\n",
       "      <td>0.023631</td>\n",
       "      <td>0.415246</td>\n",
       "      <td>0.091866</td>\n",
       "      <td>0.309310</td>\n",
       "      <td>0.049142</td>\n",
       "      <td>0.093298</td>\n",
       "      <td>0.315552</td>\n",
       "      <td>0.051809</td>\n",
       "      <td>0.388674</td>\n",
       "      <td>0.216835</td>\n",
       "      <td>0.049581</td>\n",
       "      <td>0.049233</td>\n",
       "      <td>0.156873</td>\n",
       "      <td>0.206554</td>\n",
       "      <td>0.042255</td>\n",
       "      <td>0.102949</td>\n",
       "      <td>0.155439</td>\n",
       "      <td>0.059885</td>\n",
       "      <td>0.058975</td>\n",
       "      <td>0.125538</td>\n",
       "      <td>0.058147</td>\n",
       "      <td>0.067630</td>\n",
       "      <td>0.148337</td>\n",
       "      <td>0.117097</td>\n",
       "      <td>0.050259</td>\n",
       "      <td>0.078909</td>\n",
       "      <td>0.085289</td>\n",
       "      <td>0.082221</td>\n",
       "      <td>0.080176</td>\n",
       "      <td>0.076863</td>\n",
       "      <td>0.058436</td>\n",
       "      <td>0.062460</td>\n",
       "      <td>0.082330</td>\n",
       "      <td>0.045987</td>\n",
       "      <td>0.043482</td>\n",
       "      <td>0.067768</td>\n",
       "      <td>0.060132</td>\n",
       "      <td>0.063493</td>\n",
       "      <td>0.070777</td>\n",
       "      <td>0.047835</td>\n",
       "      <td>0.072733</td>\n",
       "      <td>0.076327</td>\n",
       "      <td>0.056720</td>\n",
       "      <td>0.066385</td>\n",
       "      <td>0.052332</td>\n",
       "      <td>0.049535</td>\n",
       "      <td>0.084414</td>\n",
       "      <td>0.048125</td>\n",
       "      <td>0.107442</td>\n",
       "      <td>0.057394</td>\n",
       "      <td>0.108580</td>\n",
       "      <td>0.072844</td>\n",
       "      <td>0.071208</td>\n",
       "      <td>0.052613</td>\n",
       "      <td>0.102777</td>\n",
       "      <td>0.026283</td>\n",
       "      <td>0.162884</td>\n",
       "      <td>0.063546</td>\n",
       "      <td>0.185552</td>\n",
       "      <td>0.050646</td>\n",
       "      <td>0.130661</td>\n",
       "      <td>0.021004</td>\n",
       "      <td>0.106960</td>\n",
       "      <td>0.032283</td>\n",
       "      <td>0.248565</td>\n",
       "      <td>0.015674</td>\n",
       "      <td>0.386276</td>\n",
       "      <td>0.039481</td>\n",
       "      <td>0.434701</td>\n",
       "      <td>0.069218</td>\n",
       "      <td>0.405403</td>\n",
       "    </tr>\n",
       "  </tbody>\n",
       "</table>\n",
       "</div>"
      ],
      "text/plain": [
       "         0         1         2   ...        73        74        75\n",
       "0  0.065882  0.197312  0.103826  ...  0.394366  0.049971  0.344871\n",
       "1  0.049142  0.175971  0.105515  ...  0.445277  0.083978  0.354092\n",
       "2  0.034172  0.227649  0.108766  ...  0.445029  0.071234  0.261465\n",
       "3  0.062336  0.217979  0.080243  ...  0.408291  0.063010  0.401376\n",
       "4  0.061970  0.198358  0.111239  ...  0.434701  0.069218  0.405403\n",
       "\n",
       "[5 rows x 76 columns]"
      ]
     },
     "execution_count": 7,
     "metadata": {
      "tags": []
     },
     "output_type": "execute_result"
    }
   ],
   "source": [
    "new_fou_df.head()"
   ]
  },
  {
   "cell_type": "code",
   "execution_count": 0,
   "metadata": {
    "colab": {},
    "colab_type": "code",
    "id": "yrBJZ2WD5GGY"
   },
   "outputs": [],
   "source": [
    "# targetの追加\n",
    "def add_target(df):\n",
    "  df['target'] = 0\n",
    "  df['target'][200:400] = 1\n",
    "  df['target'][400:600] = 2\n",
    "  df['target'][600:800] = 3\n",
    "  df['target'][800:1000] = 4\n",
    "  df['target'][1000:1200] = 5\n",
    "  df['target'][1200:1400] = 6\n",
    "  df['target'][1400:1600] = 7\n",
    "  df['target'][1600:1800] = 8\n",
    "  df['target'][1800:2000] = 9\n",
    "  return df"
   ]
  },
  {
   "cell_type": "code",
   "execution_count": 20,
   "metadata": {
    "colab": {
     "base_uri": "https://localhost:8080/",
     "height": 782
    },
    "colab_type": "code",
    "executionInfo": {
     "elapsed": 5116,
     "status": "ok",
     "timestamp": 1560240475516,
     "user": {
      "displayName": "山田智継",
      "photoUrl": "https://lh4.googleusercontent.com/-2OPZw8DvGcY/AAAAAAAAAAI/AAAAAAAAAp0/HF0-Q5UiENk/s64/photo.jpg",
      "userId": "13526205579918780782"
     },
     "user_tz": -540
    },
    "id": "LKqVEnx2UDd4",
    "outputId": "3cc34623-6dc5-4383-9a4f-38e06dabe66d"
   },
   "outputs": [
    {
     "name": "stderr",
     "output_type": "stream",
     "text": [
      "/usr/local/lib/python3.6/dist-packages/ipykernel_launcher.py:3: SettingWithCopyWarning: \n",
      "A value is trying to be set on a copy of a slice from a DataFrame\n",
      "\n",
      "See the caveats in the documentation: http://pandas.pydata.org/pandas-docs/stable/indexing.html#indexing-view-versus-copy\n",
      "  This is separate from the ipykernel package so we can avoid doing imports until\n",
      "/usr/local/lib/python3.6/dist-packages/ipykernel_launcher.py:4: SettingWithCopyWarning: \n",
      "A value is trying to be set on a copy of a slice from a DataFrame\n",
      "\n",
      "See the caveats in the documentation: http://pandas.pydata.org/pandas-docs/stable/indexing.html#indexing-view-versus-copy\n",
      "  after removing the cwd from sys.path.\n",
      "/usr/local/lib/python3.6/dist-packages/ipykernel_launcher.py:5: SettingWithCopyWarning: \n",
      "A value is trying to be set on a copy of a slice from a DataFrame\n",
      "\n",
      "See the caveats in the documentation: http://pandas.pydata.org/pandas-docs/stable/indexing.html#indexing-view-versus-copy\n",
      "  \"\"\"\n",
      "/usr/local/lib/python3.6/dist-packages/ipykernel_launcher.py:6: SettingWithCopyWarning: \n",
      "A value is trying to be set on a copy of a slice from a DataFrame\n",
      "\n",
      "See the caveats in the documentation: http://pandas.pydata.org/pandas-docs/stable/indexing.html#indexing-view-versus-copy\n",
      "  \n",
      "/usr/local/lib/python3.6/dist-packages/ipykernel_launcher.py:7: SettingWithCopyWarning: \n",
      "A value is trying to be set on a copy of a slice from a DataFrame\n",
      "\n",
      "See the caveats in the documentation: http://pandas.pydata.org/pandas-docs/stable/indexing.html#indexing-view-versus-copy\n",
      "  import sys\n",
      "/usr/local/lib/python3.6/dist-packages/ipykernel_launcher.py:8: SettingWithCopyWarning: \n",
      "A value is trying to be set on a copy of a slice from a DataFrame\n",
      "\n",
      "See the caveats in the documentation: http://pandas.pydata.org/pandas-docs/stable/indexing.html#indexing-view-versus-copy\n",
      "  \n",
      "/usr/local/lib/python3.6/dist-packages/ipykernel_launcher.py:9: SettingWithCopyWarning: \n",
      "A value is trying to be set on a copy of a slice from a DataFrame\n",
      "\n",
      "See the caveats in the documentation: http://pandas.pydata.org/pandas-docs/stable/indexing.html#indexing-view-versus-copy\n",
      "  if __name__ == '__main__':\n",
      "/usr/local/lib/python3.6/dist-packages/ipykernel_launcher.py:10: SettingWithCopyWarning: \n",
      "A value is trying to be set on a copy of a slice from a DataFrame\n",
      "\n",
      "See the caveats in the documentation: http://pandas.pydata.org/pandas-docs/stable/indexing.html#indexing-view-versus-copy\n",
      "  # Remove the CWD from sys.path while we load stuff.\n",
      "/usr/local/lib/python3.6/dist-packages/ipykernel_launcher.py:11: SettingWithCopyWarning: \n",
      "A value is trying to be set on a copy of a slice from a DataFrame\n",
      "\n",
      "See the caveats in the documentation: http://pandas.pydata.org/pandas-docs/stable/indexing.html#indexing-view-versus-copy\n",
      "  # This is added back by InteractiveShellApp.init_path()\n"
     ]
    }
   ],
   "source": [
    "new_fou_df = add_target(new_fou_df)"
   ]
  },
  {
   "cell_type": "markdown",
   "metadata": {
    "colab_type": "text",
    "id": "-ZZasX6eFiHi"
   },
   "source": [
    "## 各特徴量のクラスごとの平均値をプロットする"
   ]
  },
  {
   "cell_type": "code",
   "execution_count": 0,
   "metadata": {
    "colab": {
     "base_uri": "https://localhost:8080/",
     "height": 607
    },
    "colab_type": "code",
    "executionInfo": {
     "elapsed": 6762,
     "status": "ok",
     "timestamp": 1559810046833,
     "user": {
      "displayName": "山田智継",
      "photoUrl": "https://lh4.googleusercontent.com/-2OPZw8DvGcY/AAAAAAAAAAI/AAAAAAAAAp0/HF0-Q5UiENk/s64/photo.jpg",
      "userId": "13526205579918780782"
     },
     "user_tz": -540
    },
    "id": "Agjsr22sDhcj",
    "outputId": "6cde745f-d1f8-44ea-eee1-4069fcc09468"
   },
   "outputs": [
    {
     "data": {
      "image/png": "[encoded data removed]",
      "text/plain": [
       "<Figure size 1080x720 with 10 Axes>"
      ]
     },
     "metadata": {
      "tags": []
     },
     "output_type": "display_data"
    }
   ],
   "source": [
    "plt.figure(figsize=(15,10))\n",
    "plt.subplots_adjust(wspace=0.5,hspace=0.5)\n",
    "\n",
    "for i in range(10):\n",
    "  plt.subplot(5,2,i+1)\n",
    "  mean_df = new_fou_df[new_fou_df['target']==i].drop('target',axis=1).mean(axis=0)\n",
    "  mean_df.plot()\n",
    "  plt.title('target={}'.format(i))\n",
    "  #plt.show()\n",
    "plt.show()"
   ]
  },
  {
   "cell_type": "markdown",
   "metadata": {
    "colab_type": "text",
    "id": "djBwE1JOGS0N"
   },
   "source": [
    "### グラフの前半部分と後半部分に特徴が見られる。6と9,1と7の前半部分の形状が似ている。"
   ]
  },
  {
   "cell_type": "code",
   "execution_count": 0,
   "metadata": {
    "colab": {
     "base_uri": "https://localhost:8080/",
     "height": 301
    },
    "colab_type": "code",
    "executionInfo": {
     "elapsed": 1837,
     "status": "ok",
     "timestamp": 1559810066847,
     "user": {
      "displayName": "山田智継",
      "photoUrl": "https://lh4.googleusercontent.com/-2OPZw8DvGcY/AAAAAAAAAAI/AAAAAAAAAp0/HF0-Q5UiENk/s64/photo.jpg",
      "userId": "13526205579918780782"
     },
     "user_tz": -540
    },
    "id": "AlSDtMQ58kar",
    "outputId": "997e72a4-4bd1-46e1-e0a5-742f673642dd"
   },
   "outputs": [
    {
     "data": {
      "text/plain": [
       "Text(0.5, 1.0, 'target=1')"
      ]
     },
     "execution_count": 11,
     "metadata": {
      "tags": []
     },
     "output_type": "execute_result"
    },
    {
     "data": {
      "image/png": "[encoded data removed]",
      "text/plain": [
       "<Figure size 432x288 with 1 Axes>"
      ]
     },
     "metadata": {
      "tags": []
     },
     "output_type": "display_data"
    }
   ],
   "source": [
    "plt.figure()\n",
    "mean_df = new_fou_df[new_fou_df['target']==0].drop('target',axis=1).mean(axis=0)\n",
    "mean_df.plot.bar()\n",
    "plt.title('target={}'.format(0))\n",
    "mean_df2 = new_fou_df[new_fou_df['target']==1].drop('target',axis=1).mean(axis=0)\n",
    "mean_df2.plot.bar()\n",
    "plt.title('target={}'.format(1))"
   ]
  },
  {
   "cell_type": "code",
   "execution_count": 0,
   "metadata": {
    "colab": {},
    "colab_type": "code",
    "id": "cUeZEwtnResp"
   },
   "outputs": [],
   "source": [
    "target = new_fou_df['target']\n",
    "del new_fou_df['target']"
   ]
  },
  {
   "cell_type": "code",
   "execution_count": 0,
   "metadata": {
    "colab": {},
    "colab_type": "code",
    "id": "4wij_gCKh--z"
   },
   "outputs": [],
   "source": [
    "X_train, X_test, y_train, y_test = train_test_split(new_fou_df, target, test_size=0.2)"
   ]
  },
  {
   "cell_type": "code",
   "execution_count": 0,
   "metadata": {
    "colab": {
     "base_uri": "https://localhost:8080/",
     "height": 221
    },
    "colab_type": "code",
    "executionInfo": {
     "elapsed": 140134,
     "status": "ok",
     "timestamp": 1559810219289,
     "user": {
      "displayName": "山田智継",
      "photoUrl": "https://lh4.googleusercontent.com/-2OPZw8DvGcY/AAAAAAAAAAI/AAAAAAAAAp0/HF0-Q5UiENk/s64/photo.jpg",
      "userId": "13526205579918780782"
     },
     "user_tz": -540
    },
    "id": "GJr_XZakp2do",
    "outputId": "8662d8c4-9066-459e-8283-9c91f3dc2fd6"
   },
   "outputs": [
    {
     "data": {
      "text/plain": [
       "GridSearchCV(cv=5, error_score='raise-deprecating',\n",
       "             estimator=SVC(C=1.0, cache_size=200, class_weight=None, coef0=0.0,\n",
       "                           decision_function_shape='ovr', degree=3,\n",
       "                           gamma='auto_deprecated', kernel='rbf', max_iter=-1,\n",
       "                           probability=False, random_state=None, shrinking=True,\n",
       "                           tol=0.001, verbose=False),\n",
       "             iid='warn', n_jobs=None,\n",
       "             param_grid={'C': [0.001, 0.01, 0.1, 1, 10, 100],\n",
       "                         'gamma': [0.001, 0.01, 0.1, 1, 10, 100],\n",
       "                         'kernel': ['rbf', 'linear', 'poly']},\n",
       "             pre_dispatch='2*n_jobs', refit=True, return_train_score=False,\n",
       "             scoring=None, verbose=0)"
      ]
     },
     "execution_count": 14,
     "metadata": {
      "tags": []
     },
     "output_type": "execute_result"
    }
   ],
   "source": [
    "# svcのgrid_search\n",
    "param_grid = {'C': [0.001, 0.01, 0.1, 1, 10, 100],  'gamma' : [0.001, 0.01, 0.1, 1, 10, 100], 'kernel' : ['rbf', 'linear', 'poly']}\n",
    "grid_search = GridSearchCV(SVC(), param_grid, cv=5)\n",
    "grid_search.fit(X_train.values, y_train.values)"
   ]
  },
  {
   "cell_type": "code",
   "execution_count": 0,
   "metadata": {
    "colab": {
     "base_uri": "https://localhost:8080/",
     "height": 68
    },
    "colab_type": "code",
    "executionInfo": {
     "elapsed": 122335,
     "status": "ok",
     "timestamp": 1559810219294,
     "user": {
      "displayName": "山田智継",
      "photoUrl": "https://lh4.googleusercontent.com/-2OPZw8DvGcY/AAAAAAAAAAI/AAAAAAAAAp0/HF0-Q5UiENk/s64/photo.jpg",
      "userId": "13526205579918780782"
     },
     "user_tz": -540
    },
    "id": "59pPRDHzgl2I",
    "outputId": "36dad65b-6181-4301-d8a5-eb195bb219a9"
   },
   "outputs": [
    {
     "name": "stdout",
     "output_type": "stream",
     "text": [
      "Test set score: 0.8225\n",
      "Best parameters: {'C': 100, 'gamma': 1, 'kernel': 'rbf'}\n",
      "Best cross-validation: 0.873125\n"
     ]
    }
   ],
   "source": [
    "print('Test set score: {}'.format(grid_search.score(X_test.values, y_test.values)))\n",
    "print('Best parameters: {}'.format(grid_search.best_params_))\n",
    "print('Best cross-validation: {}'.format(grid_search.best_score_))"
   ]
  },
  {
   "cell_type": "code",
   "execution_count": 0,
   "metadata": {
    "colab": {
     "base_uri": "https://localhost:8080/",
     "height": 119
    },
    "colab_type": "code",
    "executionInfo": {
     "elapsed": 112768,
     "status": "ok",
     "timestamp": 1559810219910,
     "user": {
      "displayName": "山田智継",
      "photoUrl": "https://lh4.googleusercontent.com/-2OPZw8DvGcY/AAAAAAAAAAI/AAAAAAAAAp0/HF0-Q5UiENk/s64/photo.jpg",
      "userId": "13526205579918780782"
     },
     "user_tz": -540
    },
    "id": "HSm-oMZ6eQQa",
    "outputId": "1c8588cc-bbcd-49c5-f908-2e5ced4604ec"
   },
   "outputs": [
    {
     "name": "stdout",
     "output_type": "stream",
     "text": [
      "0.84375\n",
      "0.81875\n",
      "0.7875\n",
      "0.7875\n",
      "0.7875\n",
      "testACC0.78\n"
     ]
    }
   ],
   "source": [
    "# logistic_regression \n",
    "folds = KFold(n_splits=5, shuffle=True, random_state=123)\n",
    "oof_preds = np.zeros(X_train.shape[0])\n",
    "sub_preds = np.zeros(X_test.shape[0])\n",
    "features = [f_ for f_ in X_train.columns if f_ not in [\"target\"]]\n",
    "for n_fold, (trn_idx, val_idx) in enumerate(folds.split(X_train)):\n",
    "    trn_x, trn_y = X_train[features].iloc[trn_idx], y_train.iloc[trn_idx]\n",
    "    val_x, val_y = X_train[features].iloc[val_idx], y_train.iloc[val_idx]\n",
    "    clf = LogisticRegression(solver='lbfgs',multi_class='multinomial')\n",
    "    clf.fit(trn_x, trn_y)\n",
    "    print(clf.score(val_x, val_y))\n",
    "\n",
    "print(\"testACC{}\".format(clf.score(X_test.values, y_test.values)))"
   ]
  },
  {
   "cell_type": "markdown",
   "metadata": {
    "colab_type": "text",
    "id": "mvbTM9KJOL3I"
   },
   "source": [
    "###76のフーリエ変換の係数を特徴量とした場合にSVMで85%ロジスティック回帰で80%のaccuracyが得られることがわかる。\n"
   ]
  },
  {
   "cell_type": "markdown",
   "metadata": {
    "colab_type": "text",
    "id": "bAKfTb0m_KQ4"
   },
   "source": [
    "## fac:216個のプロファイル相関"
   ]
  },
  {
   "cell_type": "code",
   "execution_count": 21,
   "metadata": {
    "colab": {
     "base_uri": "https://localhost:8080/",
     "height": 204
    },
    "colab_type": "code",
    "executionInfo": {
     "elapsed": 10391,
     "status": "ok",
     "timestamp": 1560240540720,
     "user": {
      "displayName": "山田智継",
      "photoUrl": "https://lh4.googleusercontent.com/-2OPZw8DvGcY/AAAAAAAAAAI/AAAAAAAAAp0/HF0-Q5UiENk/s64/photo.jpg",
      "userId": "13526205579918780782"
     },
     "user_tz": -540
    },
    "id": "p7NGOU5UOK00",
    "outputId": "d6b61c56-e803-403f-f918-78b7cf84466b"
   },
   "outputs": [
    {
     "data": {
      "text/html": [
       "<div>\n",
       "<style scoped>\n",
       "    .dataframe tbody tr th:only-of-type {\n",
       "        vertical-align: middle;\n",
       "    }\n",
       "\n",
       "    .dataframe tbody tr th {\n",
       "        vertical-align: top;\n",
       "    }\n",
       "\n",
       "    .dataframe thead th {\n",
       "        text-align: right;\n",
       "    }\n",
       "</style>\n",
       "<table border=\"1\" class=\"dataframe\">\n",
       "  <thead>\n",
       "    <tr style=\"text-align: right;\">\n",
       "      <th></th>\n",
       "      <th>0</th>\n",
       "    </tr>\n",
       "  </thead>\n",
       "  <tbody>\n",
       "    <tr>\n",
       "      <th>0</th>\n",
       "      <td>98  236  531  673  607  647    2    9    3 ...</td>\n",
       "    </tr>\n",
       "    <tr>\n",
       "      <th>1</th>\n",
       "      <td>121  193  607  611  585  665    7    9    2 ...</td>\n",
       "    </tr>\n",
       "    <tr>\n",
       "      <th>2</th>\n",
       "      <td>115  141  590  605  557  627   12    6    3 ...</td>\n",
       "    </tr>\n",
       "    <tr>\n",
       "      <th>3</th>\n",
       "      <td>90  122  627  692  607  642    0    6    4 ...</td>\n",
       "    </tr>\n",
       "    <tr>\n",
       "      <th>4</th>\n",
       "      <td>157  167  681  666  587  666    8    6    1 ...</td>\n",
       "    </tr>\n",
       "  </tbody>\n",
       "</table>\n",
       "</div>"
      ],
      "text/plain": [
       "                                                   0\n",
       "0     98  236  531  673  607  647    2    9    3 ...\n",
       "1    121  193  607  611  585  665    7    9    2 ...\n",
       "2    115  141  590  605  557  627   12    6    3 ...\n",
       "3     90  122  627  692  607  642    0    6    4 ...\n",
       "4    157  167  681  666  587  666    8    6    1 ..."
      ]
     },
     "execution_count": 21,
     "metadata": {
      "tags": []
     },
     "output_type": "execute_result"
    }
   ],
   "source": [
    "fac_df = pd.read_csv(\"mfeat-fac.csv\",header=None)\n",
    "fac_df.head() #一つのcolumnに全ての係数が入っている"
   ]
  },
  {
   "cell_type": "code",
   "execution_count": 22,
   "metadata": {
    "colab": {
     "base_uri": "https://localhost:8080/",
     "height": 782
    },
    "colab_type": "code",
    "executionInfo": {
     "elapsed": 1980,
     "status": "ok",
     "timestamp": 1560240569946,
     "user": {
      "displayName": "山田智継",
      "photoUrl": "https://lh4.googleusercontent.com/-2OPZw8DvGcY/AAAAAAAAAAI/AAAAAAAAAp0/HF0-Q5UiENk/s64/photo.jpg",
      "userId": "13526205579918780782"
     },
     "user_tz": -540
    },
    "id": "PebfewguTQ_3",
    "outputId": "8dc6bf4d-fdbe-485f-b570-224ba9f82412"
   },
   "outputs": [
    {
     "name": "stderr",
     "output_type": "stream",
     "text": [
      "/usr/local/lib/python3.6/dist-packages/ipykernel_launcher.py:3: SettingWithCopyWarning: \n",
      "A value is trying to be set on a copy of a slice from a DataFrame\n",
      "\n",
      "See the caveats in the documentation: http://pandas.pydata.org/pandas-docs/stable/indexing.html#indexing-view-versus-copy\n",
      "  This is separate from the ipykernel package so we can avoid doing imports until\n",
      "/usr/local/lib/python3.6/dist-packages/ipykernel_launcher.py:4: SettingWithCopyWarning: \n",
      "A value is trying to be set on a copy of a slice from a DataFrame\n",
      "\n",
      "See the caveats in the documentation: http://pandas.pydata.org/pandas-docs/stable/indexing.html#indexing-view-versus-copy\n",
      "  after removing the cwd from sys.path.\n",
      "/usr/local/lib/python3.6/dist-packages/ipykernel_launcher.py:5: SettingWithCopyWarning: \n",
      "A value is trying to be set on a copy of a slice from a DataFrame\n",
      "\n",
      "See the caveats in the documentation: http://pandas.pydata.org/pandas-docs/stable/indexing.html#indexing-view-versus-copy\n",
      "  \"\"\"\n",
      "/usr/local/lib/python3.6/dist-packages/ipykernel_launcher.py:6: SettingWithCopyWarning: \n",
      "A value is trying to be set on a copy of a slice from a DataFrame\n",
      "\n",
      "See the caveats in the documentation: http://pandas.pydata.org/pandas-docs/stable/indexing.html#indexing-view-versus-copy\n",
      "  \n",
      "/usr/local/lib/python3.6/dist-packages/ipykernel_launcher.py:7: SettingWithCopyWarning: \n",
      "A value is trying to be set on a copy of a slice from a DataFrame\n",
      "\n",
      "See the caveats in the documentation: http://pandas.pydata.org/pandas-docs/stable/indexing.html#indexing-view-versus-copy\n",
      "  import sys\n",
      "/usr/local/lib/python3.6/dist-packages/ipykernel_launcher.py:8: SettingWithCopyWarning: \n",
      "A value is trying to be set on a copy of a slice from a DataFrame\n",
      "\n",
      "See the caveats in the documentation: http://pandas.pydata.org/pandas-docs/stable/indexing.html#indexing-view-versus-copy\n",
      "  \n",
      "/usr/local/lib/python3.6/dist-packages/ipykernel_launcher.py:9: SettingWithCopyWarning: \n",
      "A value is trying to be set on a copy of a slice from a DataFrame\n",
      "\n",
      "See the caveats in the documentation: http://pandas.pydata.org/pandas-docs/stable/indexing.html#indexing-view-versus-copy\n",
      "  if __name__ == '__main__':\n",
      "/usr/local/lib/python3.6/dist-packages/ipykernel_launcher.py:10: SettingWithCopyWarning: \n",
      "A value is trying to be set on a copy of a slice from a DataFrame\n",
      "\n",
      "See the caveats in the documentation: http://pandas.pydata.org/pandas-docs/stable/indexing.html#indexing-view-versus-copy\n",
      "  # Remove the CWD from sys.path while we load stuff.\n",
      "/usr/local/lib/python3.6/dist-packages/ipykernel_launcher.py:11: SettingWithCopyWarning: \n",
      "A value is trying to be set on a copy of a slice from a DataFrame\n",
      "\n",
      "See the caveats in the documentation: http://pandas.pydata.org/pandas-docs/stable/indexing.html#indexing-view-versus-copy\n",
      "  # This is added back by InteractiveShellApp.init_path()\n"
     ]
    }
   ],
   "source": [
    "new_fac_df = create_new_df(fac_df)\n",
    "new_fac_df = add_target(new_fac_df)"
   ]
  },
  {
   "cell_type": "code",
   "execution_count": 0,
   "metadata": {
    "colab": {
     "base_uri": "https://localhost:8080/",
     "height": 253
    },
    "colab_type": "code",
    "executionInfo": {
     "elapsed": 85301,
     "status": "ok",
     "timestamp": 1559810222684,
     "user": {
      "displayName": "山田智継",
      "photoUrl": "https://lh4.googleusercontent.com/-2OPZw8DvGcY/AAAAAAAAAAI/AAAAAAAAAp0/HF0-Q5UiENk/s64/photo.jpg",
      "userId": "13526205579918780782"
     },
     "user_tz": -540
    },
    "id": "aG1SFN5oTRLY",
    "outputId": "173e720b-1071-4b9c-d839-d0db91f8258f"
   },
   "outputs": [
    {
     "data": {
      "text/html": [
       "<div>\n",
       "<style scoped>\n",
       "    .dataframe tbody tr th:only-of-type {\n",
       "        vertical-align: middle;\n",
       "    }\n",
       "\n",
       "    .dataframe tbody tr th {\n",
       "        vertical-align: top;\n",
       "    }\n",
       "\n",
       "    .dataframe thead th {\n",
       "        text-align: right;\n",
       "    }\n",
       "</style>\n",
       "<table border=\"1\" class=\"dataframe\">\n",
       "  <thead>\n",
       "    <tr style=\"text-align: right;\">\n",
       "      <th></th>\n",
       "      <th>0</th>\n",
       "      <th>1</th>\n",
       "      <th>2</th>\n",
       "      <th>3</th>\n",
       "      <th>4</th>\n",
       "      <th>5</th>\n",
       "      <th>6</th>\n",
       "      <th>7</th>\n",
       "      <th>8</th>\n",
       "      <th>9</th>\n",
       "      <th>10</th>\n",
       "      <th>11</th>\n",
       "      <th>12</th>\n",
       "      <th>13</th>\n",
       "      <th>14</th>\n",
       "      <th>15</th>\n",
       "      <th>16</th>\n",
       "      <th>17</th>\n",
       "      <th>18</th>\n",
       "      <th>19</th>\n",
       "      <th>20</th>\n",
       "      <th>21</th>\n",
       "      <th>22</th>\n",
       "      <th>23</th>\n",
       "      <th>24</th>\n",
       "      <th>25</th>\n",
       "      <th>26</th>\n",
       "      <th>27</th>\n",
       "      <th>28</th>\n",
       "      <th>29</th>\n",
       "      <th>30</th>\n",
       "      <th>31</th>\n",
       "      <th>32</th>\n",
       "      <th>33</th>\n",
       "      <th>34</th>\n",
       "      <th>35</th>\n",
       "      <th>36</th>\n",
       "      <th>37</th>\n",
       "      <th>38</th>\n",
       "      <th>39</th>\n",
       "      <th>...</th>\n",
       "      <th>177</th>\n",
       "      <th>178</th>\n",
       "      <th>179</th>\n",
       "      <th>180</th>\n",
       "      <th>181</th>\n",
       "      <th>182</th>\n",
       "      <th>183</th>\n",
       "      <th>184</th>\n",
       "      <th>185</th>\n",
       "      <th>186</th>\n",
       "      <th>187</th>\n",
       "      <th>188</th>\n",
       "      <th>189</th>\n",
       "      <th>190</th>\n",
       "      <th>191</th>\n",
       "      <th>192</th>\n",
       "      <th>193</th>\n",
       "      <th>194</th>\n",
       "      <th>195</th>\n",
       "      <th>196</th>\n",
       "      <th>197</th>\n",
       "      <th>198</th>\n",
       "      <th>199</th>\n",
       "      <th>200</th>\n",
       "      <th>201</th>\n",
       "      <th>202</th>\n",
       "      <th>203</th>\n",
       "      <th>204</th>\n",
       "      <th>205</th>\n",
       "      <th>206</th>\n",
       "      <th>207</th>\n",
       "      <th>208</th>\n",
       "      <th>209</th>\n",
       "      <th>210</th>\n",
       "      <th>211</th>\n",
       "      <th>212</th>\n",
       "      <th>213</th>\n",
       "      <th>214</th>\n",
       "      <th>215</th>\n",
       "      <th>target</th>\n",
       "    </tr>\n",
       "  </thead>\n",
       "  <tbody>\n",
       "    <tr>\n",
       "      <th>0</th>\n",
       "      <td>98.0</td>\n",
       "      <td>236.0</td>\n",
       "      <td>531.0</td>\n",
       "      <td>673.0</td>\n",
       "      <td>607.0</td>\n",
       "      <td>647.0</td>\n",
       "      <td>2.0</td>\n",
       "      <td>9.0</td>\n",
       "      <td>3.0</td>\n",
       "      <td>6.0</td>\n",
       "      <td>8.0</td>\n",
       "      <td>5.0</td>\n",
       "      <td>225.0</td>\n",
       "      <td>517.0</td>\n",
       "      <td>652.0</td>\n",
       "      <td>624.0</td>\n",
       "      <td>628.0</td>\n",
       "      <td>994.0</td>\n",
       "      <td>7.0</td>\n",
       "      <td>22.0</td>\n",
       "      <td>28.0</td>\n",
       "      <td>13.0</td>\n",
       "      <td>10.0</td>\n",
       "      <td>19.0</td>\n",
       "      <td>305.0</td>\n",
       "      <td>481.0</td>\n",
       "      <td>667.0</td>\n",
       "      <td>663.0</td>\n",
       "      <td>1009.0</td>\n",
       "      <td>727.0</td>\n",
       "      <td>38.0</td>\n",
       "      <td>28.0</td>\n",
       "      <td>18.0</td>\n",
       "      <td>11.0</td>\n",
       "      <td>20.0</td>\n",
       "      <td>10.0</td>\n",
       "      <td>287.0</td>\n",
       "      <td>567.0</td>\n",
       "      <td>651.0</td>\n",
       "      <td>742.0</td>\n",
       "      <td>...</td>\n",
       "      <td>12.0</td>\n",
       "      <td>19.0</td>\n",
       "      <td>10.0</td>\n",
       "      <td>360.0</td>\n",
       "      <td>328.0</td>\n",
       "      <td>607.0</td>\n",
       "      <td>984.0</td>\n",
       "      <td>1186.0</td>\n",
       "      <td>599.0</td>\n",
       "      <td>29.0</td>\n",
       "      <td>7.0</td>\n",
       "      <td>14.0</td>\n",
       "      <td>6.0</td>\n",
       "      <td>9.0</td>\n",
       "      <td>9.0</td>\n",
       "      <td>362.0</td>\n",
       "      <td>314.0</td>\n",
       "      <td>924.0</td>\n",
       "      <td>733.0</td>\n",
       "      <td>601.0</td>\n",
       "      <td>1216.0</td>\n",
       "      <td>4.0</td>\n",
       "      <td>8.0</td>\n",
       "      <td>20.0</td>\n",
       "      <td>10.0</td>\n",
       "      <td>9.0</td>\n",
       "      <td>5.0</td>\n",
       "      <td>251.0</td>\n",
       "      <td>421.0</td>\n",
       "      <td>474.0</td>\n",
       "      <td>536.0</td>\n",
       "      <td>628.0</td>\n",
       "      <td>632.0</td>\n",
       "      <td>18.0</td>\n",
       "      <td>36.0</td>\n",
       "      <td>8.0</td>\n",
       "      <td>15.0</td>\n",
       "      <td>12.0</td>\n",
       "      <td>13.0</td>\n",
       "      <td>0</td>\n",
       "    </tr>\n",
       "    <tr>\n",
       "      <th>1</th>\n",
       "      <td>121.0</td>\n",
       "      <td>193.0</td>\n",
       "      <td>607.0</td>\n",
       "      <td>611.0</td>\n",
       "      <td>585.0</td>\n",
       "      <td>665.0</td>\n",
       "      <td>7.0</td>\n",
       "      <td>9.0</td>\n",
       "      <td>2.0</td>\n",
       "      <td>4.0</td>\n",
       "      <td>3.0</td>\n",
       "      <td>7.0</td>\n",
       "      <td>214.0</td>\n",
       "      <td>514.0</td>\n",
       "      <td>690.0</td>\n",
       "      <td>548.0</td>\n",
       "      <td>630.0</td>\n",
       "      <td>1006.0</td>\n",
       "      <td>2.0</td>\n",
       "      <td>18.0</td>\n",
       "      <td>31.0</td>\n",
       "      <td>15.0</td>\n",
       "      <td>5.0</td>\n",
       "      <td>15.0</td>\n",
       "      <td>260.0</td>\n",
       "      <td>344.0</td>\n",
       "      <td>655.0</td>\n",
       "      <td>605.0</td>\n",
       "      <td>993.0</td>\n",
       "      <td>743.0</td>\n",
       "      <td>29.0</td>\n",
       "      <td>32.0</td>\n",
       "      <td>25.0</td>\n",
       "      <td>11.0</td>\n",
       "      <td>17.0</td>\n",
       "      <td>6.0</td>\n",
       "      <td>308.0</td>\n",
       "      <td>412.0</td>\n",
       "      <td>719.0</td>\n",
       "      <td>700.0</td>\n",
       "      <td>...</td>\n",
       "      <td>8.0</td>\n",
       "      <td>18.0</td>\n",
       "      <td>8.0</td>\n",
       "      <td>351.0</td>\n",
       "      <td>249.0</td>\n",
       "      <td>687.0</td>\n",
       "      <td>922.0</td>\n",
       "      <td>1194.0</td>\n",
       "      <td>617.0</td>\n",
       "      <td>26.0</td>\n",
       "      <td>11.0</td>\n",
       "      <td>11.0</td>\n",
       "      <td>4.0</td>\n",
       "      <td>10.0</td>\n",
       "      <td>7.0</td>\n",
       "      <td>347.0</td>\n",
       "      <td>439.0</td>\n",
       "      <td>950.0</td>\n",
       "      <td>675.0</td>\n",
       "      <td>577.0</td>\n",
       "      <td>1222.0</td>\n",
       "      <td>13.0</td>\n",
       "      <td>6.0</td>\n",
       "      <td>27.0</td>\n",
       "      <td>10.0</td>\n",
       "      <td>10.0</td>\n",
       "      <td>3.0</td>\n",
       "      <td>224.0</td>\n",
       "      <td>354.0</td>\n",
       "      <td>520.0</td>\n",
       "      <td>458.0</td>\n",
       "      <td>570.0</td>\n",
       "      <td>634.0</td>\n",
       "      <td>15.0</td>\n",
       "      <td>32.0</td>\n",
       "      <td>11.0</td>\n",
       "      <td>13.0</td>\n",
       "      <td>15.0</td>\n",
       "      <td>11.0</td>\n",
       "      <td>0</td>\n",
       "    </tr>\n",
       "    <tr>\n",
       "      <th>2</th>\n",
       "      <td>115.0</td>\n",
       "      <td>141.0</td>\n",
       "      <td>590.0</td>\n",
       "      <td>605.0</td>\n",
       "      <td>557.0</td>\n",
       "      <td>627.0</td>\n",
       "      <td>12.0</td>\n",
       "      <td>6.0</td>\n",
       "      <td>3.0</td>\n",
       "      <td>3.0</td>\n",
       "      <td>5.0</td>\n",
       "      <td>4.0</td>\n",
       "      <td>196.0</td>\n",
       "      <td>404.0</td>\n",
       "      <td>611.0</td>\n",
       "      <td>560.0</td>\n",
       "      <td>594.0</td>\n",
       "      <td>986.0</td>\n",
       "      <td>7.0</td>\n",
       "      <td>21.0</td>\n",
       "      <td>28.0</td>\n",
       "      <td>14.0</td>\n",
       "      <td>7.0</td>\n",
       "      <td>12.0</td>\n",
       "      <td>278.0</td>\n",
       "      <td>406.0</td>\n",
       "      <td>670.0</td>\n",
       "      <td>579.0</td>\n",
       "      <td>991.0</td>\n",
       "      <td>703.0</td>\n",
       "      <td>24.0</td>\n",
       "      <td>29.0</td>\n",
       "      <td>18.0</td>\n",
       "      <td>12.0</td>\n",
       "      <td>19.0</td>\n",
       "      <td>9.0</td>\n",
       "      <td>378.0</td>\n",
       "      <td>468.0</td>\n",
       "      <td>668.0</td>\n",
       "      <td>654.0</td>\n",
       "      <td>...</td>\n",
       "      <td>9.0</td>\n",
       "      <td>20.0</td>\n",
       "      <td>13.0</td>\n",
       "      <td>415.0</td>\n",
       "      <td>323.0</td>\n",
       "      <td>672.0</td>\n",
       "      <td>896.0</td>\n",
       "      <td>1168.0</td>\n",
       "      <td>595.0</td>\n",
       "      <td>21.0</td>\n",
       "      <td>8.0</td>\n",
       "      <td>14.0</td>\n",
       "      <td>3.0</td>\n",
       "      <td>10.0</td>\n",
       "      <td>12.0</td>\n",
       "      <td>343.0</td>\n",
       "      <td>365.0</td>\n",
       "      <td>877.0</td>\n",
       "      <td>663.0</td>\n",
       "      <td>547.0</td>\n",
       "      <td>1192.0</td>\n",
       "      <td>18.0</td>\n",
       "      <td>7.0</td>\n",
       "      <td>20.0</td>\n",
       "      <td>13.0</td>\n",
       "      <td>10.0</td>\n",
       "      <td>2.0</td>\n",
       "      <td>196.0</td>\n",
       "      <td>348.0</td>\n",
       "      <td>535.0</td>\n",
       "      <td>498.0</td>\n",
       "      <td>572.0</td>\n",
       "      <td>656.0</td>\n",
       "      <td>20.0</td>\n",
       "      <td>35.0</td>\n",
       "      <td>16.0</td>\n",
       "      <td>14.0</td>\n",
       "      <td>13.0</td>\n",
       "      <td>6.0</td>\n",
       "      <td>0</td>\n",
       "    </tr>\n",
       "    <tr>\n",
       "      <th>3</th>\n",
       "      <td>90.0</td>\n",
       "      <td>122.0</td>\n",
       "      <td>627.0</td>\n",
       "      <td>692.0</td>\n",
       "      <td>607.0</td>\n",
       "      <td>642.0</td>\n",
       "      <td>0.0</td>\n",
       "      <td>6.0</td>\n",
       "      <td>4.0</td>\n",
       "      <td>5.0</td>\n",
       "      <td>3.0</td>\n",
       "      <td>5.0</td>\n",
       "      <td>201.0</td>\n",
       "      <td>445.0</td>\n",
       "      <td>664.0</td>\n",
       "      <td>629.0</td>\n",
       "      <td>626.0</td>\n",
       "      <td>945.0</td>\n",
       "      <td>5.0</td>\n",
       "      <td>21.0</td>\n",
       "      <td>27.0</td>\n",
       "      <td>16.0</td>\n",
       "      <td>7.0</td>\n",
       "      <td>9.0</td>\n",
       "      <td>273.0</td>\n",
       "      <td>397.0</td>\n",
       "      <td>703.0</td>\n",
       "      <td>662.0</td>\n",
       "      <td>987.0</td>\n",
       "      <td>710.0</td>\n",
       "      <td>36.0</td>\n",
       "      <td>29.0</td>\n",
       "      <td>21.0</td>\n",
       "      <td>8.0</td>\n",
       "      <td>15.0</td>\n",
       "      <td>10.0</td>\n",
       "      <td>331.0</td>\n",
       "      <td>459.0</td>\n",
       "      <td>731.0</td>\n",
       "      <td>765.0</td>\n",
       "      <td>...</td>\n",
       "      <td>7.0</td>\n",
       "      <td>16.0</td>\n",
       "      <td>10.0</td>\n",
       "      <td>380.0</td>\n",
       "      <td>354.0</td>\n",
       "      <td>711.0</td>\n",
       "      <td>987.0</td>\n",
       "      <td>1180.0</td>\n",
       "      <td>606.0</td>\n",
       "      <td>27.0</td>\n",
       "      <td>8.0</td>\n",
       "      <td>15.0</td>\n",
       "      <td>5.0</td>\n",
       "      <td>12.0</td>\n",
       "      <td>9.0</td>\n",
       "      <td>400.0</td>\n",
       "      <td>358.0</td>\n",
       "      <td>918.0</td>\n",
       "      <td>756.0</td>\n",
       "      <td>603.0</td>\n",
       "      <td>1171.0</td>\n",
       "      <td>6.0</td>\n",
       "      <td>7.0</td>\n",
       "      <td>23.0</td>\n",
       "      <td>11.0</td>\n",
       "      <td>12.0</td>\n",
       "      <td>5.0</td>\n",
       "      <td>263.0</td>\n",
       "      <td>419.0</td>\n",
       "      <td>576.0</td>\n",
       "      <td>549.0</td>\n",
       "      <td>628.0</td>\n",
       "      <td>621.0</td>\n",
       "      <td>16.0</td>\n",
       "      <td>35.0</td>\n",
       "      <td>7.0</td>\n",
       "      <td>12.0</td>\n",
       "      <td>15.0</td>\n",
       "      <td>9.0</td>\n",
       "      <td>0</td>\n",
       "    </tr>\n",
       "    <tr>\n",
       "      <th>4</th>\n",
       "      <td>157.0</td>\n",
       "      <td>167.0</td>\n",
       "      <td>681.0</td>\n",
       "      <td>666.0</td>\n",
       "      <td>587.0</td>\n",
       "      <td>666.0</td>\n",
       "      <td>8.0</td>\n",
       "      <td>6.0</td>\n",
       "      <td>1.0</td>\n",
       "      <td>4.0</td>\n",
       "      <td>5.0</td>\n",
       "      <td>5.0</td>\n",
       "      <td>212.0</td>\n",
       "      <td>386.0</td>\n",
       "      <td>740.0</td>\n",
       "      <td>613.0</td>\n",
       "      <td>614.0</td>\n",
       "      <td>997.0</td>\n",
       "      <td>5.0</td>\n",
       "      <td>21.0</td>\n",
       "      <td>30.0</td>\n",
       "      <td>11.0</td>\n",
       "      <td>7.0</td>\n",
       "      <td>17.0</td>\n",
       "      <td>248.0</td>\n",
       "      <td>390.0</td>\n",
       "      <td>703.0</td>\n",
       "      <td>662.0</td>\n",
       "      <td>949.0</td>\n",
       "      <td>744.0</td>\n",
       "      <td>28.0</td>\n",
       "      <td>29.0</td>\n",
       "      <td>20.0</td>\n",
       "      <td>13.0</td>\n",
       "      <td>19.0</td>\n",
       "      <td>10.0</td>\n",
       "      <td>244.0</td>\n",
       "      <td>468.0</td>\n",
       "      <td>797.0</td>\n",
       "      <td>743.0</td>\n",
       "      <td>...</td>\n",
       "      <td>8.0</td>\n",
       "      <td>20.0</td>\n",
       "      <td>6.0</td>\n",
       "      <td>337.0</td>\n",
       "      <td>303.0</td>\n",
       "      <td>763.0</td>\n",
       "      <td>989.0</td>\n",
       "      <td>1156.0</td>\n",
       "      <td>628.0</td>\n",
       "      <td>29.0</td>\n",
       "      <td>8.0</td>\n",
       "      <td>12.0</td>\n",
       "      <td>2.0</td>\n",
       "      <td>10.0</td>\n",
       "      <td>7.0</td>\n",
       "      <td>321.0</td>\n",
       "      <td>337.0</td>\n",
       "      <td>988.0</td>\n",
       "      <td>726.0</td>\n",
       "      <td>577.0</td>\n",
       "      <td>1225.0</td>\n",
       "      <td>14.0</td>\n",
       "      <td>7.0</td>\n",
       "      <td>22.0</td>\n",
       "      <td>8.0</td>\n",
       "      <td>10.0</td>\n",
       "      <td>5.0</td>\n",
       "      <td>276.0</td>\n",
       "      <td>342.0</td>\n",
       "      <td>594.0</td>\n",
       "      <td>525.0</td>\n",
       "      <td>568.0</td>\n",
       "      <td>653.0</td>\n",
       "      <td>16.0</td>\n",
       "      <td>35.0</td>\n",
       "      <td>10.0</td>\n",
       "      <td>15.0</td>\n",
       "      <td>13.0</td>\n",
       "      <td>13.0</td>\n",
       "      <td>0</td>\n",
       "    </tr>\n",
       "  </tbody>\n",
       "</table>\n",
       "<p>5 rows × 217 columns</p>\n",
       "</div>"
      ],
      "text/plain": [
       "       0      1      2      3      4  ...   212   213   214   215  target\n",
       "0   98.0  236.0  531.0  673.0  607.0  ...   8.0  15.0  12.0  13.0       0\n",
       "1  121.0  193.0  607.0  611.0  585.0  ...  11.0  13.0  15.0  11.0       0\n",
       "2  115.0  141.0  590.0  605.0  557.0  ...  16.0  14.0  13.0   6.0       0\n",
       "3   90.0  122.0  627.0  692.0  607.0  ...   7.0  12.0  15.0   9.0       0\n",
       "4  157.0  167.0  681.0  666.0  587.0  ...  10.0  15.0  13.0  13.0       0\n",
       "\n",
       "[5 rows x 217 columns]"
      ]
     },
     "execution_count": 19,
     "metadata": {
      "tags": []
     },
     "output_type": "execute_result"
    }
   ],
   "source": [
    "new_fac_df.head()"
   ]
  },
  {
   "cell_type": "code",
   "execution_count": 0,
   "metadata": {
    "colab": {
     "base_uri": "https://localhost:8080/",
     "height": 607
    },
    "colab_type": "code",
    "executionInfo": {
     "elapsed": 85606,
     "status": "ok",
     "timestamp": 1559810226176,
     "user": {
      "displayName": "山田智継",
      "photoUrl": "https://lh4.googleusercontent.com/-2OPZw8DvGcY/AAAAAAAAAAI/AAAAAAAAAp0/HF0-Q5UiENk/s64/photo.jpg",
      "userId": "13526205579918780782"
     },
     "user_tz": -540
    },
    "id": "XBm9s-Exevko",
    "outputId": "c4671bfa-ed11-42a9-95e2-94d7963f1623"
   },
   "outputs": [
    {
     "data": {
      "image/png": "[encoded data removed]",
      "text/plain": [
       "<Figure size 1080x720 with 10 Axes>"
      ]
     },
     "metadata": {
      "tags": []
     },
     "output_type": "display_data"
    }
   ],
   "source": [
    "plt.figure(figsize=(15,10))\n",
    "plt.subplots_adjust(wspace=0.5,hspace=0.5)\n",
    "\n",
    "for i in range(10):\n",
    "  plt.subplot(5,2,i+1)\n",
    "  mean_df = new_fac_df[new_fac_df['target']==i].drop('target',axis=1).mean(axis=0)\n",
    "  mean_df.plot()\n",
    "  plt.title('target={}'.format(i))\n",
    "  #plt.show()\n",
    "plt.show()"
   ]
  },
  {
   "cell_type": "code",
   "execution_count": 0,
   "metadata": {
    "colab": {},
    "colab_type": "code",
    "id": "5v6wuVSCTRmw"
   },
   "outputs": [],
   "source": [
    "target = new_fac_df['target']\n",
    "del new_fac_df['target']"
   ]
  },
  {
   "cell_type": "code",
   "execution_count": 0,
   "metadata": {
    "colab": {},
    "colab_type": "code",
    "id": "SFXiLFJ0VX3r"
   },
   "outputs": [],
   "source": [
    "X_train, X_test, y_train, y_test = train_test_split(new_fac_df, target, test_size=0.2)"
   ]
  },
  {
   "cell_type": "code",
   "execution_count": 0,
   "metadata": {
    "colab": {
     "base_uri": "https://localhost:8080/",
     "height": 221
    },
    "colab_type": "code",
    "executionInfo": {
     "elapsed": 290517,
     "status": "ok",
     "timestamp": 1559810437740,
     "user": {
      "displayName": "山田智継",
      "photoUrl": "https://lh4.googleusercontent.com/-2OPZw8DvGcY/AAAAAAAAAAI/AAAAAAAAAp0/HF0-Q5UiENk/s64/photo.jpg",
      "userId": "13526205579918780782"
     },
     "user_tz": -540
    },
    "id": "3lfWLcJgVFDG",
    "outputId": "d3343047-ef74-41d8-b1bd-858ca4548909"
   },
   "outputs": [
    {
     "data": {
      "text/plain": [
       "GridSearchCV(cv=5, error_score='raise-deprecating',\n",
       "             estimator=SVC(C=1.0, cache_size=200, class_weight=None, coef0=0.0,\n",
       "                           decision_function_shape='ovr', degree=3,\n",
       "                           gamma='auto_deprecated', kernel='rbf', max_iter=-1,\n",
       "                           probability=False, random_state=None, shrinking=True,\n",
       "                           tol=0.001, verbose=False),\n",
       "             iid='warn', n_jobs=None,\n",
       "             param_grid={'C': [0.001, 0.01, 0.1, 1, 10, 100],\n",
       "                         'gamma': [0.001, 0.01, 0.1, 1, 10, 100],\n",
       "                         'kernel': ['rbf', 'linear', 'poly']},\n",
       "             pre_dispatch='2*n_jobs', refit=True, return_train_score=False,\n",
       "             scoring=None, verbose=0)"
      ]
     },
     "execution_count": 23,
     "metadata": {
      "tags": []
     },
     "output_type": "execute_result"
    }
   ],
   "source": [
    "# svcのgrid_search\n",
    "param_grid = {'C': [0.001, 0.01, 0.1, 1, 10, 100],  'gamma' : [0.001, 0.01, 0.1, 1, 10, 100], 'kernel' : ['rbf', 'linear', 'poly']}\n",
    "grid_search = GridSearchCV(SVC(), param_grid, cv=5)\n",
    "grid_search.fit(X_train.values, y_train.values)"
   ]
  },
  {
   "cell_type": "code",
   "execution_count": 0,
   "metadata": {
    "colab": {
     "base_uri": "https://localhost:8080/",
     "height": 68
    },
    "colab_type": "code",
    "executionInfo": {
     "elapsed": 277739,
     "status": "ok",
     "timestamp": 1559810437748,
     "user": {
      "displayName": "山田智継",
      "photoUrl": "https://lh4.googleusercontent.com/-2OPZw8DvGcY/AAAAAAAAAAI/AAAAAAAAAp0/HF0-Q5UiENk/s64/photo.jpg",
      "userId": "13526205579918780782"
     },
     "user_tz": -540
    },
    "id": "2jmufp4RVjVv",
    "outputId": "2b76eb7c-3f35-4b53-dfb9-4a279f0f1e4f"
   },
   "outputs": [
    {
     "name": "stdout",
     "output_type": "stream",
     "text": [
      "Test set score: 0.975\n",
      "Best parameters: {'C': 0.001, 'gamma': 0.001, 'kernel': 'poly'}\n",
      "Best cross-validation: 0.968125\n"
     ]
    }
   ],
   "source": [
    "print('Test set score: {}'.format(grid_search.score(X_test.values, y_test.values)))\n",
    "print('Best parameters: {}'.format(grid_search.best_params_))\n",
    "print('Best cross-validation: {}'.format(grid_search.best_score_))"
   ]
  },
  {
   "cell_type": "code",
   "execution_count": 0,
   "metadata": {
    "colab": {
     "base_uri": "https://localhost:8080/",
     "height": 309
    },
    "colab_type": "code",
    "executionInfo": {
     "elapsed": 278284,
     "status": "ok",
     "timestamp": 1559810441057,
     "user": {
      "displayName": "山田智継",
      "photoUrl": "https://lh4.googleusercontent.com/-2OPZw8DvGcY/AAAAAAAAAAI/AAAAAAAAAp0/HF0-Q5UiENk/s64/photo.jpg",
      "userId": "13526205579918780782"
     },
     "user_tz": -540
    },
    "id": "p_LwvzqKVlik",
    "outputId": "a6fc8f0d-9470-4b18-c354-fff9a557b375"
   },
   "outputs": [
    {
     "name": "stderr",
     "output_type": "stream",
     "text": [
      "/usr/local/lib/python3.6/dist-packages/sklearn/linear_model/logistic.py:947: ConvergenceWarning: lbfgs failed to converge. Increase the number of iterations.\n",
      "  \"of iterations.\", ConvergenceWarning)\n"
     ]
    },
    {
     "name": "stdout",
     "output_type": "stream",
     "text": [
      "0.95625\n"
     ]
    },
    {
     "name": "stderr",
     "output_type": "stream",
     "text": [
      "/usr/local/lib/python3.6/dist-packages/sklearn/linear_model/logistic.py:947: ConvergenceWarning: lbfgs failed to converge. Increase the number of iterations.\n",
      "  \"of iterations.\", ConvergenceWarning)\n"
     ]
    },
    {
     "name": "stdout",
     "output_type": "stream",
     "text": [
      "0.975\n"
     ]
    },
    {
     "name": "stderr",
     "output_type": "stream",
     "text": [
      "/usr/local/lib/python3.6/dist-packages/sklearn/linear_model/logistic.py:947: ConvergenceWarning: lbfgs failed to converge. Increase the number of iterations.\n",
      "  \"of iterations.\", ConvergenceWarning)\n"
     ]
    },
    {
     "name": "stdout",
     "output_type": "stream",
     "text": [
      "0.946875\n"
     ]
    },
    {
     "name": "stderr",
     "output_type": "stream",
     "text": [
      "/usr/local/lib/python3.6/dist-packages/sklearn/linear_model/logistic.py:947: ConvergenceWarning: lbfgs failed to converge. Increase the number of iterations.\n",
      "  \"of iterations.\", ConvergenceWarning)\n"
     ]
    },
    {
     "name": "stdout",
     "output_type": "stream",
     "text": [
      "0.953125\n",
      "0.953125\n",
      "testACC0.945\n"
     ]
    },
    {
     "name": "stderr",
     "output_type": "stream",
     "text": [
      "/usr/local/lib/python3.6/dist-packages/sklearn/linear_model/logistic.py:947: ConvergenceWarning: lbfgs failed to converge. Increase the number of iterations.\n",
      "  \"of iterations.\", ConvergenceWarning)\n"
     ]
    }
   ],
   "source": [
    "# logistic_regression \n",
    "folds = KFold(n_splits=5, shuffle=True, random_state=123)\n",
    "oof_preds = np.zeros(X_train.shape[0])\n",
    "sub_preds = np.zeros(X_test.shape[0])\n",
    "features = [f_ for f_ in X_train.columns if f_ not in [\"target\"]]\n",
    "for n_fold, (trn_idx, val_idx) in enumerate(folds.split(X_train)):\n",
    "    trn_x, trn_y = X_train[features].iloc[trn_idx], y_train.iloc[trn_idx]\n",
    "    val_x, val_y = X_train[features].iloc[val_idx], y_train.iloc[val_idx]\n",
    "    clf = LogisticRegression(solver='lbfgs',multi_class='multinomial')\n",
    "    clf.fit(trn_x, trn_y)\n",
    "    print(clf.score(val_x, val_y))\n",
    "\n",
    "print(\"testACC{}\".format(clf.score(X_test, y_test)))"
   ]
  },
  {
   "cell_type": "markdown",
   "metadata": {
    "colab_type": "text",
    "id": "31CI65gFZxZx"
   },
   "source": [
    "###216個のプロファイル相関を特徴量とした時SVM、ロジスティック回帰いずれも97%以上の精度である。すなわちtargetに対して重要な特徴量と言える。"
   ]
  },
  {
   "cell_type": "markdown",
   "metadata": {
    "colab_type": "text",
    "id": "vQ5WbkhBXBxZ"
   },
   "source": [
    "## 64個のKL変換"
   ]
  },
  {
   "cell_type": "code",
   "execution_count": 25,
   "metadata": {
    "colab": {
     "base_uri": "https://localhost:8080/",
     "height": 782
    },
    "colab_type": "code",
    "executionInfo": {
     "elapsed": 3671,
     "status": "ok",
     "timestamp": 1560240671895,
     "user": {
      "displayName": "山田智継",
      "photoUrl": "https://lh4.googleusercontent.com/-2OPZw8DvGcY/AAAAAAAAAAI/AAAAAAAAAp0/HF0-Q5UiENk/s64/photo.jpg",
      "userId": "13526205579918780782"
     },
     "user_tz": -540
    },
    "id": "o20Hg6mcZu9L",
    "outputId": "1ceddc8a-0929-4013-981f-b4d93dc4d2b8"
   },
   "outputs": [
    {
     "name": "stderr",
     "output_type": "stream",
     "text": [
      "/usr/local/lib/python3.6/dist-packages/ipykernel_launcher.py:3: SettingWithCopyWarning: \n",
      "A value is trying to be set on a copy of a slice from a DataFrame\n",
      "\n",
      "See the caveats in the documentation: http://pandas.pydata.org/pandas-docs/stable/indexing.html#indexing-view-versus-copy\n",
      "  This is separate from the ipykernel package so we can avoid doing imports until\n",
      "/usr/local/lib/python3.6/dist-packages/ipykernel_launcher.py:4: SettingWithCopyWarning: \n",
      "A value is trying to be set on a copy of a slice from a DataFrame\n",
      "\n",
      "See the caveats in the documentation: http://pandas.pydata.org/pandas-docs/stable/indexing.html#indexing-view-versus-copy\n",
      "  after removing the cwd from sys.path.\n",
      "/usr/local/lib/python3.6/dist-packages/ipykernel_launcher.py:5: SettingWithCopyWarning: \n",
      "A value is trying to be set on a copy of a slice from a DataFrame\n",
      "\n",
      "See the caveats in the documentation: http://pandas.pydata.org/pandas-docs/stable/indexing.html#indexing-view-versus-copy\n",
      "  \"\"\"\n",
      "/usr/local/lib/python3.6/dist-packages/ipykernel_launcher.py:6: SettingWithCopyWarning: \n",
      "A value is trying to be set on a copy of a slice from a DataFrame\n",
      "\n",
      "See the caveats in the documentation: http://pandas.pydata.org/pandas-docs/stable/indexing.html#indexing-view-versus-copy\n",
      "  \n",
      "/usr/local/lib/python3.6/dist-packages/ipykernel_launcher.py:7: SettingWithCopyWarning: \n",
      "A value is trying to be set on a copy of a slice from a DataFrame\n",
      "\n",
      "See the caveats in the documentation: http://pandas.pydata.org/pandas-docs/stable/indexing.html#indexing-view-versus-copy\n",
      "  import sys\n",
      "/usr/local/lib/python3.6/dist-packages/ipykernel_launcher.py:8: SettingWithCopyWarning: \n",
      "A value is trying to be set on a copy of a slice from a DataFrame\n",
      "\n",
      "See the caveats in the documentation: http://pandas.pydata.org/pandas-docs/stable/indexing.html#indexing-view-versus-copy\n",
      "  \n",
      "/usr/local/lib/python3.6/dist-packages/ipykernel_launcher.py:9: SettingWithCopyWarning: \n",
      "A value is trying to be set on a copy of a slice from a DataFrame\n",
      "\n",
      "See the caveats in the documentation: http://pandas.pydata.org/pandas-docs/stable/indexing.html#indexing-view-versus-copy\n",
      "  if __name__ == '__main__':\n",
      "/usr/local/lib/python3.6/dist-packages/ipykernel_launcher.py:10: SettingWithCopyWarning: \n",
      "A value is trying to be set on a copy of a slice from a DataFrame\n",
      "\n",
      "See the caveats in the documentation: http://pandas.pydata.org/pandas-docs/stable/indexing.html#indexing-view-versus-copy\n",
      "  # Remove the CWD from sys.path while we load stuff.\n",
      "/usr/local/lib/python3.6/dist-packages/ipykernel_launcher.py:11: SettingWithCopyWarning: \n",
      "A value is trying to be set on a copy of a slice from a DataFrame\n",
      "\n",
      "See the caveats in the documentation: http://pandas.pydata.org/pandas-docs/stable/indexing.html#indexing-view-versus-copy\n",
      "  # This is added back by InteractiveShellApp.init_path()\n"
     ]
    }
   ],
   "source": [
    "kar_df = pd.read_csv(\"mfeat-kar.csv\",header=None) #一つのcolumnに全ての係数が入っている\n",
    "new_kar_df = create_new_df(kar_df)\n",
    "new_kar_df = add_target(new_kar_df)"
   ]
  },
  {
   "cell_type": "code",
   "execution_count": 0,
   "metadata": {
    "colab": {
     "base_uri": "https://localhost:8080/",
     "height": 224
    },
    "colab_type": "code",
    "executionInfo": {
     "elapsed": 241153,
     "status": "ok",
     "timestamp": 1559810442122,
     "user": {
      "displayName": "山田智継",
      "photoUrl": "https://lh4.googleusercontent.com/-2OPZw8DvGcY/AAAAAAAAAAI/AAAAAAAAAp0/HF0-Q5UiENk/s64/photo.jpg",
      "userId": "13526205579918780782"
     },
     "user_tz": -540
    },
    "id": "iNVCW2HAZjw1",
    "outputId": "9e862cb5-faa5-482e-8f6b-0301d51f9d79"
   },
   "outputs": [
    {
     "data": {
      "text/html": [
       "<div>\n",
       "<style scoped>\n",
       "    .dataframe tbody tr th:only-of-type {\n",
       "        vertical-align: middle;\n",
       "    }\n",
       "\n",
       "    .dataframe tbody tr th {\n",
       "        vertical-align: top;\n",
       "    }\n",
       "\n",
       "    .dataframe thead th {\n",
       "        text-align: right;\n",
       "    }\n",
       "</style>\n",
       "<table border=\"1\" class=\"dataframe\">\n",
       "  <thead>\n",
       "    <tr style=\"text-align: right;\">\n",
       "      <th></th>\n",
       "      <th>0</th>\n",
       "      <th>1</th>\n",
       "      <th>2</th>\n",
       "      <th>3</th>\n",
       "      <th>4</th>\n",
       "      <th>5</th>\n",
       "      <th>6</th>\n",
       "      <th>7</th>\n",
       "      <th>8</th>\n",
       "      <th>9</th>\n",
       "      <th>10</th>\n",
       "      <th>11</th>\n",
       "      <th>12</th>\n",
       "      <th>13</th>\n",
       "      <th>14</th>\n",
       "      <th>15</th>\n",
       "      <th>16</th>\n",
       "      <th>17</th>\n",
       "      <th>18</th>\n",
       "      <th>19</th>\n",
       "      <th>20</th>\n",
       "      <th>21</th>\n",
       "      <th>22</th>\n",
       "      <th>23</th>\n",
       "      <th>24</th>\n",
       "      <th>25</th>\n",
       "      <th>26</th>\n",
       "      <th>27</th>\n",
       "      <th>28</th>\n",
       "      <th>29</th>\n",
       "      <th>30</th>\n",
       "      <th>31</th>\n",
       "      <th>32</th>\n",
       "      <th>33</th>\n",
       "      <th>34</th>\n",
       "      <th>35</th>\n",
       "      <th>36</th>\n",
       "      <th>37</th>\n",
       "      <th>38</th>\n",
       "      <th>39</th>\n",
       "      <th>40</th>\n",
       "      <th>41</th>\n",
       "      <th>42</th>\n",
       "      <th>43</th>\n",
       "      <th>44</th>\n",
       "      <th>45</th>\n",
       "      <th>46</th>\n",
       "      <th>47</th>\n",
       "      <th>48</th>\n",
       "      <th>49</th>\n",
       "      <th>50</th>\n",
       "      <th>51</th>\n",
       "      <th>52</th>\n",
       "      <th>53</th>\n",
       "      <th>54</th>\n",
       "      <th>55</th>\n",
       "      <th>56</th>\n",
       "      <th>57</th>\n",
       "      <th>58</th>\n",
       "      <th>59</th>\n",
       "      <th>60</th>\n",
       "      <th>61</th>\n",
       "      <th>62</th>\n",
       "      <th>63</th>\n",
       "      <th>target</th>\n",
       "    </tr>\n",
       "  </thead>\n",
       "  <tbody>\n",
       "    <tr>\n",
       "      <th>0</th>\n",
       "      <td>-10.297008</td>\n",
       "      <td>-11.666789</td>\n",
       "      <td>11.560669</td>\n",
       "      <td>-2.081316</td>\n",
       "      <td>4.044656</td>\n",
       "      <td>4.086815</td>\n",
       "      <td>-2.558072</td>\n",
       "      <td>-8.476935</td>\n",
       "      <td>2.138135</td>\n",
       "      <td>3.503082</td>\n",
       "      <td>-0.064074</td>\n",
       "      <td>0.983302</td>\n",
       "      <td>2.001344</td>\n",
       "      <td>1.478683</td>\n",
       "      <td>-0.402921</td>\n",
       "      <td>1.609768</td>\n",
       "      <td>-2.627923</td>\n",
       "      <td>2.741715</td>\n",
       "      <td>-2.283389</td>\n",
       "      <td>1.239708</td>\n",
       "      <td>-1.827247</td>\n",
       "      <td>-1.581615</td>\n",
       "      <td>2.027865</td>\n",
       "      <td>-0.394052</td>\n",
       "      <td>-1.446159</td>\n",
       "      <td>-0.603834</td>\n",
       "      <td>2.475224</td>\n",
       "      <td>-1.096591</td>\n",
       "      <td>1.311422</td>\n",
       "      <td>-0.346206</td>\n",
       "      <td>-0.822164</td>\n",
       "      <td>-1.012095</td>\n",
       "      <td>1.620569</td>\n",
       "      <td>0.262893</td>\n",
       "      <td>0.457352</td>\n",
       "      <td>1.365226</td>\n",
       "      <td>-1.121445</td>\n",
       "      <td>-0.071175</td>\n",
       "      <td>-0.914878</td>\n",
       "      <td>-1.440099</td>\n",
       "      <td>-2.192526</td>\n",
       "      <td>0.830108</td>\n",
       "      <td>0.452905</td>\n",
       "      <td>1.085592</td>\n",
       "      <td>1.960389</td>\n",
       "      <td>-0.877156</td>\n",
       "      <td>0.377651</td>\n",
       "      <td>-0.307988</td>\n",
       "      <td>-0.017944</td>\n",
       "      <td>0.442649</td>\n",
       "      <td>0.620422</td>\n",
       "      <td>-1.135986</td>\n",
       "      <td>0.088799</td>\n",
       "      <td>0.186969</td>\n",
       "      <td>1.078083</td>\n",
       "      <td>0.921927</td>\n",
       "      <td>0.496387</td>\n",
       "      <td>-0.643667</td>\n",
       "      <td>0.284104</td>\n",
       "      <td>0.286555</td>\n",
       "      <td>0.348625</td>\n",
       "      <td>1.814691</td>\n",
       "      <td>-1.351353</td>\n",
       "      <td>-0.473910</td>\n",
       "      <td>0</td>\n",
       "    </tr>\n",
       "    <tr>\n",
       "      <th>1</th>\n",
       "      <td>-5.036009</td>\n",
       "      <td>-12.885333</td>\n",
       "      <td>0.161155</td>\n",
       "      <td>0.592460</td>\n",
       "      <td>3.123534</td>\n",
       "      <td>4.220469</td>\n",
       "      <td>-6.411771</td>\n",
       "      <td>-6.335328</td>\n",
       "      <td>-0.244622</td>\n",
       "      <td>1.346073</td>\n",
       "      <td>-1.888005</td>\n",
       "      <td>-1.425509</td>\n",
       "      <td>3.546106</td>\n",
       "      <td>-2.728002</td>\n",
       "      <td>0.145671</td>\n",
       "      <td>0.144373</td>\n",
       "      <td>1.070799</td>\n",
       "      <td>1.676834</td>\n",
       "      <td>3.458105</td>\n",
       "      <td>2.141824</td>\n",
       "      <td>-0.008930</td>\n",
       "      <td>-1.899805</td>\n",
       "      <td>-0.201592</td>\n",
       "      <td>0.386368</td>\n",
       "      <td>0.325236</td>\n",
       "      <td>-0.857551</td>\n",
       "      <td>2.599812</td>\n",
       "      <td>0.646875</td>\n",
       "      <td>-0.884929</td>\n",
       "      <td>-0.789922</td>\n",
       "      <td>-1.011073</td>\n",
       "      <td>1.085249</td>\n",
       "      <td>-1.010811</td>\n",
       "      <td>-0.528006</td>\n",
       "      <td>-0.950611</td>\n",
       "      <td>0.866379</td>\n",
       "      <td>-1.174443</td>\n",
       "      <td>-0.125630</td>\n",
       "      <td>0.683759</td>\n",
       "      <td>-0.280212</td>\n",
       "      <td>-0.658064</td>\n",
       "      <td>-0.099992</td>\n",
       "      <td>3.127316</td>\n",
       "      <td>0.214157</td>\n",
       "      <td>-0.783071</td>\n",
       "      <td>-0.427827</td>\n",
       "      <td>-2.560559</td>\n",
       "      <td>-1.627720</td>\n",
       "      <td>-1.475449</td>\n",
       "      <td>0.087514</td>\n",
       "      <td>-0.669465</td>\n",
       "      <td>-1.378673</td>\n",
       "      <td>-1.568273</td>\n",
       "      <td>-1.133077</td>\n",
       "      <td>0.942353</td>\n",
       "      <td>2.938791</td>\n",
       "      <td>1.429883</td>\n",
       "      <td>-2.336344</td>\n",
       "      <td>1.281628</td>\n",
       "      <td>-0.098321</td>\n",
       "      <td>0.582357</td>\n",
       "      <td>0.485792</td>\n",
       "      <td>0.642451</td>\n",
       "      <td>0.613107</td>\n",
       "      <td>0</td>\n",
       "    </tr>\n",
       "    <tr>\n",
       "      <th>2</th>\n",
       "      <td>-9.639157</td>\n",
       "      <td>-6.655898</td>\n",
       "      <td>0.388687</td>\n",
       "      <td>-1.717650</td>\n",
       "      <td>0.300346</td>\n",
       "      <td>3.400769</td>\n",
       "      <td>-7.240785</td>\n",
       "      <td>-1.659405</td>\n",
       "      <td>-0.874005</td>\n",
       "      <td>4.153403</td>\n",
       "      <td>-4.732827</td>\n",
       "      <td>2.371873</td>\n",
       "      <td>-0.791784</td>\n",
       "      <td>2.609470</td>\n",
       "      <td>-2.203911</td>\n",
       "      <td>-4.435813</td>\n",
       "      <td>-0.762313</td>\n",
       "      <td>-0.394081</td>\n",
       "      <td>1.133503</td>\n",
       "      <td>2.644041</td>\n",
       "      <td>-3.876470</td>\n",
       "      <td>3.067372</td>\n",
       "      <td>-0.150997</td>\n",
       "      <td>-0.814162</td>\n",
       "      <td>1.290007</td>\n",
       "      <td>-0.885316</td>\n",
       "      <td>2.597499</td>\n",
       "      <td>-3.268025</td>\n",
       "      <td>-1.777111</td>\n",
       "      <td>-0.259310</td>\n",
       "      <td>-2.887960</td>\n",
       "      <td>0.803436</td>\n",
       "      <td>0.885987</td>\n",
       "      <td>1.164181</td>\n",
       "      <td>-2.672265</td>\n",
       "      <td>0.213014</td>\n",
       "      <td>2.502617</td>\n",
       "      <td>0.011691</td>\n",
       "      <td>-0.241381</td>\n",
       "      <td>-0.503143</td>\n",
       "      <td>-2.017740</td>\n",
       "      <td>0.623053</td>\n",
       "      <td>0.297995</td>\n",
       "      <td>0.453539</td>\n",
       "      <td>-0.523467</td>\n",
       "      <td>1.172609</td>\n",
       "      <td>-1.034330</td>\n",
       "      <td>-1.045539</td>\n",
       "      <td>-1.519977</td>\n",
       "      <td>1.578619</td>\n",
       "      <td>0.772292</td>\n",
       "      <td>-1.644673</td>\n",
       "      <td>0.555195</td>\n",
       "      <td>0.372116</td>\n",
       "      <td>-0.413174</td>\n",
       "      <td>-0.023028</td>\n",
       "      <td>-0.025265</td>\n",
       "      <td>1.259838</td>\n",
       "      <td>-0.441360</td>\n",
       "      <td>-0.960094</td>\n",
       "      <td>1.995843</td>\n",
       "      <td>1.097748</td>\n",
       "      <td>0.827182</td>\n",
       "      <td>-1.767840</td>\n",
       "      <td>0</td>\n",
       "    </tr>\n",
       "    <tr>\n",
       "      <th>3</th>\n",
       "      <td>-6.650375</td>\n",
       "      <td>-7.043851</td>\n",
       "      <td>4.104350</td>\n",
       "      <td>-2.342780</td>\n",
       "      <td>3.494658</td>\n",
       "      <td>3.924822</td>\n",
       "      <td>-9.874812</td>\n",
       "      <td>-6.556576</td>\n",
       "      <td>-1.364269</td>\n",
       "      <td>1.153308</td>\n",
       "      <td>-0.525791</td>\n",
       "      <td>1.306552</td>\n",
       "      <td>3.489466</td>\n",
       "      <td>3.987592</td>\n",
       "      <td>-1.356328</td>\n",
       "      <td>-0.857526</td>\n",
       "      <td>1.180557</td>\n",
       "      <td>-4.406371</td>\n",
       "      <td>-1.761988</td>\n",
       "      <td>2.742064</td>\n",
       "      <td>-1.601306</td>\n",
       "      <td>0.721423</td>\n",
       "      <td>2.888973</td>\n",
       "      <td>-0.984098</td>\n",
       "      <td>-0.900931</td>\n",
       "      <td>0.280389</td>\n",
       "      <td>0.000239</td>\n",
       "      <td>-2.231012</td>\n",
       "      <td>-1.077999</td>\n",
       "      <td>-1.499626</td>\n",
       "      <td>-2.011180</td>\n",
       "      <td>0.741876</td>\n",
       "      <td>-0.303120</td>\n",
       "      <td>0.149713</td>\n",
       "      <td>0.072599</td>\n",
       "      <td>-2.515244</td>\n",
       "      <td>0.593984</td>\n",
       "      <td>-1.342731</td>\n",
       "      <td>0.454232</td>\n",
       "      <td>-0.989877</td>\n",
       "      <td>0.388920</td>\n",
       "      <td>-0.539341</td>\n",
       "      <td>0.833950</td>\n",
       "      <td>-0.292633</td>\n",
       "      <td>0.001021</td>\n",
       "      <td>0.540339</td>\n",
       "      <td>0.858158</td>\n",
       "      <td>-0.727200</td>\n",
       "      <td>1.441517</td>\n",
       "      <td>-0.133205</td>\n",
       "      <td>-1.072086</td>\n",
       "      <td>-1.575707</td>\n",
       "      <td>0.276112</td>\n",
       "      <td>-0.553317</td>\n",
       "      <td>-0.961236</td>\n",
       "      <td>-1.043815</td>\n",
       "      <td>-0.204508</td>\n",
       "      <td>-1.981150</td>\n",
       "      <td>0.982438</td>\n",
       "      <td>-0.144233</td>\n",
       "      <td>-1.449328</td>\n",
       "      <td>-0.913552</td>\n",
       "      <td>-0.771735</td>\n",
       "      <td>0.304992</td>\n",
       "      <td>0</td>\n",
       "    </tr>\n",
       "    <tr>\n",
       "      <th>4</th>\n",
       "      <td>-10.664524</td>\n",
       "      <td>-10.974133</td>\n",
       "      <td>0.194391</td>\n",
       "      <td>0.453885</td>\n",
       "      <td>2.193088</td>\n",
       "      <td>-3.304663</td>\n",
       "      <td>-8.376592</td>\n",
       "      <td>-4.241146</td>\n",
       "      <td>2.964818</td>\n",
       "      <td>-0.949622</td>\n",
       "      <td>-1.493196</td>\n",
       "      <td>-1.325390</td>\n",
       "      <td>1.729491</td>\n",
       "      <td>-0.638025</td>\n",
       "      <td>-1.785161</td>\n",
       "      <td>1.266107</td>\n",
       "      <td>0.683632</td>\n",
       "      <td>3.106049</td>\n",
       "      <td>0.812620</td>\n",
       "      <td>1.709782</td>\n",
       "      <td>1.845162</td>\n",
       "      <td>-2.602056</td>\n",
       "      <td>-0.005624</td>\n",
       "      <td>-0.149866</td>\n",
       "      <td>0.549093</td>\n",
       "      <td>-1.272378</td>\n",
       "      <td>1.982501</td>\n",
       "      <td>1.106768</td>\n",
       "      <td>0.183949</td>\n",
       "      <td>0.061280</td>\n",
       "      <td>0.402014</td>\n",
       "      <td>0.814850</td>\n",
       "      <td>-3.796409</td>\n",
       "      <td>-1.317945</td>\n",
       "      <td>-1.210731</td>\n",
       "      <td>-1.223604</td>\n",
       "      <td>-1.281105</td>\n",
       "      <td>0.352830</td>\n",
       "      <td>0.264770</td>\n",
       "      <td>-1.295441</td>\n",
       "      <td>-1.482741</td>\n",
       "      <td>-0.568190</td>\n",
       "      <td>0.887338</td>\n",
       "      <td>2.180462</td>\n",
       "      <td>2.439588</td>\n",
       "      <td>1.228399</td>\n",
       "      <td>-2.084001</td>\n",
       "      <td>0.315359</td>\n",
       "      <td>-0.877886</td>\n",
       "      <td>0.848514</td>\n",
       "      <td>-0.654705</td>\n",
       "      <td>-0.406145</td>\n",
       "      <td>-0.335391</td>\n",
       "      <td>-0.722847</td>\n",
       "      <td>0.152957</td>\n",
       "      <td>1.448160</td>\n",
       "      <td>-1.254907</td>\n",
       "      <td>-3.481295</td>\n",
       "      <td>-0.563889</td>\n",
       "      <td>1.529335</td>\n",
       "      <td>0.510399</td>\n",
       "      <td>0.298318</td>\n",
       "      <td>-0.943213</td>\n",
       "      <td>1.149847</td>\n",
       "      <td>0</td>\n",
       "    </tr>\n",
       "  </tbody>\n",
       "</table>\n",
       "</div>"
      ],
      "text/plain": [
       "           0          1          2  ...        62        63  target\n",
       "0 -10.297008 -11.666789  11.560669  ... -1.351353 -0.473910       0\n",
       "1  -5.036009 -12.885333   0.161155  ...  0.642451  0.613107       0\n",
       "2  -9.639157  -6.655898   0.388687  ...  0.827182 -1.767840       0\n",
       "3  -6.650375  -7.043851   4.104350  ... -0.771735  0.304992       0\n",
       "4 -10.664524 -10.974133   0.194391  ... -0.943213  1.149847       0\n",
       "\n",
       "[5 rows x 65 columns]"
      ]
     },
     "execution_count": 27,
     "metadata": {
      "tags": []
     },
     "output_type": "execute_result"
    }
   ],
   "source": [
    "new_kar_df.head()"
   ]
  },
  {
   "cell_type": "code",
   "execution_count": 0,
   "metadata": {
    "colab": {
     "base_uri": "https://localhost:8080/",
     "height": 607
    },
    "colab_type": "code",
    "executionInfo": {
     "elapsed": 241612,
     "status": "ok",
     "timestamp": 1559810443400,
     "user": {
      "displayName": "山田智継",
      "photoUrl": "https://lh4.googleusercontent.com/-2OPZw8DvGcY/AAAAAAAAAAI/AAAAAAAAAp0/HF0-Q5UiENk/s64/photo.jpg",
      "userId": "13526205579918780782"
     },
     "user_tz": -540
    },
    "id": "6nKAQFj-Ybsr",
    "outputId": "03bf11d1-7817-439a-fab6-ee0a64d4ac75"
   },
   "outputs": [
    {
     "data": {
      "image/png": "[encoded data removed]",
      "text/plain": [
       "<Figure size 1080x720 with 10 Axes>"
      ]
     },
     "metadata": {
      "tags": []
     },
     "output_type": "display_data"
    }
   ],
   "source": [
    "plt.figure(figsize=(15,10))\n",
    "plt.subplots_adjust(wspace=0.5,hspace=0.5)\n",
    "\n",
    "for i in range(10):\n",
    "  plt.subplot(5,2,i+1)\n",
    "  mean_df = new_kar_df[new_kar_df['target']==i].drop('target',axis=1).mean(axis=0)\n",
    "  mean_df.plot()\n",
    "  plt.title('target={}'.format(i))\n",
    "  #plt.show()\n",
    "plt.show()"
   ]
  },
  {
   "cell_type": "code",
   "execution_count": 0,
   "metadata": {
    "colab": {},
    "colab_type": "code",
    "id": "Zj4tBda7Zdqa"
   },
   "outputs": [],
   "source": [
    "target = new_kar_df['target']\n",
    "del new_kar_df['target']"
   ]
  },
  {
   "cell_type": "code",
   "execution_count": 0,
   "metadata": {
    "colab": {},
    "colab_type": "code",
    "id": "p3947-Oml8dg"
   },
   "outputs": [],
   "source": [
    "X_train, X_test, y_train, y_test = train_test_split(new_kar_df, target, test_size=0.2)"
   ]
  },
  {
   "cell_type": "code",
   "execution_count": 0,
   "metadata": {
    "colab": {},
    "colab_type": "code",
    "id": "Ehgv_31-fTck"
   },
   "outputs": [],
   "source": [
    "# svcのgrid_search\n",
    "param_grid = {'C': [0.001, 0.01, 0.1, 1, 10, 100],  'gamma' : [0.001, 0.01, 0.1, 1, 10, 100], 'kernel' : ['rbf', 'linear', 'poly']}\n",
    "grid_search = GridSearchCV(SVC(), param_grid, cv=5)\n",
    "grid_search.fit(X_train.values, y_train.values)"
   ]
  },
  {
   "cell_type": "code",
   "execution_count": 0,
   "metadata": {
    "colab": {},
    "colab_type": "code",
    "id": "VqHucuPjg9yn"
   },
   "outputs": [],
   "source": [
    "print('Test set score: {}'.format(grid_search.score(X_test.values, y_test.values)))\n",
    "print('Best parameters: {}'.format(grid_search.best_params_))\n",
    "print('Best cross-validation: {}'.format(grid_search.best_score_))"
   ]
  },
  {
   "cell_type": "code",
   "execution_count": 0,
   "metadata": {
    "colab": {},
    "colab_type": "code",
    "id": "Jd8VXJD5XDgl"
   },
   "outputs": [],
   "source": [
    "# logistic_regression \n",
    "folds = KFold(n_splits=5, shuffle=True, random_state=123)\n",
    "oof_preds = np.zeros(X_train.shape[0])\n",
    "sub_preds = np.zeros(X_test.shape[0])\n",
    "features = [f_ for f_ in X_train.columns if f_ not in [\"target\"]]\n",
    "for n_fold, (trn_idx, val_idx) in enumerate(folds.split(X_train)):\n",
    "    trn_x, trn_y = X_train[features].iloc[trn_idx], y_train.iloc[trn_idx]\n",
    "    val_x, val_y = X_train[features].iloc[val_idx], y_train.iloc[val_idx]\n",
    "    clf = LogisticRegression(solver='lbfgs',multi_class='multinomial')\n",
    "    clf.fit(trn_x, trn_y)\n",
    "    print(clf.score(val_x, val_y))\n",
    "\n",
    "print(\"testACC{}\".format(clf.score(X_test, y_test)))"
   ]
  },
  {
   "cell_type": "code",
   "execution_count": 27,
   "metadata": {
    "colab": {
     "base_uri": "https://localhost:8080/",
     "height": 782
    },
    "colab_type": "code",
    "executionInfo": {
     "elapsed": 12978,
     "status": "ok",
     "timestamp": 1560240827014,
     "user": {
      "displayName": "山田智継",
      "photoUrl": "https://lh4.googleusercontent.com/-2OPZw8DvGcY/AAAAAAAAAAI/AAAAAAAAAp0/HF0-Q5UiENk/s64/photo.jpg",
      "userId": "13526205579918780782"
     },
     "user_tz": -540
    },
    "id": "VNOh07whd9uB",
    "outputId": "ab72582b-0c2c-49df-bf1a-af257eea7e66"
   },
   "outputs": [
    {
     "name": "stderr",
     "output_type": "stream",
     "text": [
      "/usr/local/lib/python3.6/dist-packages/ipykernel_launcher.py:3: SettingWithCopyWarning: \n",
      "A value is trying to be set on a copy of a slice from a DataFrame\n",
      "\n",
      "See the caveats in the documentation: http://pandas.pydata.org/pandas-docs/stable/indexing.html#indexing-view-versus-copy\n",
      "  This is separate from the ipykernel package so we can avoid doing imports until\n",
      "/usr/local/lib/python3.6/dist-packages/ipykernel_launcher.py:4: SettingWithCopyWarning: \n",
      "A value is trying to be set on a copy of a slice from a DataFrame\n",
      "\n",
      "See the caveats in the documentation: http://pandas.pydata.org/pandas-docs/stable/indexing.html#indexing-view-versus-copy\n",
      "  after removing the cwd from sys.path.\n",
      "/usr/local/lib/python3.6/dist-packages/ipykernel_launcher.py:5: SettingWithCopyWarning: \n",
      "A value is trying to be set on a copy of a slice from a DataFrame\n",
      "\n",
      "See the caveats in the documentation: http://pandas.pydata.org/pandas-docs/stable/indexing.html#indexing-view-versus-copy\n",
      "  \"\"\"\n",
      "/usr/local/lib/python3.6/dist-packages/ipykernel_launcher.py:6: SettingWithCopyWarning: \n",
      "A value is trying to be set on a copy of a slice from a DataFrame\n",
      "\n",
      "See the caveats in the documentation: http://pandas.pydata.org/pandas-docs/stable/indexing.html#indexing-view-versus-copy\n",
      "  \n",
      "/usr/local/lib/python3.6/dist-packages/ipykernel_launcher.py:7: SettingWithCopyWarning: \n",
      "A value is trying to be set on a copy of a slice from a DataFrame\n",
      "\n",
      "See the caveats in the documentation: http://pandas.pydata.org/pandas-docs/stable/indexing.html#indexing-view-versus-copy\n",
      "  import sys\n",
      "/usr/local/lib/python3.6/dist-packages/ipykernel_launcher.py:8: SettingWithCopyWarning: \n",
      "A value is trying to be set on a copy of a slice from a DataFrame\n",
      "\n",
      "See the caveats in the documentation: http://pandas.pydata.org/pandas-docs/stable/indexing.html#indexing-view-versus-copy\n",
      "  \n",
      "/usr/local/lib/python3.6/dist-packages/ipykernel_launcher.py:9: SettingWithCopyWarning: \n",
      "A value is trying to be set on a copy of a slice from a DataFrame\n",
      "\n",
      "See the caveats in the documentation: http://pandas.pydata.org/pandas-docs/stable/indexing.html#indexing-view-versus-copy\n",
      "  if __name__ == '__main__':\n",
      "/usr/local/lib/python3.6/dist-packages/ipykernel_launcher.py:10: SettingWithCopyWarning: \n",
      "A value is trying to be set on a copy of a slice from a DataFrame\n",
      "\n",
      "See the caveats in the documentation: http://pandas.pydata.org/pandas-docs/stable/indexing.html#indexing-view-versus-copy\n",
      "  # Remove the CWD from sys.path while we load stuff.\n",
      "/usr/local/lib/python3.6/dist-packages/ipykernel_launcher.py:11: SettingWithCopyWarning: \n",
      "A value is trying to be set on a copy of a slice from a DataFrame\n",
      "\n",
      "See the caveats in the documentation: http://pandas.pydata.org/pandas-docs/stable/indexing.html#indexing-view-versus-copy\n",
      "  # This is added back by InteractiveShellApp.init_path()\n"
     ]
    }
   ],
   "source": [
    "## mfeat-pix 240pixelの平均値 2*3window\n",
    "pix_df = pd.read_csv(\"mfeat-pix.csv\",header=None) #一つのcolumnに全ての係数が入っている\n",
    "new_pix_df = create_new_df(pix_df)\n",
    "new_pix_df = add_target(new_pix_df)"
   ]
  },
  {
   "cell_type": "code",
   "execution_count": 0,
   "metadata": {
    "colab": {},
    "colab_type": "code",
    "id": "Veg_tVkEX7CY"
   },
   "outputs": [],
   "source": [
    "new_pix_df.head()"
   ]
  },
  {
   "cell_type": "code",
   "execution_count": 0,
   "metadata": {
    "colab": {},
    "colab_type": "code",
    "id": "wsqM2fv1YGTY"
   },
   "outputs": [],
   "source": [
    "plt.figure(figsize=(15,10))\n",
    "plt.subplots_adjust(wspace=0.5,hspace=0.5)\n",
    "\n",
    "for i in range(10):\n",
    "  plt.subplot(5,2,i+1)\n",
    "  mean_df = new_pix_df[new_pix_df['target']==i].drop('target',axis=1).mean(axis=0)\n",
    "  mean_df.plot()\n",
    "  plt.title('target={}'.format(i))\n",
    "  #plt.show()\n",
    "plt.show()"
   ]
  },
  {
   "cell_type": "code",
   "execution_count": 0,
   "metadata": {
    "colab": {},
    "colab_type": "code",
    "id": "AzTIWGpUepPz"
   },
   "outputs": [],
   "source": [
    "target = new_pix_df['target']\n",
    "del new_pix_df['target']"
   ]
  },
  {
   "cell_type": "code",
   "execution_count": 0,
   "metadata": {
    "colab": {},
    "colab_type": "code",
    "id": "fX1cY8wGmdu7"
   },
   "outputs": [],
   "source": [
    "X_train, X_test, y_train, y_test = train_test_split(new_kar_df, target, test_size=0.2)"
   ]
  },
  {
   "cell_type": "code",
   "execution_count": 0,
   "metadata": {
    "colab": {},
    "colab_type": "code",
    "id": "vkyVn0EifnLb"
   },
   "outputs": [],
   "source": [
    "# svcのgrid_search\n",
    "param_grid = {'C': [0.001, 0.01, 0.1, 1, 10, 100],  'gamma' : [0.001, 0.01, 0.1, 1, 10, 100], 'kernel' : ['rbf', 'linear', 'poly']}\n",
    "grid_search = GridSearchCV(SVC(), param_grid, cv=5)\n",
    "grid_search.fit(X_train.values, y_train.values)"
   ]
  },
  {
   "cell_type": "code",
   "execution_count": 0,
   "metadata": {
    "colab": {},
    "colab_type": "code",
    "id": "TAd_TNSQgVp3"
   },
   "outputs": [],
   "source": [
    "print('Test set score: {}'.format(grid_search.score(X_test.values, y_test.values)))\n",
    "print('Best parameters: {}'.format(grid_search.best_params_))\n",
    "print('Best cross-validation: {}'.format(grid_search.best_score_))"
   ]
  },
  {
   "cell_type": "code",
   "execution_count": 0,
   "metadata": {
    "colab": {},
    "colab_type": "code",
    "id": "TbuDqVTzgjVc"
   },
   "outputs": [],
   "source": [
    "# logistic_regression \n",
    "folds = KFold(n_splits=5, shuffle=True, random_state=123)\n",
    "oof_preds = np.zeros(X_train.shape[0])\n",
    "sub_preds = np.zeros(X_test.shape[0])\n",
    "features = [f_ for f_ in X_train.columns if f_ not in [\"target\"]]\n",
    "for n_fold, (trn_idx, val_idx) in enumerate(folds.split(X_train)):\n",
    "    trn_x, trn_y = X_train[features].iloc[trn_idx], y_train.iloc[trn_idx\n",
    "    val_x, val_y = X_train[features].iloc[val_idx], y_train.iloc[val_idx]\n",
    "    clf = LogisticRegression(solver='lbfgs',multi_class='multinomial')\n",
    "    clf.fit(trn_x, trn_y)\n",
    "    print(clf.score(val_x, val_y))\n",
    "\n",
    "print(\"testACC{}\".format(clf.score(X_test, y_test)))"
   ]
  },
  {
   "cell_type": "markdown",
   "metadata": {
    "colab_type": "text",
    "id": "ugtaMNJZ-bMu"
   },
   "source": []
  },
  {
   "cell_type": "markdown",
   "metadata": {
    "colab_type": "text",
    "id": "Xqf9QmQu-bKC"
   },
   "source": [
    "## 47のゼルニケ多項式"
   ]
  },
  {
   "cell_type": "code",
   "execution_count": 29,
   "metadata": {
    "colab": {
     "base_uri": "https://localhost:8080/",
     "height": 782
    },
    "colab_type": "code",
    "executionInfo": {
     "elapsed": 3735,
     "status": "ok",
     "timestamp": 1560240971165,
     "user": {
      "displayName": "山田智継",
      "photoUrl": "https://lh4.googleusercontent.com/-2OPZw8DvGcY/AAAAAAAAAAI/AAAAAAAAAp0/HF0-Q5UiENk/s64/photo.jpg",
      "userId": "13526205579918780782"
     },
     "user_tz": -540
    },
    "id": "78WE0WjxhmLk",
    "outputId": "c2395a39-b7cf-4fad-8484-b40a3768a0f7"
   },
   "outputs": [
    {
     "name": "stderr",
     "output_type": "stream",
     "text": [
      "/usr/local/lib/python3.6/dist-packages/ipykernel_launcher.py:3: SettingWithCopyWarning: \n",
      "A value is trying to be set on a copy of a slice from a DataFrame\n",
      "\n",
      "See the caveats in the documentation: http://pandas.pydata.org/pandas-docs/stable/indexing.html#indexing-view-versus-copy\n",
      "  This is separate from the ipykernel package so we can avoid doing imports until\n",
      "/usr/local/lib/python3.6/dist-packages/ipykernel_launcher.py:4: SettingWithCopyWarning: \n",
      "A value is trying to be set on a copy of a slice from a DataFrame\n",
      "\n",
      "See the caveats in the documentation: http://pandas.pydata.org/pandas-docs/stable/indexing.html#indexing-view-versus-copy\n",
      "  after removing the cwd from sys.path.\n",
      "/usr/local/lib/python3.6/dist-packages/ipykernel_launcher.py:5: SettingWithCopyWarning: \n",
      "A value is trying to be set on a copy of a slice from a DataFrame\n",
      "\n",
      "See the caveats in the documentation: http://pandas.pydata.org/pandas-docs/stable/indexing.html#indexing-view-versus-copy\n",
      "  \"\"\"\n",
      "/usr/local/lib/python3.6/dist-packages/ipykernel_launcher.py:6: SettingWithCopyWarning: \n",
      "A value is trying to be set on a copy of a slice from a DataFrame\n",
      "\n",
      "See the caveats in the documentation: http://pandas.pydata.org/pandas-docs/stable/indexing.html#indexing-view-versus-copy\n",
      "  \n",
      "/usr/local/lib/python3.6/dist-packages/ipykernel_launcher.py:7: SettingWithCopyWarning: \n",
      "A value is trying to be set on a copy of a slice from a DataFrame\n",
      "\n",
      "See the caveats in the documentation: http://pandas.pydata.org/pandas-docs/stable/indexing.html#indexing-view-versus-copy\n",
      "  import sys\n",
      "/usr/local/lib/python3.6/dist-packages/ipykernel_launcher.py:8: SettingWithCopyWarning: \n",
      "A value is trying to be set on a copy of a slice from a DataFrame\n",
      "\n",
      "See the caveats in the documentation: http://pandas.pydata.org/pandas-docs/stable/indexing.html#indexing-view-versus-copy\n",
      "  \n",
      "/usr/local/lib/python3.6/dist-packages/ipykernel_launcher.py:9: SettingWithCopyWarning: \n",
      "A value is trying to be set on a copy of a slice from a DataFrame\n",
      "\n",
      "See the caveats in the documentation: http://pandas.pydata.org/pandas-docs/stable/indexing.html#indexing-view-versus-copy\n",
      "  if __name__ == '__main__':\n",
      "/usr/local/lib/python3.6/dist-packages/ipykernel_launcher.py:10: SettingWithCopyWarning: \n",
      "A value is trying to be set on a copy of a slice from a DataFrame\n",
      "\n",
      "See the caveats in the documentation: http://pandas.pydata.org/pandas-docs/stable/indexing.html#indexing-view-versus-copy\n",
      "  # Remove the CWD from sys.path while we load stuff.\n",
      "/usr/local/lib/python3.6/dist-packages/ipykernel_launcher.py:11: SettingWithCopyWarning: \n",
      "A value is trying to be set on a copy of a slice from a DataFrame\n",
      "\n",
      "See the caveats in the documentation: http://pandas.pydata.org/pandas-docs/stable/indexing.html#indexing-view-versus-copy\n",
      "  # This is added back by InteractiveShellApp.init_path()\n"
     ]
    }
   ],
   "source": [
    "## mfeat-zer 47のゼルニケ多項式\n",
    "zer_df = pd.read_csv(\"mfeat-zer.csv\",header=None) #一つのcolumnに全ての係数が入っている\n",
    "new_zer_df = create_new_df(zer_df)\n",
    "new_zer_df = add_target(new_zer_df)"
   ]
  },
  {
   "cell_type": "code",
   "execution_count": 0,
   "metadata": {
    "colab": {
     "base_uri": "https://localhost:8080/",
     "height": 224
    },
    "colab_type": "code",
    "executionInfo": {
     "elapsed": 1746,
     "status": "ok",
     "timestamp": 1559810890798,
     "user": {
      "displayName": "山田智継",
      "photoUrl": "https://lh4.googleusercontent.com/-2OPZw8DvGcY/AAAAAAAAAAI/AAAAAAAAAp0/HF0-Q5UiENk/s64/photo.jpg",
      "userId": "13526205579918780782"
     },
     "user_tz": -540
    },
    "id": "GVHcKLgv-DZy",
    "outputId": "ef4d2584-b13c-41ad-d726-12fba51d133f"
   },
   "outputs": [
    {
     "data": {
      "text/html": [
       "<div>\n",
       "<style scoped>\n",
       "    .dataframe tbody tr th:only-of-type {\n",
       "        vertical-align: middle;\n",
       "    }\n",
       "\n",
       "    .dataframe tbody tr th {\n",
       "        vertical-align: top;\n",
       "    }\n",
       "\n",
       "    .dataframe thead th {\n",
       "        text-align: right;\n",
       "    }\n",
       "</style>\n",
       "<table border=\"1\" class=\"dataframe\">\n",
       "  <thead>\n",
       "    <tr style=\"text-align: right;\">\n",
       "      <th></th>\n",
       "      <th>0</th>\n",
       "      <th>1</th>\n",
       "      <th>2</th>\n",
       "      <th>3</th>\n",
       "      <th>4</th>\n",
       "      <th>5</th>\n",
       "      <th>6</th>\n",
       "      <th>7</th>\n",
       "      <th>8</th>\n",
       "      <th>9</th>\n",
       "      <th>10</th>\n",
       "      <th>11</th>\n",
       "      <th>12</th>\n",
       "      <th>13</th>\n",
       "      <th>14</th>\n",
       "      <th>15</th>\n",
       "      <th>16</th>\n",
       "      <th>17</th>\n",
       "      <th>18</th>\n",
       "      <th>19</th>\n",
       "      <th>20</th>\n",
       "      <th>21</th>\n",
       "      <th>22</th>\n",
       "      <th>23</th>\n",
       "      <th>24</th>\n",
       "      <th>25</th>\n",
       "      <th>26</th>\n",
       "      <th>27</th>\n",
       "      <th>28</th>\n",
       "      <th>29</th>\n",
       "      <th>30</th>\n",
       "      <th>31</th>\n",
       "      <th>32</th>\n",
       "      <th>33</th>\n",
       "      <th>34</th>\n",
       "      <th>35</th>\n",
       "      <th>36</th>\n",
       "      <th>37</th>\n",
       "      <th>38</th>\n",
       "      <th>39</th>\n",
       "      <th>40</th>\n",
       "      <th>41</th>\n",
       "      <th>42</th>\n",
       "      <th>43</th>\n",
       "      <th>44</th>\n",
       "      <th>45</th>\n",
       "      <th>46</th>\n",
       "      <th>target</th>\n",
       "    </tr>\n",
       "  </thead>\n",
       "  <tbody>\n",
       "    <tr>\n",
       "      <th>0</th>\n",
       "      <td>0.011033</td>\n",
       "      <td>0.831466</td>\n",
       "      <td>15.351804</td>\n",
       "      <td>75.806559</td>\n",
       "      <td>171.554214</td>\n",
       "      <td>490.156556</td>\n",
       "      <td>206.416027</td>\n",
       "      <td>0.122135</td>\n",
       "      <td>2.601646</td>\n",
       "      <td>11.472709</td>\n",
       "      <td>20.043415</td>\n",
       "      <td>110.868301</td>\n",
       "      <td>99.025277</td>\n",
       "      <td>0.100592</td>\n",
       "      <td>4.465825</td>\n",
       "      <td>37.203673</td>\n",
       "      <td>71.682698</td>\n",
       "      <td>303.833008</td>\n",
       "      <td>444.818734</td>\n",
       "      <td>0.324292</td>\n",
       "      <td>2.808212</td>\n",
       "      <td>7.505539</td>\n",
       "      <td>14.199325</td>\n",
       "      <td>109.820532</td>\n",
       "      <td>0.623083</td>\n",
       "      <td>11.902597</td>\n",
       "      <td>13.992883</td>\n",
       "      <td>6.972559</td>\n",
       "      <td>484.784871</td>\n",
       "      <td>0.344745</td>\n",
       "      <td>6.836616</td>\n",
       "      <td>41.172862</td>\n",
       "      <td>67.583218</td>\n",
       "      <td>1.875599</td>\n",
       "      <td>2.280403</td>\n",
       "      <td>170.265764</td>\n",
       "      <td>158.818410</td>\n",
       "      <td>1.713529</td>\n",
       "      <td>33.810340</td>\n",
       "      <td>9.858915</td>\n",
       "      <td>1.399891</td>\n",
       "      <td>148.138058</td>\n",
       "      <td>326.239452</td>\n",
       "      <td>9.711070</td>\n",
       "      <td>20.007248</td>\n",
       "      <td>47.032578</td>\n",
       "      <td>539.208457</td>\n",
       "      <td>0</td>\n",
       "    </tr>\n",
       "    <tr>\n",
       "      <th>1</th>\n",
       "      <td>0.038271</td>\n",
       "      <td>1.166746</td>\n",
       "      <td>10.526913</td>\n",
       "      <td>42.369276</td>\n",
       "      <td>85.187116</td>\n",
       "      <td>420.360566</td>\n",
       "      <td>253.569574</td>\n",
       "      <td>0.033657</td>\n",
       "      <td>0.390566</td>\n",
       "      <td>11.700830</td>\n",
       "      <td>65.596013</td>\n",
       "      <td>97.691050</td>\n",
       "      <td>87.946417</td>\n",
       "      <td>0.136957</td>\n",
       "      <td>3.005241</td>\n",
       "      <td>22.837229</td>\n",
       "      <td>40.656873</td>\n",
       "      <td>186.411684</td>\n",
       "      <td>419.543064</td>\n",
       "      <td>0.054929</td>\n",
       "      <td>3.576323</td>\n",
       "      <td>38.546889</td>\n",
       "      <td>100.034785</td>\n",
       "      <td>85.145611</td>\n",
       "      <td>0.414205</td>\n",
       "      <td>8.006745</td>\n",
       "      <td>53.191399</td>\n",
       "      <td>91.367313</td>\n",
       "      <td>371.994407</td>\n",
       "      <td>0.531269</td>\n",
       "      <td>14.376516</td>\n",
       "      <td>74.169044</td>\n",
       "      <td>82.063449</td>\n",
       "      <td>1.348741</td>\n",
       "      <td>29.158736</td>\n",
       "      <td>211.200298</td>\n",
       "      <td>34.597257</td>\n",
       "      <td>2.590208</td>\n",
       "      <td>35.400531</td>\n",
       "      <td>70.681899</td>\n",
       "      <td>6.674412</td>\n",
       "      <td>155.135985</td>\n",
       "      <td>377.832675</td>\n",
       "      <td>8.140633</td>\n",
       "      <td>44.536711</td>\n",
       "      <td>46.338954</td>\n",
       "      <td>518.496567</td>\n",
       "      <td>0</td>\n",
       "    </tr>\n",
       "    <tr>\n",
       "      <th>2</th>\n",
       "      <td>0.042698</td>\n",
       "      <td>1.225007</td>\n",
       "      <td>8.273804</td>\n",
       "      <td>31.744786</td>\n",
       "      <td>54.448177</td>\n",
       "      <td>404.103204</td>\n",
       "      <td>389.980746</td>\n",
       "      <td>0.041733</td>\n",
       "      <td>0.937399</td>\n",
       "      <td>11.629045</td>\n",
       "      <td>33.481501</td>\n",
       "      <td>51.705886</td>\n",
       "      <td>17.760377</td>\n",
       "      <td>0.138112</td>\n",
       "      <td>2.376392</td>\n",
       "      <td>20.892105</td>\n",
       "      <td>68.666675</td>\n",
       "      <td>168.420731</td>\n",
       "      <td>518.229961</td>\n",
       "      <td>0.113119</td>\n",
       "      <td>3.380604</td>\n",
       "      <td>21.119272</td>\n",
       "      <td>52.675563</td>\n",
       "      <td>11.774172</td>\n",
       "      <td>0.328196</td>\n",
       "      <td>7.781216</td>\n",
       "      <td>71.369955</td>\n",
       "      <td>94.039942</td>\n",
       "      <td>402.482819</td>\n",
       "      <td>0.482565</td>\n",
       "      <td>8.101806</td>\n",
       "      <td>40.012973</td>\n",
       "      <td>14.869455</td>\n",
       "      <td>1.336517</td>\n",
       "      <td>35.772897</td>\n",
       "      <td>207.147093</td>\n",
       "      <td>10.924662</td>\n",
       "      <td>1.476285</td>\n",
       "      <td>19.477230</td>\n",
       "      <td>30.093590</td>\n",
       "      <td>7.858211</td>\n",
       "      <td>150.126419</td>\n",
       "      <td>419.565747</td>\n",
       "      <td>4.530921</td>\n",
       "      <td>26.292170</td>\n",
       "      <td>44.574822</td>\n",
       "      <td>549.912691</td>\n",
       "      <td>0</td>\n",
       "    </tr>\n",
       "    <tr>\n",
       "      <th>3</th>\n",
       "      <td>0.032418</td>\n",
       "      <td>1.638247</td>\n",
       "      <td>19.205283</td>\n",
       "      <td>51.196682</td>\n",
       "      <td>57.181760</td>\n",
       "      <td>429.052011</td>\n",
       "      <td>256.174645</td>\n",
       "      <td>0.073624</td>\n",
       "      <td>1.973268</td>\n",
       "      <td>13.057108</td>\n",
       "      <td>36.079443</td>\n",
       "      <td>49.978731</td>\n",
       "      <td>55.037174</td>\n",
       "      <td>0.190329</td>\n",
       "      <td>5.212415</td>\n",
       "      <td>25.128272</td>\n",
       "      <td>51.937089</td>\n",
       "      <td>178.923865</td>\n",
       "      <td>386.324218</td>\n",
       "      <td>0.245137</td>\n",
       "      <td>3.963072</td>\n",
       "      <td>20.036877</td>\n",
       "      <td>27.570634</td>\n",
       "      <td>80.054547</td>\n",
       "      <td>0.692839</td>\n",
       "      <td>8.226120</td>\n",
       "      <td>61.257439</td>\n",
       "      <td>112.688600</td>\n",
       "      <td>324.849754</td>\n",
       "      <td>0.583625</td>\n",
       "      <td>7.453045</td>\n",
       "      <td>23.667204</td>\n",
       "      <td>65.148691</td>\n",
       "      <td>1.326251</td>\n",
       "      <td>31.813000</td>\n",
       "      <td>239.672998</td>\n",
       "      <td>21.054749</td>\n",
       "      <td>1.349613</td>\n",
       "      <td>14.179518</td>\n",
       "      <td>30.564085</td>\n",
       "      <td>7.097728</td>\n",
       "      <td>173.840759</td>\n",
       "      <td>441.350376</td>\n",
       "      <td>3.706023</td>\n",
       "      <td>13.432311</td>\n",
       "      <td>51.739930</td>\n",
       "      <td>574.887814</td>\n",
       "      <td>0</td>\n",
       "    </tr>\n",
       "    <tr>\n",
       "      <th>4</th>\n",
       "      <td>0.015866</td>\n",
       "      <td>0.611561</td>\n",
       "      <td>8.627839</td>\n",
       "      <td>37.325052</td>\n",
       "      <td>48.509025</td>\n",
       "      <td>459.909634</td>\n",
       "      <td>238.572767</td>\n",
       "      <td>0.046477</td>\n",
       "      <td>1.117292</td>\n",
       "      <td>10.012169</td>\n",
       "      <td>27.169266</td>\n",
       "      <td>67.849862</td>\n",
       "      <td>71.512437</td>\n",
       "      <td>0.076843</td>\n",
       "      <td>2.660718</td>\n",
       "      <td>24.901428</td>\n",
       "      <td>61.750370</td>\n",
       "      <td>216.615177</td>\n",
       "      <td>417.658858</td>\n",
       "      <td>0.144952</td>\n",
       "      <td>3.055750</td>\n",
       "      <td>12.775389</td>\n",
       "      <td>47.312230</td>\n",
       "      <td>66.377015</td>\n",
       "      <td>0.384703</td>\n",
       "      <td>9.695486</td>\n",
       "      <td>75.963320</td>\n",
       "      <td>86.050213</td>\n",
       "      <td>399.975218</td>\n",
       "      <td>0.452419</td>\n",
       "      <td>4.055963</td>\n",
       "      <td>23.946695</td>\n",
       "      <td>50.192029</td>\n",
       "      <td>1.721486</td>\n",
       "      <td>40.003794</td>\n",
       "      <td>222.227638</td>\n",
       "      <td>83.421886</td>\n",
       "      <td>0.667971</td>\n",
       "      <td>8.705403</td>\n",
       "      <td>30.242473</td>\n",
       "      <td>9.015714</td>\n",
       "      <td>167.021185</td>\n",
       "      <td>332.479997</td>\n",
       "      <td>1.806273</td>\n",
       "      <td>23.689300</td>\n",
       "      <td>50.407770</td>\n",
       "      <td>492.227513</td>\n",
       "      <td>0</td>\n",
       "    </tr>\n",
       "  </tbody>\n",
       "</table>\n",
       "</div>"
      ],
      "text/plain": [
       "          0         1          2  ...         45          46  target\n",
       "0  0.011033  0.831466  15.351804  ...  47.032578  539.208457       0\n",
       "1  0.038271  1.166746  10.526913  ...  46.338954  518.496567       0\n",
       "2  0.042698  1.225007   8.273804  ...  44.574822  549.912691       0\n",
       "3  0.032418  1.638247  19.205283  ...  51.739930  574.887814       0\n",
       "4  0.015866  0.611561   8.627839  ...  50.407770  492.227513       0\n",
       "\n",
       "[5 rows x 48 columns]"
      ]
     },
     "execution_count": 11,
     "metadata": {
      "tags": []
     },
     "output_type": "execute_result"
    }
   ],
   "source": [
    "new_zer_df.head()"
   ]
  },
  {
   "cell_type": "code",
   "execution_count": 0,
   "metadata": {
    "colab": {
     "base_uri": "https://localhost:8080/",
     "height": 607
    },
    "colab_type": "code",
    "executionInfo": {
     "elapsed": 4128,
     "status": "ok",
     "timestamp": 1559811012720,
     "user": {
      "displayName": "山田智継",
      "photoUrl": "https://lh4.googleusercontent.com/-2OPZw8DvGcY/AAAAAAAAAAI/AAAAAAAAAp0/HF0-Q5UiENk/s64/photo.jpg",
      "userId": "13526205579918780782"
     },
     "user_tz": -540
    },
    "id": "o53tisZq-DXU",
    "outputId": "cf357257-3455-42a9-e14e-8e82d5d57c41"
   },
   "outputs": [
    {
     "data": {
      "image/png": "[encoded data removed]",
      "text/plain": [
       "<Figure size 1080x720 with 10 Axes>"
      ]
     },
     "metadata": {
      "tags": []
     },
     "output_type": "display_data"
    }
   ],
   "source": [
    "plt.figure(figsize=(15,10))\n",
    "plt.subplots_adjust(wspace=0.5,hspace=0.5)\n",
    "\n",
    "for i in range(10):\n",
    "  plt.subplot(5,2,i+1)\n",
    "  mean_df = new_zer_df[new_zer_df['target']==i].drop('target',axis=1).mean(axis=0)\n",
    "  mean_df.plot()\n",
    "  plt.title('target={}'.format(i))\n",
    "  #plt.show()\n",
    "plt.show()"
   ]
  },
  {
   "cell_type": "code",
   "execution_count": 0,
   "metadata": {
    "colab": {},
    "colab_type": "code",
    "id": "NaV_qKK5-DUt"
   },
   "outputs": [],
   "source": [
    "target = new_zer_df['target']\n",
    "del new_zer_df['target']"
   ]
  },
  {
   "cell_type": "code",
   "execution_count": 0,
   "metadata": {
    "colab": {},
    "colab_type": "code",
    "id": "HJhXnG6gnGvZ"
   },
   "outputs": [],
   "source": [
    "X_train, X_test, y_train, y_test = train_test_split(new_kar_df, target, test_size=0.2)"
   ]
  },
  {
   "cell_type": "code",
   "execution_count": 0,
   "metadata": {
    "colab": {},
    "colab_type": "code",
    "id": "cXaj9Sue--ND"
   },
   "outputs": [],
   "source": [
    "# svcのgrid_search\n",
    "param_grid = {'C': [0.001, 0.01, 0.1, 1, 10, 100],  'gamma' : [0.001, 0.01, 0.1, 1, 10, 100], 'kernel' : ['rbf', 'linear', 'poly']}\n",
    "grid_search = GridSearchCV(SVC(), param_grid, cv=5)\n",
    "grid_search.fit(X_train.values, y_train.values)"
   ]
  },
  {
   "cell_type": "code",
   "execution_count": 0,
   "metadata": {
    "colab": {},
    "colab_type": "code",
    "id": "_YDU8lGL_f_b"
   },
   "outputs": [],
   "source": [
    "print('Test set score: {}'.format(grid_search.score(X_test.values, y_test.values)))\n",
    "print('Best parameters: {}'.format(grid_search.best_params_))\n",
    "print('Best cross-validation: {}'.format(grid_search.best_score_))"
   ]
  },
  {
   "cell_type": "code",
   "execution_count": 0,
   "metadata": {
    "colab": {},
    "colab_type": "code",
    "id": "HcP6x2VF_iWh"
   },
   "outputs": [],
   "source": [
    "# logistic_regression \n",
    "folds = KFold(n_splits=5, shuffle=True, random_state=123)\n",
    "oof_preds = np.zeros(X_train.shape[0])\n",
    "sub_preds = np.zeros(X_test.shape[0])\n",
    "features = [f_ for f_ in X_train.columns if f_ not in [\"target\"]]\n",
    "for n_fold, (trn_idx, val_idx) in enumerate(folds.split(X_train)):\n",
    "    trn_x, trn_y = X_train[features].iloc[trn_idx], y_train.iloc[trn_idx]\n",
    "    val_x, val_y = X_train[features].iloc[val_idx], y_train.iloc[val_idx]\n",
    "    clf = LogisticRegression(solver='lbfgs',multi_class='multinomial')\n",
    "    clf.fit(trn_x, trn_y)\n",
    "    print(clf.score(val_x, val_y))\n",
    "\n",
    "print(\"testACC{}\".format(clf.score(X_test, y_test)))"
   ]
  },
  {
   "cell_type": "markdown",
   "metadata": {
    "colab_type": "text",
    "id": "PHdZDxVgEVoi"
   },
   "source": [
    "###6つの形態学的特徴"
   ]
  },
  {
   "cell_type": "code",
   "execution_count": 6,
   "metadata": {
    "colab": {
     "base_uri": "https://localhost:8080/",
     "height": 782
    },
    "colab_type": "code",
    "executionInfo": {
     "elapsed": 2779,
     "status": "ok",
     "timestamp": 1560239614246,
     "user": {
      "displayName": "山田智継",
      "photoUrl": "https://lh4.googleusercontent.com/-2OPZw8DvGcY/AAAAAAAAAAI/AAAAAAAAAp0/HF0-Q5UiENk/s64/photo.jpg",
      "userId": "13526205579918780782"
     },
     "user_tz": -540
    },
    "id": "c0XuywJzEKoP",
    "outputId": "b9833bb4-526d-497f-b5b5-1a1768c20a50"
   },
   "outputs": [
    {
     "name": "stderr",
     "output_type": "stream",
     "text": [
      "/usr/local/lib/python3.6/dist-packages/ipykernel_launcher.py:3: SettingWithCopyWarning: \n",
      "A value is trying to be set on a copy of a slice from a DataFrame\n",
      "\n",
      "See the caveats in the documentation: http://pandas.pydata.org/pandas-docs/stable/indexing.html#indexing-view-versus-copy\n",
      "  This is separate from the ipykernel package so we can avoid doing imports until\n",
      "/usr/local/lib/python3.6/dist-packages/ipykernel_launcher.py:4: SettingWithCopyWarning: \n",
      "A value is trying to be set on a copy of a slice from a DataFrame\n",
      "\n",
      "See the caveats in the documentation: http://pandas.pydata.org/pandas-docs/stable/indexing.html#indexing-view-versus-copy\n",
      "  after removing the cwd from sys.path.\n",
      "/usr/local/lib/python3.6/dist-packages/ipykernel_launcher.py:5: SettingWithCopyWarning: \n",
      "A value is trying to be set on a copy of a slice from a DataFrame\n",
      "\n",
      "See the caveats in the documentation: http://pandas.pydata.org/pandas-docs/stable/indexing.html#indexing-view-versus-copy\n",
      "  \"\"\"\n",
      "/usr/local/lib/python3.6/dist-packages/ipykernel_launcher.py:6: SettingWithCopyWarning: \n",
      "A value is trying to be set on a copy of a slice from a DataFrame\n",
      "\n",
      "See the caveats in the documentation: http://pandas.pydata.org/pandas-docs/stable/indexing.html#indexing-view-versus-copy\n",
      "  \n",
      "/usr/local/lib/python3.6/dist-packages/ipykernel_launcher.py:7: SettingWithCopyWarning: \n",
      "A value is trying to be set on a copy of a slice from a DataFrame\n",
      "\n",
      "See the caveats in the documentation: http://pandas.pydata.org/pandas-docs/stable/indexing.html#indexing-view-versus-copy\n",
      "  import sys\n",
      "/usr/local/lib/python3.6/dist-packages/ipykernel_launcher.py:8: SettingWithCopyWarning: \n",
      "A value is trying to be set on a copy of a slice from a DataFrame\n",
      "\n",
      "See the caveats in the documentation: http://pandas.pydata.org/pandas-docs/stable/indexing.html#indexing-view-versus-copy\n",
      "  \n",
      "/usr/local/lib/python3.6/dist-packages/ipykernel_launcher.py:9: SettingWithCopyWarning: \n",
      "A value is trying to be set on a copy of a slice from a DataFrame\n",
      "\n",
      "See the caveats in the documentation: http://pandas.pydata.org/pandas-docs/stable/indexing.html#indexing-view-versus-copy\n",
      "  if __name__ == '__main__':\n",
      "/usr/local/lib/python3.6/dist-packages/ipykernel_launcher.py:10: SettingWithCopyWarning: \n",
      "A value is trying to be set on a copy of a slice from a DataFrame\n",
      "\n",
      "See the caveats in the documentation: http://pandas.pydata.org/pandas-docs/stable/indexing.html#indexing-view-versus-copy\n",
      "  # Remove the CWD from sys.path while we load stuff.\n",
      "/usr/local/lib/python3.6/dist-packages/ipykernel_launcher.py:11: SettingWithCopyWarning: \n",
      "A value is trying to be set on a copy of a slice from a DataFrame\n",
      "\n",
      "See the caveats in the documentation: http://pandas.pydata.org/pandas-docs/stable/indexing.html#indexing-view-versus-copy\n",
      "  # This is added back by InteractiveShellApp.init_path()\n"
     ]
    }
   ],
   "source": [
    "mor_df = pd.read_csv(\"mfeat-mor.csv\",header=None) #一つのcolumnに全ての係数が入っている\n",
    "new_mor_df = create_new_df(mor_df)\n",
    "new_mor_df = add_target(new_mor_df)"
   ]
  },
  {
   "cell_type": "code",
   "execution_count": 7,
   "metadata": {
    "colab": {
     "base_uri": "https://localhost:8080/",
     "height": 204
    },
    "colab_type": "code",
    "executionInfo": {
     "elapsed": 1921,
     "status": "ok",
     "timestamp": 1560239630324,
     "user": {
      "displayName": "山田智継",
      "photoUrl": "https://lh4.googleusercontent.com/-2OPZw8DvGcY/AAAAAAAAAAI/AAAAAAAAAp0/HF0-Q5UiENk/s64/photo.jpg",
      "userId": "13526205579918780782"
     },
     "user_tz": -540
    },
    "id": "PHnBB-JxF-JF",
    "outputId": "c70f0d97-04f1-421d-b326-13c331c6b7ea"
   },
   "outputs": [
    {
     "data": {
      "text/html": [
       "<div>\n",
       "<style scoped>\n",
       "    .dataframe tbody tr th:only-of-type {\n",
       "        vertical-align: middle;\n",
       "    }\n",
       "\n",
       "    .dataframe tbody tr th {\n",
       "        vertical-align: top;\n",
       "    }\n",
       "\n",
       "    .dataframe thead th {\n",
       "        text-align: right;\n",
       "    }\n",
       "</style>\n",
       "<table border=\"1\" class=\"dataframe\">\n",
       "  <thead>\n",
       "    <tr style=\"text-align: right;\">\n",
       "      <th></th>\n",
       "      <th>0</th>\n",
       "      <th>1</th>\n",
       "      <th>2</th>\n",
       "      <th>3</th>\n",
       "      <th>4</th>\n",
       "      <th>5</th>\n",
       "      <th>target</th>\n",
       "    </tr>\n",
       "  </thead>\n",
       "  <tbody>\n",
       "    <tr>\n",
       "      <th>0</th>\n",
       "      <td>1.0</td>\n",
       "      <td>0.0</td>\n",
       "      <td>0.0</td>\n",
       "      <td>133.150861</td>\n",
       "      <td>1.311693</td>\n",
       "      <td>1620.221779</td>\n",
       "      <td>0</td>\n",
       "    </tr>\n",
       "    <tr>\n",
       "      <th>1</th>\n",
       "      <td>1.0</td>\n",
       "      <td>0.0</td>\n",
       "      <td>0.0</td>\n",
       "      <td>126.724861</td>\n",
       "      <td>1.302745</td>\n",
       "      <td>1609.334822</td>\n",
       "      <td>0</td>\n",
       "    </tr>\n",
       "    <tr>\n",
       "      <th>2</th>\n",
       "      <td>1.0</td>\n",
       "      <td>0.0</td>\n",
       "      <td>0.0</td>\n",
       "      <td>131.173861</td>\n",
       "      <td>1.319031</td>\n",
       "      <td>1568.978435</td>\n",
       "      <td>0</td>\n",
       "    </tr>\n",
       "    <tr>\n",
       "      <th>3</th>\n",
       "      <td>1.0</td>\n",
       "      <td>0.0</td>\n",
       "      <td>0.0</td>\n",
       "      <td>129.478861</td>\n",
       "      <td>1.270878</td>\n",
       "      <td>1695.055281</td>\n",
       "      <td>0</td>\n",
       "    </tr>\n",
       "    <tr>\n",
       "      <th>4</th>\n",
       "      <td>1.0</td>\n",
       "      <td>0.0</td>\n",
       "      <td>0.0</td>\n",
       "      <td>127.262861</td>\n",
       "      <td>1.329637</td>\n",
       "      <td>1647.720235</td>\n",
       "      <td>0</td>\n",
       "    </tr>\n",
       "  </tbody>\n",
       "</table>\n",
       "</div>"
      ],
      "text/plain": [
       "     0    1    2           3         4            5  target\n",
       "0  1.0  0.0  0.0  133.150861  1.311693  1620.221779       0\n",
       "1  1.0  0.0  0.0  126.724861  1.302745  1609.334822       0\n",
       "2  1.0  0.0  0.0  131.173861  1.319031  1568.978435       0\n",
       "3  1.0  0.0  0.0  129.478861  1.270878  1695.055281       0\n",
       "4  1.0  0.0  0.0  127.262861  1.329637  1647.720235       0"
      ]
     },
     "execution_count": 7,
     "metadata": {
      "tags": []
     },
     "output_type": "execute_result"
    }
   ],
   "source": [
    "new_mor_df.head()"
   ]
  },
  {
   "cell_type": "code",
   "execution_count": 8,
   "metadata": {
    "colab": {
     "base_uri": "https://localhost:8080/",
     "height": 607
    },
    "colab_type": "code",
    "executionInfo": {
     "elapsed": 6574,
     "status": "ok",
     "timestamp": 1560239651963,
     "user": {
      "displayName": "山田智継",
      "photoUrl": "https://lh4.googleusercontent.com/-2OPZw8DvGcY/AAAAAAAAAAI/AAAAAAAAAp0/HF0-Q5UiENk/s64/photo.jpg",
      "userId": "13526205579918780782"
     },
     "user_tz": -540
    },
    "id": "Hs6COsUWGTSC",
    "outputId": "3177898e-5afe-4245-9f6f-a0ed4c4077b6"
   },
   "outputs": [
    {
     "data": {
      "image/png": "[encoded data removed]",
      "text/plain": [
       "<Figure size 1080x720 with 10 Axes>"
      ]
     },
     "metadata": {
      "tags": []
     },
     "output_type": "display_data"
    }
   ],
   "source": [
    "plt.figure(figsize=(15,10))\n",
    "plt.subplots_adjust(wspace=0.5,hspace=0.5)\n",
    "\n",
    "for i in range(10):\n",
    "  plt.subplot(5,2,i+1)\n",
    "  mean_df = new_mor_df[new_mor_df['target']==i].drop('target',axis=1).mean(axis=0)\n",
    "  mean_df.plot()\n",
    "  plt.title('target={}'.format(i))\n",
    "  #plt.show()\n",
    "plt.show()"
   ]
  },
  {
   "cell_type": "code",
   "execution_count": 0,
   "metadata": {
    "colab": {},
    "colab_type": "code",
    "id": "i6O_228SGWI3"
   },
   "outputs": [],
   "source": [
    "target = new_mor_df['target']\n",
    "del new_mor_df['target']\n",
    "X_train, X_test, y_train, y_test = train_test_split(new_mor_df, target, test_size=0.2)"
   ]
  },
  {
   "cell_type": "code",
   "execution_count": 0,
   "metadata": {
    "colab": {},
    "colab_type": "code",
    "id": "d9fUDt-bG4z9"
   },
   "outputs": [],
   "source": [
    "#svcのgrid_search\n",
    "param_grid = {'C': [0.001, 0.01, 0.1, 1, 10, 100],  'gamma' : [0.001, 0.01, 0.1, 1, 10, 100], 'kernel' : ['rbf', 'linear', 'poly']}\n",
    "grid_search = GridSearchCV(SVC(), param_grid, cv=5)\n",
    "grid_search.fit(X_train.values, y_train.values)"
   ]
  },
  {
   "cell_type": "code",
   "execution_count": 0,
   "metadata": {
    "colab": {},
    "colab_type": "code",
    "id": "NA70TqbWHL7q"
   },
   "outputs": [],
   "source": [
    "print('Test set score: {}'.format(grid_search.score(X_test.values, y_test.values)))\n",
    "print('Best parameters: {}'.format(grid_search.best_params_))\n",
    "print('Best cross-validation: {}'.format(grid_search.best_score_))"
   ]
  },
  {
   "cell_type": "code",
   "execution_count": 10,
   "metadata": {
    "colab": {
     "base_uri": "https://localhost:8080/",
     "height": 309
    },
    "colab_type": "code",
    "executionInfo": {
     "elapsed": 6069,
     "status": "ok",
     "timestamp": 1560239687541,
     "user": {
      "displayName": "山田智継",
      "photoUrl": "https://lh4.googleusercontent.com/-2OPZw8DvGcY/AAAAAAAAAAI/AAAAAAAAAp0/HF0-Q5UiENk/s64/photo.jpg",
      "userId": "13526205579918780782"
     },
     "user_tz": -540
    },
    "id": "e02KwuGYHb02",
    "outputId": "65d6a8be-5f34-4915-a57b-07ebe4e1a725"
   },
   "outputs": [
    {
     "name": "stderr",
     "output_type": "stream",
     "text": [
      "/usr/local/lib/python3.6/dist-packages/sklearn/linear_model/logistic.py:947: ConvergenceWarning: lbfgs failed to converge. Increase the number of iterations.\n",
      "  \"of iterations.\", ConvergenceWarning)\n",
      "/usr/local/lib/python3.6/dist-packages/sklearn/linear_model/logistic.py:947: ConvergenceWarning: lbfgs failed to converge. Increase the number of iterations.\n",
      "  \"of iterations.\", ConvergenceWarning)\n"
     ]
    },
    {
     "name": "stdout",
     "output_type": "stream",
     "text": [
      "0.496875\n",
      "0.51875\n"
     ]
    },
    {
     "name": "stderr",
     "output_type": "stream",
     "text": [
      "/usr/local/lib/python3.6/dist-packages/sklearn/linear_model/logistic.py:947: ConvergenceWarning: lbfgs failed to converge. Increase the number of iterations.\n",
      "  \"of iterations.\", ConvergenceWarning)\n",
      "/usr/local/lib/python3.6/dist-packages/sklearn/linear_model/logistic.py:947: ConvergenceWarning: lbfgs failed to converge. Increase the number of iterations.\n",
      "  \"of iterations.\", ConvergenceWarning)\n"
     ]
    },
    {
     "name": "stdout",
     "output_type": "stream",
     "text": [
      "0.45\n",
      "0.4625\n",
      "0.525\n",
      "testACC0.49\n"
     ]
    },
    {
     "name": "stderr",
     "output_type": "stream",
     "text": [
      "/usr/local/lib/python3.6/dist-packages/sklearn/linear_model/logistic.py:947: ConvergenceWarning: lbfgs failed to converge. Increase the number of iterations.\n",
      "  \"of iterations.\", ConvergenceWarning)\n"
     ]
    }
   ],
   "source": [
    "# logistic_regression \n",
    "folds = KFold(n_splits=5, shuffle=True, random_state=123)\n",
    "oof_preds = np.zeros(X_train.shape[0])\n",
    "sub_preds = np.zeros(X_test.shape[0])\n",
    "features = [f_ for f_ in X_train.columns if f_ not in [\"target\"]]\n",
    "for n_fold, (trn_idx, val_idx) in enumerate(folds.split(X_train)):\n",
    "    trn_x, trn_y = X_train[features].iloc[trn_idx], y_train.iloc[trn_idx]\n",
    "    val_x, val_y = X_train[features].iloc[val_idx], y_train.iloc[val_idx]\n",
    "    clf = LogisticRegression(solver='lbfgs',multi_class='multinomial')\n",
    "    clf.fit(trn_x, trn_y)\n",
    "    print(clf.score(val_x, val_y))\n",
    "\n",
    "print(\"testACC{}\".format(clf.score(X_test, y_test)))"
   ]
  },
  {
   "cell_type": "markdown",
   "metadata": {
    "colab_type": "text",
    "id": "aUSj0TudiJJK"
   },
   "source": [
    "###グラフの直感通り分類精度は6つの中で最も低い"
   ]
  },
  {
   "cell_type": "markdown",
   "metadata": {
    "colab_type": "text",
    "id": "_AEfStbliaFj"
   },
   "source": [
    "### 主成分分析して特徴量をまとめ6つの特徴量から精度を測る"
   ]
  },
  {
   "cell_type": "code",
   "execution_count": 0,
   "metadata": {
    "colab": {},
    "colab_type": "code",
    "id": "5PZ5Y_ANjTig"
   },
   "outputs": [],
   "source": [
    "from sklearn.decomposition import PCA"
   ]
  },
  {
   "cell_type": "code",
   "execution_count": 0,
   "metadata": {
    "colab": {},
    "colab_type": "code",
    "id": "L7QHuC4RnhKB"
   },
   "outputs": [],
   "source": [
    "feature_list = list([new_fou_df, new_fac_df, new_kar_df, new_pix_df, new_zer_df, new_mor_df])"
   ]
  },
  {
   "cell_type": "code",
   "execution_count": 0,
   "metadata": {
    "colab": {},
    "colab_type": "code",
    "id": "cGmcuLon4F-a"
   },
   "outputs": [],
   "source": [
    "columns = [\"fou-1\", \"fou-2\", \"fac-1\", \"fac-2\", \"kar-1\", \"kar-2\",\n",
    "           \"pix-1\", \"pix-2\", \"zer-1\", \"zer-2\", \"mor-1\", \"mor-2\"]"
   ]
  },
  {
   "cell_type": "code",
   "execution_count": 41,
   "metadata": {
    "colab": {
     "base_uri": "https://localhost:8080/",
     "height": 238
    },
    "colab_type": "code",
    "executionInfo": {
     "elapsed": 4064,
     "status": "ok",
     "timestamp": 1560245231033,
     "user": {
      "displayName": "山田智継",
      "photoUrl": "https://lh4.googleusercontent.com/-2OPZw8DvGcY/AAAAAAAAAAI/AAAAAAAAAp0/HF0-Q5UiENk/s64/photo.jpg",
      "userId": "13526205579918780782"
     },
     "user_tz": -540
    },
    "id": "y5NENcwoq1IW",
    "outputId": "f3a451ba-a371-4d4e-ef80-2b9d38565430"
   },
   "outputs": [
    {
     "name": "stdout",
     "output_type": "stream",
     "text": [
      "[[ 5.12044949e-01 -2.34139693e-01 -6.56946626e+02 ...  4.04015340e+01\n",
      "  -4.53503455e+03  6.13223914e+00]\n",
      " [ 6.48571456e-01 -2.12597939e-01 -4.05267016e+02 ... -1.71569145e+01\n",
      "  -4.54596288e+03 -2.10847991e-01]\n",
      " [ 5.82051414e-01 -2.39383513e-01 -5.79456603e+02 ... -2.11635525e+01\n",
      "  -4.58628962e+03  4.48953093e+00]\n",
      " ...\n",
      " [-2.36096474e-01 -2.55140751e-01  4.84458773e+02 ...  2.60339815e+01\n",
      "  -2.38852809e+03 -6.25774783e+00]\n",
      " [-1.08996147e-01 -1.43350590e-01  4.77794690e+02 ...  2.30130101e+02\n",
      "  -2.03691795e+03 -2.86883335e-01]\n",
      " [-2.42674432e-02 -7.46997260e-02  6.23773456e+02 ... -7.33072898e+01\n",
      "  -2.34727573e+03 -7.27415523e+00]]\n"
     ]
    }
   ],
   "source": [
    "\"features_array = []\n",
    "for feature in feature_list:\n",
    "  feature_pca = pca.fit(feature)\n",
    "  # データを主成分空間に写像\n",
    "  feature_pca = pca.transform(feature)\n",
    "  if not len(features_array):\n",
    "    features_array = feature_pca\n",
    "  else:\n",
    "    features_array = np.hstack([features_array, feature_pca])\n",
    "    \n",
    "print(features_array)"
   ]
  },
  {
   "cell_type": "code",
   "execution_count": 45,
   "metadata": {
    "colab": {
     "base_uri": "https://localhost:8080/",
     "height": 224
    },
    "colab_type": "code",
    "executionInfo": {
     "elapsed": 5410,
     "status": "ok",
     "timestamp": 1560245787022,
     "user": {
      "displayName": "山田智継",
      "photoUrl": "https://lh4.googleusercontent.com/-2OPZw8DvGcY/AAAAAAAAAAI/AAAAAAAAAp0/HF0-Q5UiENk/s64/photo.jpg",
      "userId": "13526205579918780782"
     },
     "user_tz": -540
    },
    "id": "WA6gfBBS3l_P",
    "outputId": "e0cb7d43-126a-4385-c428-0c612a153d81"
   },
   "outputs": [
    {
     "data": {
      "text/html": [
       "<div>\n",
       "<style scoped>\n",
       "    .dataframe tbody tr th:only-of-type {\n",
       "        vertical-align: middle;\n",
       "    }\n",
       "\n",
       "    .dataframe tbody tr th {\n",
       "        vertical-align: top;\n",
       "    }\n",
       "\n",
       "    .dataframe thead th {\n",
       "        text-align: right;\n",
       "    }\n",
       "</style>\n",
       "<table border=\"1\" class=\"dataframe\">\n",
       "  <thead>\n",
       "    <tr style=\"text-align: right;\">\n",
       "      <th></th>\n",
       "      <th>fou-1</th>\n",
       "      <th>fou-2</th>\n",
       "      <th>fac-1</th>\n",
       "      <th>fac-2</th>\n",
       "      <th>kar-1</th>\n",
       "      <th>kar-2</th>\n",
       "      <th>pix-1</th>\n",
       "      <th>pix-2</th>\n",
       "      <th>zer-1</th>\n",
       "      <th>zer-2</th>\n",
       "      <th>mor-1</th>\n",
       "      <th>mor-2</th>\n",
       "    </tr>\n",
       "  </thead>\n",
       "  <tbody>\n",
       "    <tr>\n",
       "      <th>0</th>\n",
       "      <td>0.512045</td>\n",
       "      <td>-0.234140</td>\n",
       "      <td>-656.946626</td>\n",
       "      <td>-654.067417</td>\n",
       "      <td>-3.744929</td>\n",
       "      <td>-15.173051</td>\n",
       "      <td>-8.215006</td>\n",
       "      <td>-25.649540</td>\n",
       "      <td>567.826185</td>\n",
       "      <td>40.401534</td>\n",
       "      <td>-4535.034550</td>\n",
       "      <td>6.132239</td>\n",
       "    </tr>\n",
       "    <tr>\n",
       "      <th>1</th>\n",
       "      <td>0.648571</td>\n",
       "      <td>-0.212598</td>\n",
       "      <td>-405.267016</td>\n",
       "      <td>-642.562269</td>\n",
       "      <td>-1.699656</td>\n",
       "      <td>-9.458715</td>\n",
       "      <td>-3.524674</td>\n",
       "      <td>-17.669348</td>\n",
       "      <td>407.426733</td>\n",
       "      <td>-17.156914</td>\n",
       "      <td>-4545.962877</td>\n",
       "      <td>-0.210848</td>\n",
       "    </tr>\n",
       "    <tr>\n",
       "      <th>2</th>\n",
       "      <td>0.582051</td>\n",
       "      <td>-0.239384</td>\n",
       "      <td>-579.456603</td>\n",
       "      <td>-693.736597</td>\n",
       "      <td>-4.843909</td>\n",
       "      <td>-9.568765</td>\n",
       "      <td>-12.638352</td>\n",
       "      <td>-17.052124</td>\n",
       "      <td>525.116708</td>\n",
       "      <td>-21.163552</td>\n",
       "      <td>-4586.289616</td>\n",
       "      <td>4.489531</td>\n",
       "    </tr>\n",
       "    <tr>\n",
       "      <th>3</th>\n",
       "      <td>0.605390</td>\n",
       "      <td>-0.136980</td>\n",
       "      <td>-450.910292</td>\n",
       "      <td>-480.464548</td>\n",
       "      <td>-2.166194</td>\n",
       "      <td>-12.129270</td>\n",
       "      <td>-4.393130</td>\n",
       "      <td>-19.626815</td>\n",
       "      <td>419.464564</td>\n",
       "      <td>20.019925</td>\n",
       "      <td>-4460.226391</td>\n",
       "      <td>1.984980</td>\n",
       "    </tr>\n",
       "    <tr>\n",
       "      <th>4</th>\n",
       "      <td>0.589949</td>\n",
       "      <td>-0.188867</td>\n",
       "      <td>-364.361767</td>\n",
       "      <td>-348.880349</td>\n",
       "      <td>-7.444568</td>\n",
       "      <td>-9.102944</td>\n",
       "      <td>-14.563755</td>\n",
       "      <td>-15.176028</td>\n",
       "      <td>482.238582</td>\n",
       "      <td>-23.739664</td>\n",
       "      <td>-4507.574785</td>\n",
       "      <td>0.078716</td>\n",
       "    </tr>\n",
       "  </tbody>\n",
       "</table>\n",
       "</div>"
      ],
      "text/plain": [
       "      fou-1     fou-2       fac-1  ...      zer-2        mor-1     mor-2\n",
       "0  0.512045 -0.234140 -656.946626  ...  40.401534 -4535.034550  6.132239\n",
       "1  0.648571 -0.212598 -405.267016  ... -17.156914 -4545.962877 -0.210848\n",
       "2  0.582051 -0.239384 -579.456603  ... -21.163552 -4586.289616  4.489531\n",
       "3  0.605390 -0.136980 -450.910292  ...  20.019925 -4460.226391  1.984980\n",
       "4  0.589949 -0.188867 -364.361767  ... -23.739664 -4507.574785  0.078716\n",
       "\n",
       "[5 rows x 12 columns]"
      ]
     },
     "execution_count": 45,
     "metadata": {
      "tags": []
     },
     "output_type": "execute_result"
    }
   ],
   "source": [
    "features_df = pd.DataFrame(features_array, columns=columns)\n",
    "features_df.head()"
   ]
  },
  {
   "cell_type": "code",
   "execution_count": 0,
   "metadata": {
    "colab": {},
    "colab_type": "code",
    "id": "SAN4PGMmiZOQ"
   },
   "outputs": [],
   "source": [
    "X_train, X_test, y_train, y_test = train_test_split(features_df, target, test_size=0.2)"
   ]
  },
  {
   "cell_type": "code",
   "execution_count": 50,
   "metadata": {
    "colab": {
     "base_uri": "https://localhost:8080/",
     "height": 309
    },
    "colab_type": "code",
    "executionInfo": {
     "elapsed": 8863,
     "status": "ok",
     "timestamp": 1560246132593,
     "user": {
      "displayName": "山田智継",
      "photoUrl": "https://lh4.googleusercontent.com/-2OPZw8DvGcY/AAAAAAAAAAI/AAAAAAAAAp0/HF0-Q5UiENk/s64/photo.jpg",
      "userId": "13526205579918780782"
     },
     "user_tz": -540
    },
    "id": "E9xkSLEk6VXp",
    "outputId": "e5bfb2ee-316b-4ceb-ec73-0486bbb09bc7"
   },
   "outputs": [
    {
     "name": "stderr",
     "output_type": "stream",
     "text": [
      "/usr/local/lib/python3.6/dist-packages/sklearn/linear_model/logistic.py:947: ConvergenceWarning: lbfgs failed to converge. Increase the number of iterations.\n",
      "  \"of iterations.\", ConvergenceWarning)\n",
      "/usr/local/lib/python3.6/dist-packages/sklearn/linear_model/logistic.py:947: ConvergenceWarning: lbfgs failed to converge. Increase the number of iterations.\n",
      "  \"of iterations.\", ConvergenceWarning)\n"
     ]
    },
    {
     "name": "stdout",
     "output_type": "stream",
     "text": [
      "0.7875\n",
      "0.821875\n"
     ]
    },
    {
     "name": "stderr",
     "output_type": "stream",
     "text": [
      "/usr/local/lib/python3.6/dist-packages/sklearn/linear_model/logistic.py:947: ConvergenceWarning: lbfgs failed to converge. Increase the number of iterations.\n",
      "  \"of iterations.\", ConvergenceWarning)\n",
      "/usr/local/lib/python3.6/dist-packages/sklearn/linear_model/logistic.py:947: ConvergenceWarning: lbfgs failed to converge. Increase the number of iterations.\n",
      "  \"of iterations.\", ConvergenceWarning)\n"
     ]
    },
    {
     "name": "stdout",
     "output_type": "stream",
     "text": [
      "0.8625\n",
      "0.79375\n",
      "0.853125\n",
      "testACC0.8225\n"
     ]
    },
    {
     "name": "stderr",
     "output_type": "stream",
     "text": [
      "/usr/local/lib/python3.6/dist-packages/sklearn/linear_model/logistic.py:947: ConvergenceWarning: lbfgs failed to converge. Increase the number of iterations.\n",
      "  \"of iterations.\", ConvergenceWarning)\n"
     ]
    }
   ],
   "source": [
    "# logistic_regression \n",
    "folds = KFold(n_splits=5, shuffle=True, random_state=123)\n",
    "oof_preds = np.zeros(X_train.shape[0])\n",
    "sub_preds = np.zeros(X_test.shape[0])\n",
    "features = [f_ for f_ in X_train.columns if f_ not in [\"target\"]]\n",
    "for n_fold, (trn_idx, val_idx) in enumerate(folds.split(X_train)):\n",
    "    trn_x, trn_y = X_train[features].iloc[trn_idx], y_train.iloc[trn_idx]\n",
    "    val_x, val_y = X_train[features].iloc[val_idx], y_train.iloc[val_idx]\n",
    "    clf = LogisticRegression(solver='lbfgs',multi_class='multinomial')\n",
    "    clf.fit(trn_x, trn_y)\n",
    "    print(clf.score(val_x, val_y))\n",
    "\n",
    "print(\"testACC{}\".format(clf.score(X_test, y_test)))"
   ]
  },
  {
   "cell_type": "code",
   "execution_count": 0,
   "metadata": {
    "colab": {},
    "colab_type": "code",
    "id": "PCIEGJZi7rnl"
   },
   "outputs": [],
   "source": [
    "#facに加える\n",
    "fac_features_df = pd.concat([new_fac_df, features_df], axis=1)"
   ]
  },
  {
   "cell_type": "code",
   "execution_count": 0,
   "metadata": {
    "colab": {},
    "colab_type": "code",
    "id": "8p3sUwxh8xjP"
   },
   "outputs": [],
   "source": [
    "X_train, X_test, y_train, y_test = train_test_split(fac_features_df, target, test_size=0.2)"
   ]
  },
  {
   "cell_type": "code",
   "execution_count": 58,
   "metadata": {
    "colab": {
     "base_uri": "https://localhost:8080/",
     "height": 309
    },
    "colab_type": "code",
    "executionInfo": {
     "elapsed": 4024,
     "status": "ok",
     "timestamp": 1560247304490,
     "user": {
      "displayName": "山田智継",
      "photoUrl": "https://lh4.googleusercontent.com/-2OPZw8DvGcY/AAAAAAAAAAI/AAAAAAAAAp0/HF0-Q5UiENk/s64/photo.jpg",
      "userId": "13526205579918780782"
     },
     "user_tz": -540
    },
    "id": "NBYhwjoH-7Gl",
    "outputId": "dfa9e89e-8780-419a-9bf4-c7bcd1586878"
   },
   "outputs": [
    {
     "name": "stderr",
     "output_type": "stream",
     "text": [
      "/usr/local/lib/python3.6/dist-packages/sklearn/linear_model/logistic.py:947: ConvergenceWarning: lbfgs failed to converge. Increase the number of iterations.\n",
      "  \"of iterations.\", ConvergenceWarning)\n"
     ]
    },
    {
     "name": "stdout",
     "output_type": "stream",
     "text": [
      "0.975\n"
     ]
    },
    {
     "name": "stderr",
     "output_type": "stream",
     "text": [
      "/usr/local/lib/python3.6/dist-packages/sklearn/linear_model/logistic.py:947: ConvergenceWarning: lbfgs failed to converge. Increase the number of iterations.\n",
      "  \"of iterations.\", ConvergenceWarning)\n"
     ]
    },
    {
     "name": "stdout",
     "output_type": "stream",
     "text": [
      "0.96875\n"
     ]
    },
    {
     "name": "stderr",
     "output_type": "stream",
     "text": [
      "/usr/local/lib/python3.6/dist-packages/sklearn/linear_model/logistic.py:947: ConvergenceWarning: lbfgs failed to converge. Increase the number of iterations.\n",
      "  \"of iterations.\", ConvergenceWarning)\n"
     ]
    },
    {
     "name": "stdout",
     "output_type": "stream",
     "text": [
      "0.940625\n"
     ]
    },
    {
     "name": "stderr",
     "output_type": "stream",
     "text": [
      "/usr/local/lib/python3.6/dist-packages/sklearn/linear_model/logistic.py:947: ConvergenceWarning: lbfgs failed to converge. Increase the number of iterations.\n",
      "  \"of iterations.\", ConvergenceWarning)\n"
     ]
    },
    {
     "name": "stdout",
     "output_type": "stream",
     "text": [
      "0.9625\n",
      "0.953125\n",
      "testACC0.97\n"
     ]
    },
    {
     "name": "stderr",
     "output_type": "stream",
     "text": [
      "/usr/local/lib/python3.6/dist-packages/sklearn/linear_model/logistic.py:947: ConvergenceWarning: lbfgs failed to converge. Increase the number of iterations.\n",
      "  \"of iterations.\", ConvergenceWarning)\n"
     ]
    }
   ],
   "source": [
    "# logistic_regression \n",
    "folds = KFold(n_splits=5, shuffle=True, random_state=123)\n",
    "oof_preds = np.zeros(X_train.shape[0])\n",
    "sub_preds = np.zeros(X_test.shape[0])\n",
    "features = [f_ for f_ in X_train.columns if f_ not in [\"target\"]]\n",
    "for n_fold, (trn_idx, val_idx) in enumerate(folds.split(X_train)):\n",
    "    trn_x, trn_y = X_train[features].iloc[trn_idx], y_train.iloc[trn_idx]\n",
    "    val_x, val_y = X_train[features].iloc[val_idx], y_train.iloc[val_idx]\n",
    "    clf = LogisticRegression(solver='lbfgs',multi_class='multinomial')\n",
    "    clf.fit(trn_x, trn_y)\n",
    "    print(clf.score(val_x, val_y))\n",
    "\n",
    "print(\"testACC{}\".format(clf.score(X_test, y_test)))"
   ]
  },
  {
   "cell_type": "code",
   "execution_count": 0,
   "metadata": {
    "colab": {},
    "colab_type": "code",
    "id": "A2MH2fbDaIr_"
   },
   "outputs": [],
   "source": [
    "lgb_params = {\n",
    "    \"objective\" : \"multiclass\",\n",
    "    \"num_class\" : \"10\",\n",
    "    \"boosting\" : 'gbdt',\n",
    "}"
   ]
  },
  {
   "cell_type": "code",
   "execution_count": 0,
   "metadata": {
    "colab": {},
    "colab_type": "code",
    "id": "ESTCxqmdGE2-"
   },
   "outputs": [],
   "source": [
    "import lightgbm as lgb"
   ]
  },
  {
   "cell_type": "code",
   "execution_count": 0,
   "metadata": {
    "colab": {},
    "colab_type": "code",
    "id": "mnAEb6aXKivW"
   },
   "outputs": [],
   "source": [
    "lgb_train = lgb.Dataset(X_train, y_train)\n",
    "lgb_eval = lgb.Dataset(X_test, y_test, reference=lgb_train)"
   ]
  },
  {
   "cell_type": "code",
   "execution_count": 79,
   "metadata": {
    "colab": {
     "base_uri": "https://localhost:8080/",
     "height": 1734
    },
    "colab_type": "code",
    "executionInfo": {
     "elapsed": 15024,
     "status": "ok",
     "timestamp": 1560252858435,
     "user": {
      "displayName": "山田智継",
      "photoUrl": "https://lh4.googleusercontent.com/-2OPZw8DvGcY/AAAAAAAAAAI/AAAAAAAAAp0/HF0-Q5UiENk/s64/photo.jpg",
      "userId": "13526205579918780782"
     },
     "user_tz": -540
    },
    "id": "0pHi2r16a0CT",
    "outputId": "27b799fa-54c1-4960-ea7d-62a7ae3bca6e"
   },
   "outputs": [
    {
     "name": "stdout",
     "output_type": "stream",
     "text": [
      "[1]\tvalid_0's multi_logloss: 1.91269\n",
      "[2]\tvalid_0's multi_logloss: 1.65391\n",
      "[3]\tvalid_0's multi_logloss: 1.45855\n",
      "[4]\tvalid_0's multi_logloss: 1.30049\n",
      "[5]\tvalid_0's multi_logloss: 1.17016\n",
      "[6]\tvalid_0's multi_logloss: 1.06145\n",
      "[7]\tvalid_0's multi_logloss: 0.970033\n",
      "[8]\tvalid_0's multi_logloss: 0.885901\n",
      "[9]\tvalid_0's multi_logloss: 0.812218\n",
      "[10]\tvalid_0's multi_logloss: 0.747315\n",
      "[11]\tvalid_0's multi_logloss: 0.69018\n",
      "[12]\tvalid_0's multi_logloss: 0.638561\n",
      "[13]\tvalid_0's multi_logloss: 0.592456\n",
      "[14]\tvalid_0's multi_logloss: 0.549731\n",
      "[15]\tvalid_0's multi_logloss: 0.512144\n",
      "[16]\tvalid_0's multi_logloss: 0.477747\n",
      "[17]\tvalid_0's multi_logloss: 0.446897\n",
      "[18]\tvalid_0's multi_logloss: 0.418288\n",
      "[19]\tvalid_0's multi_logloss: 0.392734\n",
      "[20]\tvalid_0's multi_logloss: 0.369966\n",
      "[21]\tvalid_0's multi_logloss: 0.34788\n",
      "[22]\tvalid_0's multi_logloss: 0.327749\n",
      "[23]\tvalid_0's multi_logloss: 0.309415\n",
      "[24]\tvalid_0's multi_logloss: 0.292064\n",
      "[25]\tvalid_0's multi_logloss: 0.276724\n",
      "[26]\tvalid_0's multi_logloss: 0.263077\n",
      "[27]\tvalid_0's multi_logloss: 0.249522\n",
      "[28]\tvalid_0's multi_logloss: 0.236811\n",
      "[29]\tvalid_0's multi_logloss: 0.225638\n",
      "[30]\tvalid_0's multi_logloss: 0.215985\n",
      "[31]\tvalid_0's multi_logloss: 0.205778\n",
      "[32]\tvalid_0's multi_logloss: 0.196815\n",
      "[33]\tvalid_0's multi_logloss: 0.18691\n",
      "[34]\tvalid_0's multi_logloss: 0.178631\n",
      "[35]\tvalid_0's multi_logloss: 0.17089\n",
      "[36]\tvalid_0's multi_logloss: 0.163742\n",
      "[37]\tvalid_0's multi_logloss: 0.156605\n",
      "[38]\tvalid_0's multi_logloss: 0.151624\n",
      "[39]\tvalid_0's multi_logloss: 0.145157\n",
      "[40]\tvalid_0's multi_logloss: 0.139842\n",
      "[41]\tvalid_0's multi_logloss: 0.134786\n",
      "[42]\tvalid_0's multi_logloss: 0.129747\n",
      "[43]\tvalid_0's multi_logloss: 0.125813\n",
      "[44]\tvalid_0's multi_logloss: 0.121547\n",
      "[45]\tvalid_0's multi_logloss: 0.117596\n",
      "[46]\tvalid_0's multi_logloss: 0.114528\n",
      "[47]\tvalid_0's multi_logloss: 0.111595\n",
      "[48]\tvalid_0's multi_logloss: 0.108351\n",
      "[49]\tvalid_0's multi_logloss: 0.10519\n",
      "[50]\tvalid_0's multi_logloss: 0.101643\n",
      "[51]\tvalid_0's multi_logloss: 0.0994743\n",
      "[52]\tvalid_0's multi_logloss: 0.097\n",
      "[53]\tvalid_0's multi_logloss: 0.0945371\n",
      "[54]\tvalid_0's multi_logloss: 0.0928944\n",
      "[55]\tvalid_0's multi_logloss: 0.0910798\n",
      "[56]\tvalid_0's multi_logloss: 0.0891265\n",
      "[57]\tvalid_0's multi_logloss: 0.0882104\n",
      "[58]\tvalid_0's multi_logloss: 0.0863908\n",
      "[59]\tvalid_0's multi_logloss: 0.085199\n",
      "[60]\tvalid_0's multi_logloss: 0.0842616\n",
      "[61]\tvalid_0's multi_logloss: 0.0827959\n",
      "[62]\tvalid_0's multi_logloss: 0.081931\n",
      "[63]\tvalid_0's multi_logloss: 0.0803433\n",
      "[64]\tvalid_0's multi_logloss: 0.0791949\n",
      "[65]\tvalid_0's multi_logloss: 0.0784524\n",
      "[66]\tvalid_0's multi_logloss: 0.077606\n",
      "[67]\tvalid_0's multi_logloss: 0.077183\n",
      "[68]\tvalid_0's multi_logloss: 0.0759309\n",
      "[69]\tvalid_0's multi_logloss: 0.0755877\n",
      "[70]\tvalid_0's multi_logloss: 0.0747851\n",
      "[71]\tvalid_0's multi_logloss: 0.0739664\n",
      "[72]\tvalid_0's multi_logloss: 0.0734578\n",
      "[73]\tvalid_0's multi_logloss: 0.0732102\n",
      "[74]\tvalid_0's multi_logloss: 0.072952\n",
      "[75]\tvalid_0's multi_logloss: 0.0725951\n",
      "[76]\tvalid_0's multi_logloss: 0.0719367\n",
      "[77]\tvalid_0's multi_logloss: 0.0716055\n",
      "[78]\tvalid_0's multi_logloss: 0.0713079\n",
      "[79]\tvalid_0's multi_logloss: 0.0708416\n",
      "[80]\tvalid_0's multi_logloss: 0.0706604\n",
      "[81]\tvalid_0's multi_logloss: 0.0702637\n",
      "[82]\tvalid_0's multi_logloss: 0.070328\n",
      "[83]\tvalid_0's multi_logloss: 0.070552\n",
      "[84]\tvalid_0's multi_logloss: 0.0699537\n",
      "[85]\tvalid_0's multi_logloss: 0.0693914\n",
      "[86]\tvalid_0's multi_logloss: 0.0696691\n",
      "[87]\tvalid_0's multi_logloss: 0.069114\n",
      "[88]\tvalid_0's multi_logloss: 0.0684163\n",
      "[89]\tvalid_0's multi_logloss: 0.0687385\n",
      "[90]\tvalid_0's multi_logloss: 0.0692902\n",
      "[91]\tvalid_0's multi_logloss: 0.0694793\n",
      "[92]\tvalid_0's multi_logloss: 0.068817\n",
      "[93]\tvalid_0's multi_logloss: 0.0683353\n",
      "[94]\tvalid_0's multi_logloss: 0.068185\n",
      "[95]\tvalid_0's multi_logloss: 0.0685898\n",
      "[96]\tvalid_0's multi_logloss: 0.0683625\n",
      "[97]\tvalid_0's multi_logloss: 0.0685972\n",
      "[98]\tvalid_0's multi_logloss: 0.069021\n",
      "[99]\tvalid_0's multi_logloss: 0.0681568\n",
      "[100]\tvalid_0's multi_logloss: 0.06793\n",
      "0.9825\n"
     ]
    }
   ],
   "source": [
    "model = lgb.train(\n",
    "    lgb_params, \n",
    "    lgb_train,\n",
    "    valid_sets=lgb_eval\n",
    ")\n",
    "\n",
    "y_pred = model.predict(X_test, num_iteration=model.best_iteration)\n",
    "y_pred_max = np.argmax(y_pred, axis=1)  # 最尤と判断したクラスの値にする\n",
    "# 精度 (Accuracy) を計算する\n",
    "accuracy = sum(y_test == y_pred_max) / len(y_test)\n",
    "print(accuracy)"
   ]
  },
  {
   "cell_type": "markdown",
   "metadata": {
    "colab_type": "text",
    "id": "-TwncOHjWcNx"
   },
   "source": [
    "### 説明力弱いが精度が最も期待できるLightGBMでは98%以上の精度"
   ]
  },
  {
   "cell_type": "code",
   "execution_count": 0,
   "metadata": {
    "colab": {},
    "colab_type": "code",
    "id": "5MQzTNC0WV_g"
   },
   "outputs": [],
   "source": [
    "#"
   ]
  }
 ],
 "metadata": {
  "accelerator": "GPU",
  "colab": {
   "collapsed_sections": [],
   "name": "icaria.ipynb",
   "provenance": [],
   "toc_visible": true,
   "version": "0.3.2"
  },
  "kernelspec": {
   "display_name": "Python 3",
   "language": "python",
   "name": "python3"
  }
 },
 "nbformat": 4,
 "nbformat_minor": 1
}
