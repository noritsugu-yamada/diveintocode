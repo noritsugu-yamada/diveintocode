{
 "cells": [
  {
   "cell_type": "markdown",
   "metadata": {},
   "source": [
    "【問題1】ジニ不純度を求める関数"
   ]
  },
  {
   "cell_type": "markdown",
   "metadata": {},
   "source": [
    "$$\n",
    "I(t) = 1-\\sum_{i=1}^{K}P^2(C_i|t) = 1-\\sum_{i=1}^{K}(\\frac{N_{t,i}}{N_{t,all}})^{2}\n",
    "$$"
   ]
  },
  {
   "cell_type": "code",
   "execution_count": 1,
   "metadata": {},
   "outputs": [],
   "source": [
    "def calculate_jini(n_total, n1):\n",
    "    n0 = n_total - n1\n",
    "    jini = 1 - (np.square(n1/n_total) + np.square(n0/n_total))\n",
    "    return jini"
   ]
  },
  {
   "cell_type": "markdown",
   "metadata": {},
   "source": [
    "問題2】情報利得を求める関数"
   ]
  },
  {
   "cell_type": "markdown",
   "metadata": {},
   "source": [
    "$$\n",
    "IG(p) = I(p)-\\frac{N_{left,all}}{N_{p,all}}I(left)-\\frac{N_{right,all}}{N_{p,all}}I(right)\n",
    "$$"
   ]
  },
  {
   "cell_type": "code",
   "execution_count": 2,
   "metadata": {},
   "outputs": [],
   "source": [
    "def get_info_gain(y,n_suitable, ns_1, n_other, no_1):\n",
    "    # 親ノードのジニ不純度\n",
    "    n_total_mam = len(y) \n",
    "    n1_mam = np.sum(y==1) # 正解ラベルの数\n",
    "    jini_mam = calculate_jini(len(y), n1_mam)\n",
    "    \n",
    "    # 子ノードの加重平均\n",
    "    if (n_total_mam != n_suitable): # 最低値を除く\n",
    "        jini_left = calculate_jini(n_suitable, ns_1)\n",
    "        jini_right = calculate_jini(n_other, no_1)\n",
    "        weight_ave =  n_suitable/n_total_mam * jini_left + n_other/n_total_mam * jini_right\n",
    "        \n",
    "        return jini_mam - weight_ave\n",
    "    \n",
    "    else:\n",
    "        return 0"
   ]
  },
  {
   "cell_type": "markdown",
   "metadata": {},
   "source": [
    "【問題3】深さ1の決定木分類器クラスの作成"
   ]
  },
  {
   "cell_type": "code",
   "execution_count": 3,
   "metadata": {},
   "outputs": [],
   "source": [
    "class ScratchDecisionTreeClassifier():\n",
    "    \n",
    "    def __init__(self, max_depth=None):\n",
    "        self.max_depth = max_depth\n",
    "        self.jini_left = 0\n",
    "        self.best_feature = 0\n",
    "        self.best_threshold = 0\n",
    "        self.label_over = 0\n",
    "        self.label_under = 0\n",
    "        self.jini_right = 0\n",
    "        \n",
    "    def fit(self, X, y):\n",
    "        base_score = 0\n",
    "        for j in range(X.shape[1]):\n",
    "            for i in range(X.shape[0]):\n",
    "                # 総当たりで閾値を動かす\n",
    "                threshold = [X[i,j]]\n",
    "                suitable_index = np.where(X[:,j]>=threshold)[0] #閾値以上のindex\n",
    "                n_suitable = len(suitable_index) # 閾値以上の数\n",
    "                ns_1 = np.sum(y[suitable_index]==1)# 閾値以上のクラス1の数\n",
    "\n",
    "                other_index = np.where(X[:,j]<threshold)[0] # 閾値未満のindex\n",
    "                n_other = len(other_index)  # 閾値未満の数\n",
    "                no_1 = np.sum(y[other_index]==1) # 閾値未満のクラス1の数\n",
    "                \n",
    "                info_gain = self.get_info_gain(y, n_suitable, ns_1, n_other, no_1)\n",
    "                if info_gain > base_score:\n",
    "                    base_score = info_gain\n",
    "                    self.best_feature = j\n",
    "                    self.best_threshold = X[i,j]\n",
    "                    self.jini_left = self.jini_left\n",
    "                    self.jini_right =self.jini_right\n",
    "                    if ns_1 >= n_suitable - ns_1: # 閾値以上のグループのラベルを決定\n",
    "                        self.label_over = 1\n",
    "                        self.label_under = 0\n",
    "                    else:\n",
    "                        self.label_over = 0\n",
    "                        self.label_under = 1\n",
    "    \n",
    "    def predict(self, X_test):\n",
    "        X_test = X_test[:,self.best_feature] # 注目する特徴量のみに\n",
    "        # 閾値以上をlabel_overに置き換える\n",
    "        y_pred = np.where(X_test>self.best_threshold, self.label_over, self.label_under)\n",
    "        \n",
    "        return y_pred\n",
    "    \n",
    "    def accuracy(self, X_test, y_test):\n",
    "        y_pred = self.predict(X_test) # 予測\n",
    "        accuracy = np.sum(y_pred==y_test)/len(y_test) #等しい\n",
    "        \n",
    "        return accuracy\n",
    "    \n",
    "    def get_info_gain(self, y, n_suitable, ns_1, n_other, no_1):\n",
    "        # 親ノードのジニ不純度\n",
    "        n_total_mam = len(y) \n",
    "        n1_mam = np.sum(y==1) # 正解ラベルの数\n",
    "        jini_mam = self.calculate_jini(len(y), n1_mam)\n",
    "        \n",
    "        # 子ノードの加重平均\n",
    "        if (n_total_mam != n_suitable): # 最低値を除く\n",
    "            self.jini_left = self.calculate_jini(n_suitable, ns_1)\n",
    "            self.jini_right = self.calculate_jini(n_other, no_1)\n",
    "            weight_ave =  n_suitable/n_total_mam * self.jini_left + n_other/n_total_mam * self.jini_right\n",
    "            \n",
    "            return jini_mam - weight_ave\n",
    "        \n",
    "        else:\n",
    "            return 0\n",
    "    \n",
    "    def calculate_jini(self, n_total, n1):\n",
    "        n0 = n_total - n1\n",
    "        jini = 1 - (np.square(n1/n_total) + np.square(n0/n_total))\n",
    "        \n",
    "        return jini"
   ]
  },
  {
   "cell_type": "code",
   "execution_count": 4,
   "metadata": {},
   "outputs": [],
   "source": [
    "import numpy as np\n",
    "import pandas as pd\n",
    "from sklearn.model_selection import  train_test_split\n",
    "import matplotlib.pyplot as plt\n",
    "from matplotlib.colors import ListedColormap\n",
    "import matplotlib.patches as mpatches"
   ]
  },
  {
   "cell_type": "code",
   "execution_count": 5,
   "metadata": {},
   "outputs": [],
   "source": [
    "df = pd.read_csv('../ml-scratch/utils/df_simple2.csv')\n",
    "X = df.iloc[:,1:3].values\n",
    "y = df.loc[:,'target'].values\n",
    "X_train, X_test, y_train, y_test = train_test_split(\n",
    "  X, y, test_size=0.2)"
   ]
  },
  {
   "cell_type": "code",
   "execution_count": 6,
   "metadata": {},
   "outputs": [
    {
     "name": "stdout",
     "output_type": "stream",
     "text": [
      "[0 0 0 1 0 1 0 0]\n",
      "0.375\n"
     ]
    }
   ],
   "source": [
    "clf = ScratchDecisionTreeClassifier()\n",
    "clf.fit(X_train,y_train)\n",
    "print(clf.predict(X_test))\n",
    "print(clf.accuracy(X_test, y_test))"
   ]
  },
  {
   "cell_type": "markdown",
   "metadata": {},
   "source": [
    "【問題6】指標値の算出"
   ]
  },
  {
   "cell_type": "code",
   "execution_count": null,
   "metadata": {},
   "outputs": [],
   "source": [
    "clf.accuracy(X_test, y_test)"
   ]
  },
  {
   "cell_type": "code",
   "execution_count": 10,
   "metadata": {},
   "outputs": [],
   "source": [
    "def decision_region(X_train, y_train, model, step=0.01, title='decision region', xlabel='xlabel', ylabel='ylabel', target_names=['y=1', 'y=0']):\n",
    "    \"\"\"\n",
    "    2値分類を2次元の特徴量で学習したモデルの決定領域を描く。\n",
    "    背景の色が学習したモデルによる推定値から描画される。\n",
    "    散布図の点は学習用データである。\n",
    "\n",
    "    Parameters\n",
    "    ----------------\n",
    "    X_train : ndarray, shape(n_samples, 2)\n",
    "        学習用データの特徴量\n",
    "    y_train : ndarray, shape(n_samples,)\n",
    "        学習用データの正解値\n",
    "    model : object\n",
    "        学習したモデルのインスンタスを入れる\n",
    "    step : float, (default : 0.1)\n",
    "        推定値を計算する間隔を設定する\n",
    "    title : str\n",
    "        グラフのタイトルの文章を与える\n",
    "    xlabel, ylabel : str\n",
    "        軸ラベルの文章を与える\n",
    "    target_names= : list of str\n",
    "        凡例の一覧を与える\n",
    "    \"\"\"\n",
    "    # setting\n",
    "    scatter_color = ['red', 'blue']\n",
    "    contourf_color = ['pink', 'skyblue']\n",
    "    n_class = 2\n",
    "\n",
    "    # pred\n",
    "    mesh_f0, mesh_f1  = np.meshgrid(np.arange(np.min(X_train[:,0])-0.5, np.max(X_train[:,0])+0.5, step), np.arange(np.min(X_train[:,1])-0.5, np.max(X_train[:,1])+0.5, step))\n",
    "    mesh = np.c_[np.ravel(mesh_f0),np.ravel(mesh_f1)]\n",
    "    pred = model.predict(mesh).reshape(mesh_f0.shape)\n",
    "\n",
    "    # plot\n",
    "    plt.title(title)\n",
    "    plt.xlabel(xlabel)\n",
    "    plt.ylabel(ylabel)\n",
    "    plt.contourf(mesh_f0, mesh_f1, pred, n_class-1, cmap=ListedColormap(contourf_color))\n",
    "    plt.contour(mesh_f0, mesh_f1, pred, n_class-1, colors='y', linewidths=3, alpha=0.5)\n",
    "    for i, target in enumerate(set(y_train)):\n",
    "        plt.scatter(X_train[y_train==target][:, 0], X_train[y_train==target][:, 1], s=80, color=scatter_color[i], label=target_names[i], marker='o')\n",
    "    patches = [mpatches.Patch(color=scatter_color[i], label=target_names[i]) for i in range(n_class)]\n",
    "    plt.legend(handles=patches)\n",
    "    plt.legend()\n",
    "    plt.show()"
   ]
  },
  {
   "cell_type": "markdown",
   "metadata": {},
   "source": [
    "【問題7】決定領域の可視化"
   ]
  },
  {
   "cell_type": "code",
   "execution_count": 11,
   "metadata": {
    "scrolled": true
   },
   "outputs": [
    {
     "data": {
      "image/png": "[encoded data removed]",
      "text/plain": [
       "<Figure size 432x288 with 1 Axes>"
      ]
     },
     "metadata": {
      "needs_background": "light"
     },
     "output_type": "display_data"
    }
   ],
   "source": [
    "decision_region(X_train,y_train, model=clf)"
   ]
  },
  {
   "cell_type": "code",
   "execution_count": 12,
   "metadata": {},
   "outputs": [
    {
     "name": "stdout",
     "output_type": "stream",
     "text": [
      "0.625\n"
     ]
    },
    {
     "data": {
      "image/png": "[encoded data removed]",
      "text/plain": [
       "<Figure size 432x288 with 1 Axes>"
      ]
     },
     "metadata": {
      "needs_background": "light"
     },
     "output_type": "display_data"
    }
   ],
   "source": [
    "# .pyfileの実行\n",
    "%run ../ml-scratch/utils/scratch_decision_tree_classifier.py --file_path  \"C:/Users/umini/git-test/diveintocode-ml/ml-scratch/utils/df_simple2.csv\""
   ]
  },
  {
   "cell_type": "markdown",
   "metadata": {},
   "source": [
    "【問題8】決定木の利用場面\n",
    "決定木のメリットは二つ考えられる\n",
    "\n",
    "初めに、説明性が高いこと。アルゴリズムは複雑だが、図にしやすく詳しくない人でも納得させやすい\n",
    "\n",
    "次に、正規分布仮定しなくてよく、どんな分布でも使える点である"
   ]
  },
  {
   "cell_type": "code",
   "execution_count": null,
   "metadata": {},
   "outputs": [],
   "source": []
  }
 ],
 "metadata": {
  "kernelspec": {
   "display_name": "Python 3",
   "language": "python",
   "name": "python3"
  },
  "language_info": {
   "codemirror_mode": {
    "name": "ipython",
    "version": 3
   },
   "file_extension": ".py",
   "mimetype": "text/x-python",
   "name": "python",
   "nbconvert_exporter": "python",
   "pygments_lexer": "ipython3",
   "version": "3.6.7"
  }
 },
 "nbformat": 4,
 "nbformat_minor": 2
}
