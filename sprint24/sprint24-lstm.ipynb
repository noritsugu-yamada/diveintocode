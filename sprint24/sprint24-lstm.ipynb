{
 "cells": [
  {
   "cell_type": "code",
   "execution_count": 1,
   "metadata": {
    "colab": {
     "base_uri": "https://localhost:8080/",
     "height": 125
    },
    "colab_type": "code",
    "id": "guw8Re_K8W7u",
    "outputId": "afedfd9e-8e57-4381-f897-17b3e1f839e1"
   },
   "outputs": [
    {
     "name": "stdout",
     "output_type": "stream",
     "text": [
      "Go to this URL in a browser: https://accounts.google.com/o/oauth2/auth?client_id=947318989803-6bn6qk8qdgf4n4g3pfee6491hc0brc4i.apps.googleusercontent.com&redirect_uri=urn%3Aietf%3Awg%3Aoauth%3A2.0%3Aoob&scope=email%20https%3A%2F%2Fwww.googleapis.com%2Fauth%2Fdocs.test%20https%3A%2F%2Fwww.googleapis.com%2Fauth%2Fdrive%20https%3A%2F%2Fwww.googleapis.com%2Fauth%2Fdrive.photos.readonly%20https%3A%2F%2Fwww.googleapis.com%2Fauth%2Fpeopleapi.readonly&response_type=code\n",
      "\n",
      "Enter your authorization code:\n",
      "··········\n",
      "Mounted at /content/drive\n"
     ]
    }
   ],
   "source": [
    "from google.colab import drive\n",
    "drive.mount('/content/drive')"
   ]
  },
  {
   "cell_type": "markdown",
   "metadata": {
    "colab_type": "text",
    "id": "BoAxy3R8ABkJ"
   },
   "source": [
    "### 【問題1】各種手法の実行"
   ]
  },
  {
   "cell_type": "markdown",
   "metadata": {
    "colab_type": "text",
    "id": "NT_ep4EMAGiw"
   },
   "source": [
    "RNN\n",
    "\n",
    "SimpleRNN\n",
    "\n",
    "GRU\n",
    "\n",
    "LSTM\n",
    "\n",
    "ConvLSTM2D\n",
    "\n",
    "SimpleRNNCell\n",
    "\n",
    "GRUCell\n",
    "\n",
    "LSTMCell\n",
    "\n",
    "StackedRNNCells\n",
    "\n",
    "CuDNNGRU\n",
    "\n",
    "CuDNNLSTM"
   ]
  },
  {
   "cell_type": "code",
   "execution_count": 3,
   "metadata": {
    "colab": {
     "base_uri": "https://localhost:8080/",
     "height": 34
    },
    "colab_type": "code",
    "id": "ip2T7O8GAFa9",
    "outputId": "8f200fa5-9c56-4324-d432-c1a52a3d2a02"
   },
   "outputs": [
    {
     "name": "stderr",
     "output_type": "stream",
     "text": [
      "Using TensorFlow backend.\n"
     ]
    }
   ],
   "source": [
    "from __future__ import print_function\n",
    "\n",
    "from keras.preprocessing import sequence\n",
    "from keras.models import Sequential\n",
    "from keras.layers import Dense, Embedding\n",
    "from keras.layers import LSTM\n",
    "from keras.datasets import imdb\n",
    "from keras.callbacks import History "
   ]
  },
  {
   "cell_type": "code",
   "execution_count": 0,
   "metadata": {
    "colab": {},
    "colab_type": "code",
    "id": "RnMQK8v3ANWw"
   },
   "outputs": [],
   "source": [
    "max_features = 20000\n",
    "# cut texts after this number of words (among top max_features most common words)\n",
    "maxlen = 80\n",
    "batch_size = 32"
   ]
  },
  {
   "cell_type": "code",
   "execution_count": 4,
   "metadata": {
    "colab": {
     "base_uri": "https://localhost:8080/",
     "height": 105
    },
    "colab_type": "code",
    "id": "gcV_03bADDiB",
    "outputId": "43df0561-5626-49d4-b327-36291b4b6a7f"
   },
   "outputs": [
    {
     "name": "stdout",
     "output_type": "stream",
     "text": [
      "Loading data...\n",
      "Downloading data from https://s3.amazonaws.com/text-datasets/imdb.npz\n",
      "17465344/17464789 [==============================] - 7s 0us/step\n",
      "25000 train sequences\n",
      "25000 test sequences\n"
     ]
    }
   ],
   "source": [
    "print('Loading data...')\n",
    "(x_train, y_train), (x_test, y_test) = imdb.load_data(num_words=max_features)\n",
    "print(len(x_train), 'train sequences')\n",
    "print(len(x_test), 'test sequences')\n"
   ]
  },
  {
   "cell_type": "code",
   "execution_count": 5,
   "metadata": {
    "colab": {
     "base_uri": "https://localhost:8080/",
     "height": 70
    },
    "colab_type": "code",
    "id": "o4KuJB5sDFAp",
    "outputId": "b0662554-ec87-4677-f388-ce987eb3d313"
   },
   "outputs": [
    {
     "name": "stdout",
     "output_type": "stream",
     "text": [
      "Pad sequences (samples x time)\n",
      "x_train shape: (25000, 80)\n",
      "x_test shape: (25000, 80)\n"
     ]
    }
   ],
   "source": [
    "print('Pad sequences (samples x time)')\n",
    "x_train = sequence.pad_sequences(x_train, maxlen=maxlen)\n",
    "x_test = sequence.pad_sequences(x_test, maxlen=maxlen)\n",
    "print('x_train shape:', x_train.shape)\n",
    "print('x_test shape:', x_test.shape)"
   ]
  },
  {
   "cell_type": "code",
   "execution_count": 0,
   "metadata": {
    "colab": {},
    "colab_type": "code",
    "id": "wd87hJpyDU4E"
   },
   "outputs": [],
   "source": []
  },
  {
   "cell_type": "markdown",
   "metadata": {
    "colab_type": "text",
    "id": "E3SXUYYiDZZD"
   },
   "source": [
    "### LSTM"
   ]
  },
  {
   "cell_type": "code",
   "execution_count": 6,
   "metadata": {
    "colab": {
     "base_uri": "https://localhost:8080/",
     "height": 160
    },
    "colab_type": "code",
    "id": "YC9oIksEDcO4",
    "outputId": "4c09a7d4-4acc-44ad-d73b-9ee1ac18deaf"
   },
   "outputs": [
    {
     "name": "stdout",
     "output_type": "stream",
     "text": [
      "Build model...\n",
      "WARNING:tensorflow:From /usr/local/lib/python3.6/dist-packages/tensorflow/python/framework/op_def_library.py:263: colocate_with (from tensorflow.python.framework.ops) is deprecated and will be removed in a future version.\n",
      "Instructions for updating:\n",
      "Colocations handled automatically by placer.\n",
      "WARNING:tensorflow:From /usr/local/lib/python3.6/dist-packages/keras/backend/tensorflow_backend.py:3445: calling dropout (from tensorflow.python.ops.nn_ops) with keep_prob is deprecated and will be removed in a future version.\n",
      "Instructions for updating:\n",
      "Please use `rate` instead of `keep_prob`. Rate should be set to `rate = 1 - keep_prob`.\n"
     ]
    }
   ],
   "source": [
    "print('Build model...')\n",
    "model = Sequential()\n",
    "model.add(Embedding(max_features, 128))\n",
    "model.add(LSTM(128, dropout=0.2, recurrent_dropout=0.2))\n",
    "model.add(Dense(1, activation='sigmoid'))"
   ]
  },
  {
   "cell_type": "code",
   "execution_count": 0,
   "metadata": {
    "colab": {},
    "colab_type": "code",
    "id": "Bg56prCTDgxl"
   },
   "outputs": [],
   "source": [
    "# try using different optimizers and different optimizer configs\n",
    "model.compile(loss='binary_crossentropy',\n",
    "              optimizer='adam',\n",
    "              metrics=['accuracy'])"
   ]
  },
  {
   "cell_type": "code",
   "execution_count": 8,
   "metadata": {
    "colab": {
     "base_uri": "https://localhost:8080/",
     "height": 706
    },
    "colab_type": "code",
    "id": "u8IaqcthDmm-",
    "outputId": "d0561359-c347-4c2c-bf9d-143599516cb9"
   },
   "outputs": [
    {
     "name": "stdout",
     "output_type": "stream",
     "text": [
      "Train...\n",
      "WARNING:tensorflow:From /usr/local/lib/python3.6/dist-packages/tensorflow/python/ops/math_ops.py:3066: to_int32 (from tensorflow.python.ops.math_ops) is deprecated and will be removed in a future version.\n",
      "Instructions for updating:\n",
      "Use tf.cast instead.\n",
      "Train on 25000 samples, validate on 25000 samples\n",
      "Epoch 1/15\n",
      "25000/25000 [==============================] - 190s 8ms/step - loss: 0.4626 - acc: 0.7810 - val_loss: 0.3866 - val_acc: 0.8300\n",
      "Epoch 2/15\n",
      "25000/25000 [==============================] - 201s 8ms/step - loss: 0.3034 - acc: 0.8760 - val_loss: 0.3804 - val_acc: 0.8304\n",
      "Epoch 3/15\n",
      "25000/25000 [==============================] - 190s 8ms/step - loss: 0.2202 - acc: 0.9136 - val_loss: 0.4316 - val_acc: 0.8285\n",
      "Epoch 4/15\n",
      "25000/25000 [==============================] - 191s 8ms/step - loss: 0.1571 - acc: 0.9401 - val_loss: 0.4560 - val_acc: 0.8265\n",
      "Epoch 5/15\n",
      "25000/25000 [==============================] - 184s 7ms/step - loss: 0.1193 - acc: 0.9570 - val_loss: 0.6236 - val_acc: 0.8200\n",
      "Epoch 6/15\n",
      "25000/25000 [==============================] - 195s 8ms/step - loss: 0.0847 - acc: 0.9712 - val_loss: 0.6155 - val_acc: 0.8223\n",
      "Epoch 7/15\n",
      "25000/25000 [==============================] - 194s 8ms/step - loss: 0.0619 - acc: 0.9792 - val_loss: 0.6540 - val_acc: 0.8189\n",
      "Epoch 8/15\n",
      "25000/25000 [==============================] - 183s 7ms/step - loss: 0.0464 - acc: 0.9844 - val_loss: 0.8226 - val_acc: 0.8206\n",
      "Epoch 9/15\n",
      "25000/25000 [==============================] - 186s 7ms/step - loss: 0.0339 - acc: 0.9895 - val_loss: 0.8106 - val_acc: 0.8146\n",
      "Epoch 10/15\n",
      "25000/25000 [==============================] - 201s 8ms/step - loss: 0.0285 - acc: 0.9913 - val_loss: 0.9117 - val_acc: 0.8160\n",
      "Epoch 11/15\n",
      "25000/25000 [==============================] - 210s 8ms/step - loss: 0.0237 - acc: 0.9926 - val_loss: 0.8893 - val_acc: 0.8134\n",
      "Epoch 12/15\n",
      "25000/25000 [==============================] - 192s 8ms/step - loss: 0.0211 - acc: 0.9933 - val_loss: 0.9621 - val_acc: 0.8128\n",
      "Epoch 13/15\n",
      "25000/25000 [==============================] - 170s 7ms/step - loss: 0.0127 - acc: 0.9960 - val_loss: 1.0749 - val_acc: 0.8106\n",
      "Epoch 14/15\n",
      "25000/25000 [==============================] - 162s 6ms/step - loss: 0.0147 - acc: 0.9957 - val_loss: 0.9949 - val_acc: 0.8093\n",
      "Epoch 15/15\n",
      "25000/25000 [==============================] - 167s 7ms/step - loss: 0.0085 - acc: 0.9970 - val_loss: 1.2459 - val_acc: 0.8061\n",
      "25000/25000 [==============================] - 29s 1ms/step\n",
      "Test score: 1.245915677858144\n",
      "Test accuracy: 0.80608\n"
     ]
    }
   ],
   "source": [
    "print('Train...')\n",
    "model.fit(x_train, y_train,\n",
    "          batch_size=batch_size,\n",
    "          epochs=15,\n",
    "          validation_data=(x_test, y_test))\n",
    "score, acc = model.evaluate(x_test, y_test,\n",
    "                            batch_size=batch_size)\n",
    "print('Test score:', score)\n",
    "print('Test accuracy:', acc)"
   ]
  },
  {
   "cell_type": "code",
   "execution_count": 0,
   "metadata": {
    "colab": {},
    "colab_type": "code",
    "id": "Y6Fpl1oFDqcz"
   },
   "outputs": [],
   "source": []
  },
  {
   "cell_type": "markdown",
   "metadata": {
    "colab_type": "text",
    "id": "dbfFLILAQJ07"
   },
   "source": [
    "### SimpleRNN"
   ]
  },
  {
   "cell_type": "code",
   "execution_count": 0,
   "metadata": {
    "colab": {},
    "colab_type": "code",
    "id": "zuGl3-PTQQE4"
   },
   "outputs": [],
   "source": [
    "from keras.layers import SimpleRNN"
   ]
  },
  {
   "cell_type": "code",
   "execution_count": 10,
   "metadata": {
    "colab": {
     "base_uri": "https://localhost:8080/",
     "height": 34
    },
    "colab_type": "code",
    "id": "hWPmUUNBQQNM",
    "outputId": "edc43281-6d78-4911-f812-0311e6bab588"
   },
   "outputs": [
    {
     "name": "stdout",
     "output_type": "stream",
     "text": [
      "Build model...\n"
     ]
    }
   ],
   "source": [
    "print('Build model...')\n",
    "model = Sequential()\n",
    "model.add(Embedding(max_features, 128))\n",
    "model.add(SimpleRNN(128, dropout=0.2, recurrent_dropout=0.2))\n",
    "model.add(Dense(1, activation='sigmoid'))"
   ]
  },
  {
   "cell_type": "code",
   "execution_count": 0,
   "metadata": {
    "colab": {},
    "colab_type": "code",
    "id": "Hu3PIrIPQQL1"
   },
   "outputs": [],
   "source": [
    "# try using different optimizers and different optimizer configs\n",
    "model.compile(loss='binary_crossentropy',\n",
    "              optimizer='adam',\n",
    "              metrics=['accuracy'])"
   ]
  },
  {
   "cell_type": "code",
   "execution_count": 13,
   "metadata": {
    "colab": {
     "base_uri": "https://localhost:8080/",
     "height": 457
    },
    "colab_type": "code",
    "id": "LeTsLWISQxyc",
    "outputId": "69ad4c2f-0b32-4b96-9bca-703cd5d4b34b"
   },
   "outputs": [
    {
     "name": "stdout",
     "output_type": "stream",
     "text": [
      "Train...\n",
      "Train on 25000 samples, validate on 25000 samples\n",
      "Epoch 1/10\n",
      "25000/25000 [==============================] - 60s 2ms/step - loss: 0.3874 - acc: 0.8253 - val_loss: 0.6811 - val_acc: 0.6970\n",
      "Epoch 2/10\n",
      "25000/25000 [==============================] - 58s 2ms/step - loss: 0.3385 - acc: 0.8553 - val_loss: 0.6506 - val_acc: 0.7165\n",
      "Epoch 3/10\n",
      "25000/25000 [==============================] - 55s 2ms/step - loss: 0.3072 - acc: 0.8714 - val_loss: 0.7241 - val_acc: 0.7105\n",
      "Epoch 4/10\n",
      "25000/25000 [==============================] - 55s 2ms/step - loss: 0.3130 - acc: 0.8641 - val_loss: 0.6625 - val_acc: 0.7043\n",
      "Epoch 5/10\n",
      "25000/25000 [==============================] - 56s 2ms/step - loss: 0.3007 - acc: 0.8774 - val_loss: 0.7293 - val_acc: 0.6854\n",
      "Epoch 6/10\n",
      "25000/25000 [==============================] - 58s 2ms/step - loss: 0.2678 - acc: 0.8916 - val_loss: 0.7512 - val_acc: 0.7198\n",
      "Epoch 7/10\n",
      "25000/25000 [==============================] - 57s 2ms/step - loss: 0.2939 - acc: 0.8734 - val_loss: 0.7738 - val_acc: 0.6961\n",
      "Epoch 8/10\n",
      "25000/25000 [==============================] - 59s 2ms/step - loss: 0.2827 - acc: 0.8822 - val_loss: 0.7595 - val_acc: 0.6040\n",
      "Epoch 9/10\n",
      "25000/25000 [==============================] - 59s 2ms/step - loss: 0.4322 - acc: 0.7892 - val_loss: 0.7610 - val_acc: 0.6222\n",
      "Epoch 10/10\n",
      "25000/25000 [==============================] - 56s 2ms/step - loss: 0.3882 - acc: 0.8184 - val_loss: 0.7674 - val_acc: 0.6339\n",
      "25000/25000 [==============================] - 8s 314us/step\n",
      "Test score: 0.7674225765609741\n",
      "Test accuracy: 0.63392\n"
     ]
    }
   ],
   "source": [
    "print('Train...')\n",
    "model.fit(x_train, y_train,\n",
    "          batch_size=batch_size,\n",
    "          epochs=15,\n",
    "          validation_data=(x_test, y_test))\n",
    "score, acc = model.evaluate(x_test, y_test,\n",
    "                            batch_size=batch_size)\n",
    "print('Test score:', score)\n",
    "print('Test accuracy:', acc)"
   ]
  },
  {
   "cell_type": "markdown",
   "metadata": {
    "colab_type": "text",
    "id": "sMbsv4YEax55"
   },
   "source": [
    "### GRU"
   ]
  },
  {
   "cell_type": "code",
   "execution_count": 0,
   "metadata": {
    "colab": {},
    "colab_type": "code",
    "id": "GReJymfxa8Ii"
   },
   "outputs": [],
   "source": [
    "from keras.layers import GRU"
   ]
  },
  {
   "cell_type": "code",
   "execution_count": 30,
   "metadata": {
    "colab": {
     "base_uri": "https://localhost:8080/",
     "height": 34
    },
    "colab_type": "code",
    "id": "JUQ2ZYZ9blwn",
    "outputId": "4f30e48e-e782-410f-a4ac-43f2a54aed1f"
   },
   "outputs": [
    {
     "name": "stdout",
     "output_type": "stream",
     "text": [
      "Build model...\n"
     ]
    }
   ],
   "source": [
    "print('Build model...')\n",
    "model = Sequential()\n",
    "model.add(Embedding(max_features, 128))\n",
    "model.add(GRU(128, dropout=0.2, recurrent_dropout=0.2))\n",
    "model.add(Dense(1, activation='sigmoid'))"
   ]
  },
  {
   "cell_type": "code",
   "execution_count": 0,
   "metadata": {
    "colab": {},
    "colab_type": "code",
    "id": "E0cXVlesbran"
   },
   "outputs": [],
   "source": [
    "# try using different optimizers and different optimizer configs\n",
    "model.compile(loss='binary_crossentropy',\n",
    "              optimizer='adam',\n",
    "              metrics=['accuracy'])"
   ]
  },
  {
   "cell_type": "code",
   "execution_count": 32,
   "metadata": {
    "colab": {
     "base_uri": "https://localhost:8080/",
     "height": 633
    },
    "colab_type": "code",
    "id": "Za4kSi2ma8RB",
    "outputId": "04bd7275-5f2f-4e01-a2d4-f68203e645c7"
   },
   "outputs": [
    {
     "name": "stdout",
     "output_type": "stream",
     "text": [
      "Train...\n",
      "Train on 25000 samples, validate on 25000 samples\n",
      "Epoch 1/15\n",
      "25000/25000 [==============================] - 152s 6ms/step - loss: 0.4763 - acc: 0.7689 - val_loss: 0.3732 - val_acc: 0.8366\n",
      "Epoch 2/15\n",
      "25000/25000 [==============================] - 157s 6ms/step - loss: 0.2862 - acc: 0.8851 - val_loss: 0.3519 - val_acc: 0.8475\n",
      "Epoch 3/15\n",
      "25000/25000 [==============================] - 144s 6ms/step - loss: 0.1719 - acc: 0.9348 - val_loss: 0.4112 - val_acc: 0.8357\n",
      "Epoch 4/15\n",
      "25000/25000 [==============================] - 149s 6ms/step - loss: 0.1025 - acc: 0.9638 - val_loss: 0.4957 - val_acc: 0.8289\n",
      "Epoch 5/15\n",
      "25000/25000 [==============================] - 151s 6ms/step - loss: 0.0619 - acc: 0.9790 - val_loss: 0.5913 - val_acc: 0.8222\n",
      "Epoch 6/15\n",
      "25000/25000 [==============================] - 149s 6ms/step - loss: 0.0360 - acc: 0.9882 - val_loss: 0.9142 - val_acc: 0.8163\n",
      "Epoch 7/15\n",
      "25000/25000 [==============================] - 150s 6ms/step - loss: 0.0266 - acc: 0.9904 - val_loss: 0.8291 - val_acc: 0.8081\n",
      "Epoch 8/15\n",
      "25000/25000 [==============================] - 146s 6ms/step - loss: 0.0211 - acc: 0.9929 - val_loss: 1.0251 - val_acc: 0.8072\n",
      "Epoch 9/15\n",
      "25000/25000 [==============================] - 154s 6ms/step - loss: 0.0146 - acc: 0.9955 - val_loss: 1.0891 - val_acc: 0.8005\n",
      "Epoch 10/15\n",
      "25000/25000 [==============================] - 148s 6ms/step - loss: 0.0130 - acc: 0.9960 - val_loss: 1.0523 - val_acc: 0.8072\n",
      "Epoch 11/15\n",
      "25000/25000 [==============================] - 145s 6ms/step - loss: 0.0106 - acc: 0.9967 - val_loss: 1.0930 - val_acc: 0.8042\n",
      "Epoch 12/15\n",
      "25000/25000 [==============================] - 151s 6ms/step - loss: 0.0107 - acc: 0.9961 - val_loss: 1.2657 - val_acc: 0.8055\n",
      "Epoch 13/15\n",
      "25000/25000 [==============================] - 142s 6ms/step - loss: 0.0075 - acc: 0.9978 - val_loss: 1.2748 - val_acc: 0.8056\n",
      "Epoch 14/15\n",
      "25000/25000 [==============================] - 154s 6ms/step - loss: 0.0065 - acc: 0.9977 - val_loss: 1.3582 - val_acc: 0.8038\n",
      "Epoch 15/15\n",
      "25000/25000 [==============================] - 154s 6ms/step - loss: 0.0059 - acc: 0.9979 - val_loss: 1.4139 - val_acc: 0.8043\n",
      "25000/25000 [==============================] - 23s 926us/step\n",
      "Test score: 1.4138787130880355\n",
      "Test accuracy: 0.80432\n"
     ]
    }
   ],
   "source": [
    "print('Train...')\n",
    "model.fit(x_train, y_train,\n",
    "          batch_size=batch_size,\n",
    "          epochs=15,\n",
    "          validation_data=(x_test, y_test))\n",
    "score, acc = model.evaluate(x_test, y_test,\n",
    "                            batch_size=batch_size)\n",
    "print('Test score:', score)\n",
    "print('Test accuracy:', acc)"
   ]
  },
  {
   "cell_type": "markdown",
   "metadata": {
    "colab_type": "text",
    "id": "I583x68dig2X"
   },
   "source": [
    "### CuDNNLSTM"
   ]
  },
  {
   "cell_type": "code",
   "execution_count": 0,
   "metadata": {
    "colab": {},
    "colab_type": "code",
    "id": "EMxNi_vRijwR"
   },
   "outputs": [],
   "source": [
    "from keras.layers import CuDNNLSTM"
   ]
  },
  {
   "cell_type": "code",
   "execution_count": 50,
   "metadata": {
    "colab": {
     "base_uri": "https://localhost:8080/",
     "height": 34
    },
    "colab_type": "code",
    "id": "6Q6-X_68ijtN",
    "outputId": "b03ec628-7b7e-4b48-f3e5-36ff69959b32"
   },
   "outputs": [
    {
     "name": "stdout",
     "output_type": "stream",
     "text": [
      "Build model...\n"
     ]
    }
   ],
   "source": [
    "print('Build model...')\n",
    "model = Sequential()\n",
    "model.add(Embedding(max_features, 128))\n",
    "model.add(CuDNNLSTM(128))\n",
    "model.add(Dense(1, activation='sigmoid'))"
   ]
  },
  {
   "cell_type": "code",
   "execution_count": 0,
   "metadata": {
    "colab": {},
    "colab_type": "code",
    "id": "XpAQkxPajCLM"
   },
   "outputs": [],
   "source": [
    "# try using different optimizers and different optimizer configs\n",
    "model.compile(loss='binary_crossentropy',\n",
    "              optimizer='adam',\n",
    "              metrics=['accuracy'])"
   ]
  },
  {
   "cell_type": "code",
   "execution_count": 78,
   "metadata": {
    "colab": {
     "base_uri": "https://localhost:8080/",
     "height": 633
    },
    "colab_type": "code",
    "id": "q9vnswBOjFW6",
    "outputId": "70e25cab-cb9d-4c59-e5d5-204659f94069"
   },
   "outputs": [
    {
     "name": "stdout",
     "output_type": "stream",
     "text": [
      "Train...\n",
      "Train on 25000 samples, validate on 25000 samples\n",
      "Epoch 1/15\n",
      "25000/25000 [==============================] - 39s 2ms/step - loss: 0.0101 - acc: 0.9966 - val_loss: 1.6067 - val_acc: 0.7914\n",
      "Epoch 2/15\n",
      "25000/25000 [==============================] - 35s 1ms/step - loss: 0.0301 - acc: 0.9894 - val_loss: 1.4687 - val_acc: 0.7846\n",
      "Epoch 3/15\n",
      "25000/25000 [==============================] - 33s 1ms/step - loss: 0.0411 - acc: 0.9848 - val_loss: 1.5024 - val_acc: 0.7899\n",
      "Epoch 4/15\n",
      "25000/25000 [==============================] - 32s 1ms/step - loss: 0.0345 - acc: 0.9867 - val_loss: 1.4091 - val_acc: 0.7893\n",
      "Epoch 5/15\n",
      "25000/25000 [==============================] - 33s 1ms/step - loss: 0.0043 - acc: 0.9989 - val_loss: 1.6224 - val_acc: 0.7883\n",
      "Epoch 6/15\n",
      "25000/25000 [==============================] - 36s 1ms/step - loss: 0.0050 - acc: 0.9981 - val_loss: 1.5081 - val_acc: 0.7848\n",
      "Epoch 7/15\n",
      "25000/25000 [==============================] - 35s 1ms/step - loss: 0.0257 - acc: 0.9903 - val_loss: 1.9975 - val_acc: 0.7880\n",
      "Epoch 8/15\n",
      "25000/25000 [==============================] - 36s 1ms/step - loss: 0.0215 - acc: 0.9928 - val_loss: 1.4941 - val_acc: 0.7836\n",
      "Epoch 9/15\n",
      "25000/25000 [==============================] - 37s 1ms/step - loss: 0.0094 - acc: 0.9971 - val_loss: 1.3660 - val_acc: 0.7441\n",
      "Epoch 10/15\n",
      "25000/25000 [==============================] - 38s 2ms/step - loss: 0.0415 - acc: 0.9840 - val_loss: 1.1434 - val_acc: 0.7748\n",
      "Epoch 11/15\n",
      "25000/25000 [==============================] - 34s 1ms/step - loss: 0.0244 - acc: 0.9908 - val_loss: 1.5025 - val_acc: 0.7877\n",
      "Epoch 12/15\n",
      "25000/25000 [==============================] - 38s 2ms/step - loss: 0.0024 - acc: 0.9993 - val_loss: 1.5853 - val_acc: 0.7840\n",
      "Epoch 13/15\n",
      "25000/25000 [==============================] - 39s 2ms/step - loss: 3.3463e-04 - acc: 1.0000 - val_loss: 1.7789 - val_acc: 0.7843\n",
      "Epoch 14/15\n",
      "25000/25000 [==============================] - 37s 1ms/step - loss: 3.9104e-05 - acc: 1.0000 - val_loss: 1.8817 - val_acc: 0.7853\n",
      "Epoch 15/15\n",
      "25000/25000 [==============================] - 34s 1ms/step - loss: 2.4072e-05 - acc: 1.0000 - val_loss: 1.9573 - val_acc: 0.7858\n",
      "25000/25000 [==============================] - 6s 226us/step\n",
      "Test score: 1.9573139590242505\n",
      "Test accuracy: 0.7858\n"
     ]
    }
   ],
   "source": [
    "print('Train...')\n",
    "history = model.fit(x_train, y_train,\n",
    "          batch_size=batch_size,\n",
    "          epochs=15,\n",
    "          validation_data=(x_test, y_test))\n",
    "score, acc = model.evaluate(x_test, y_test,\n",
    "                            batch_size=batch_size)\n",
    "print('Test score:', score)\n",
    "print('Test accuracy:', acc)"
   ]
  },
  {
   "cell_type": "code",
   "execution_count": 80,
   "metadata": {
    "colab": {
     "base_uri": "https://localhost:8080/",
     "height": 376
    },
    "colab_type": "code",
    "id": "ruAia3zMJb7H",
    "outputId": "7fc5f20d-830a-400f-e4ec-25c26640b15c"
   },
   "outputs": [
    {
     "data": {
      "image/png": "[encoded data removed]",
      "text/plain": [
       "<Figure size 576x396 with 1 Axes>"
      ]
     },
     "metadata": {
      "tags": []
     },
     "output_type": "display_data"
    }
   ],
   "source": [
    "plt.plot(history.history['acc'],\"o-\",label=\"accuracy\")\n",
    "plt.plot(history.history['val_acc'],\"o-\",label=\"val_acc\")\n",
    "plt.title('model accuracy')\n",
    "plt.xlabel('epoch')\n",
    "plt.ylabel('accuracy')\n",
    "plt.legend(loc=\"lower right\")\n",
    "plt.show()"
   ]
  },
  {
   "cell_type": "code",
   "execution_count": 81,
   "metadata": {
    "colab": {
     "base_uri": "https://localhost:8080/",
     "height": 376
    },
    "colab_type": "code",
    "id": "53qQpZmdLdKo",
    "outputId": "74952435-b35f-450a-dcc6-1660f84258dd"
   },
   "outputs": [
    {
     "data": {
      "image/png": "[encoded data removed]",
      "text/plain": [
       "<Figure size 576x396 with 1 Axes>"
      ]
     },
     "metadata": {
      "tags": []
     },
     "output_type": "display_data"
    }
   ],
   "source": [
    "plt.plot(history.history['loss'],\"o-\",label=\"loss\",)\n",
    "plt.plot(history.history['val_loss'],\"o-\",label=\"val_loss\")\n",
    "plt.title('model loss')\n",
    "plt.xlabel('epoch')\n",
    "plt.ylabel('loss')\n",
    "plt.legend(loc='lower right')\n",
    "plt.show()"
   ]
  },
  {
   "cell_type": "markdown",
   "metadata": {
    "colab_type": "text",
    "id": "OpZ6P_Sbzuaf"
   },
   "source": [
    "### CuDNNGRU"
   ]
  },
  {
   "cell_type": "code",
   "execution_count": 0,
   "metadata": {
    "colab": {},
    "colab_type": "code",
    "id": "0ik3t2h8zsdG"
   },
   "outputs": [],
   "source": [
    "from keras.layers import CuDNNGRU"
   ]
  },
  {
   "cell_type": "code",
   "execution_count": 0,
   "metadata": {
    "colab": {},
    "colab_type": "code",
    "id": "QvAATwqR0YDM"
   },
   "outputs": [],
   "source": [
    "model = Sequential()\n",
    "model.add(Embedding(max_features, 128))\n",
    "model.add(CuDNNGRU(128))\n",
    "model.add(Dense(1,activation='sigmoid'))"
   ]
  },
  {
   "cell_type": "code",
   "execution_count": 0,
   "metadata": {
    "colab": {},
    "colab_type": "code",
    "id": "cIovL6xt0YRV"
   },
   "outputs": [],
   "source": [
    "model.compile(loss='binary_crossentropy',\n",
    "              optimizer='adam',\n",
    "              metrics=['accuracy'])\n"
   ]
  },
  {
   "cell_type": "code",
   "execution_count": 57,
   "metadata": {
    "colab": {
     "base_uri": "https://localhost:8080/",
     "height": 633
    },
    "colab_type": "code",
    "id": "q-IBs0tL0YfO",
    "outputId": "e74d2093-5602-45a7-adac-cee5a54897a5"
   },
   "outputs": [
    {
     "name": "stdout",
     "output_type": "stream",
     "text": [
      "Train...\n",
      "Train on 25000 samples, validate on 25000 samples\n",
      "Epoch 1/15\n",
      "25000/25000 [==============================] - 23s 912us/step - loss: 0.4300 - acc: 0.7946 - val_loss: 0.3496 - val_acc: 0.8464\n",
      "Epoch 2/15\n",
      "25000/25000 [==============================] - 26s 1ms/step - loss: 0.2345 - acc: 0.9057 - val_loss: 0.4437 - val_acc: 0.8350\n",
      "Epoch 3/15\n",
      "25000/25000 [==============================] - 26s 1ms/step - loss: 0.1237 - acc: 0.9539 - val_loss: 0.4806 - val_acc: 0.8300\n",
      "Epoch 4/15\n",
      "25000/25000 [==============================] - 27s 1ms/step - loss: 0.0635 - acc: 0.9789 - val_loss: 0.5851 - val_acc: 0.8257\n",
      "Epoch 5/15\n",
      "25000/25000 [==============================] - 23s 915us/step - loss: 0.0346 - acc: 0.9882 - val_loss: 0.7809 - val_acc: 0.8228\n",
      "Epoch 6/15\n",
      "25000/25000 [==============================] - 19s 771us/step - loss: 0.0254 - acc: 0.9915 - val_loss: 0.8770 - val_acc: 0.8144\n",
      "Epoch 7/15\n",
      "25000/25000 [==============================] - 18s 719us/step - loss: 0.0170 - acc: 0.9948 - val_loss: 0.9450 - val_acc: 0.8134\n",
      "Epoch 8/15\n",
      "25000/25000 [==============================] - 18s 725us/step - loss: 0.0110 - acc: 0.9964 - val_loss: 1.0568 - val_acc: 0.8136\n",
      "Epoch 9/15\n",
      "25000/25000 [==============================] - 19s 761us/step - loss: 0.0080 - acc: 0.9974 - val_loss: 1.1351 - val_acc: 0.8162\n",
      "Epoch 10/15\n",
      "25000/25000 [==============================] - 18s 737us/step - loss: 0.0105 - acc: 0.9970 - val_loss: 1.1267 - val_acc: 0.8140\n",
      "Epoch 11/15\n",
      "25000/25000 [==============================] - 20s 800us/step - loss: 0.0060 - acc: 0.9982 - val_loss: 1.1663 - val_acc: 0.8198\n",
      "Epoch 12/15\n",
      "25000/25000 [==============================] - 23s 923us/step - loss: 0.0062 - acc: 0.9984 - val_loss: 1.1092 - val_acc: 0.8140\n",
      "Epoch 13/15\n",
      "25000/25000 [==============================] - 23s 918us/step - loss: 0.0074 - acc: 0.9976 - val_loss: 1.1233 - val_acc: 0.8161\n",
      "Epoch 14/15\n",
      "25000/25000 [==============================] - 25s 1000us/step - loss: 0.0031 - acc: 0.9990 - val_loss: 1.2769 - val_acc: 0.8126\n",
      "Epoch 15/15\n",
      "25000/25000 [==============================] - 22s 899us/step - loss: 6.9876e-04 - acc: 0.9998 - val_loss: 1.3168 - val_acc: 0.8127\n",
      "25000/25000 [==============================] - 6s 243us/step\n",
      "Test score: 1.3168419293856621\n",
      "Test accuracy: 0.81272\n"
     ]
    }
   ],
   "source": [
    "print('Train...')\n",
    "model.fit(x_train, y_train,\n",
    "          batch_size=batch_size,\n",
    "          epochs=15,\n",
    "          validation_data=(x_test, y_test))\n",
    "score, acc = model.evaluate(x_test, y_test,\n",
    "                            batch_size=batch_size)\n",
    "print('Test score:', score)\n",
    "print('Test accuracy:', acc)"
   ]
  },
  {
   "cell_type": "markdown",
   "metadata": {
    "colab_type": "text",
    "id": "gXhlQsjILmHd"
   },
   "source": [
    "### RNN"
   ]
  },
  {
   "cell_type": "code",
   "execution_count": 0,
   "metadata": {
    "colab": {},
    "colab_type": "code",
    "id": "zOnqfMzDMPxZ"
   },
   "outputs": [],
   "source": [
    "from keras.layers import RNN\n",
    "from keras import backend as K\n",
    "import keras.layers"
   ]
  },
  {
   "cell_type": "code",
   "execution_count": 0,
   "metadata": {
    "colab": {},
    "colab_type": "code",
    "id": "MV_yBPCaZS8F"
   },
   "outputs": [],
   "source": [
    "# First, let's define a RNN Cell, as a layer subclass.\n",
    "\n",
    "class MinimalRNNCell(Layer):\n",
    "\n",
    "    def __init__(self, units, **kwargs):\n",
    "        self.units = units\n",
    "        self.state_size = units\n",
    "        super(MinimalRNNCell, self).__init__(**kwargs)\n",
    "\n",
    "    def build(self, input_shape):\n",
    "        self.kernel = self.add_weight(shape=(input_shape[-1], self.units),\n",
    "                                      initializer='uniform',\n",
    "                                      name='kernel')\n",
    "        self.recurrent_kernel = self.add_weight(\n",
    "            shape=(self.units, self.units),\n",
    "            initializer='uniform',\n",
    "            name='recurrent_kernel')\n",
    "        self.built = True\n",
    "\n",
    "    def call(self, inputs, states):\n",
    "        prev_output = states[0]\n",
    "        h = K.dot(inputs, self.kernel)\n",
    "        output = h + K.dot(prev_output, self.recurrent_kernel)\n",
    "        return output, [output]"
   ]
  },
  {
   "cell_type": "code",
   "execution_count": 60,
   "metadata": {
    "colab": {
     "base_uri": "https://localhost:8080/",
     "height": 34
    },
    "colab_type": "code",
    "id": "lZaF3s6clngH",
    "outputId": "4f75d5e4-6e6d-4fbc-ae68-6ce9d2d99b13"
   },
   "outputs": [
    {
     "name": "stdout",
     "output_type": "stream",
     "text": [
      "Build model...\n"
     ]
    }
   ],
   "source": [
    "print('Build model...')\n",
    "cells = MinimalRNNCell(32)\n",
    "model = Sequential()\n",
    "model.add(Embedding(max_features, 128))\n",
    "model.add(RNN(cells))\n",
    "model.add(Dense(1, activation='sigmoid'))"
   ]
  },
  {
   "cell_type": "code",
   "execution_count": 0,
   "metadata": {
    "colab": {},
    "colab_type": "code",
    "id": "vLur54S9YZhc"
   },
   "outputs": [],
   "source": [
    "# try using different optimizers and different optimizer configs\n",
    "model.compile(loss='binary_crossentropy',\n",
    "              optimizer='adam',\n",
    "              metrics=['accuracy'])"
   ]
  },
  {
   "cell_type": "code",
   "execution_count": 62,
   "metadata": {
    "colab": {
     "base_uri": "https://localhost:8080/",
     "height": 633
    },
    "colab_type": "code",
    "id": "75lo5HlcyRCA",
    "outputId": "90ef98f6-5d6e-4d36-c307-64a10ffff8d0"
   },
   "outputs": [
    {
     "name": "stdout",
     "output_type": "stream",
     "text": [
      "Train...\n",
      "Train on 25000 samples, validate on 25000 samples\n",
      "Epoch 1/15\n",
      "25000/25000 [==============================] - 36s 1ms/step - loss: 0.4594 - acc: 0.7750 - val_loss: 0.4053 - val_acc: 0.8204\n",
      "Epoch 2/15\n",
      "25000/25000 [==============================] - 35s 1ms/step - loss: 0.2712 - acc: 0.8912 - val_loss: 0.3872 - val_acc: 0.8302\n",
      "Epoch 3/15\n",
      "25000/25000 [==============================] - 36s 1ms/step - loss: 0.1811 - acc: 0.9326 - val_loss: 0.4771 - val_acc: 0.8161\n",
      "Epoch 4/15\n",
      "25000/25000 [==============================] - 35s 1ms/step - loss: 0.1562 - acc: 0.9416 - val_loss: 0.7414 - val_acc: 0.8144\n",
      "Epoch 5/15\n",
      "25000/25000 [==============================] - 36s 1ms/step - loss: 0.1041 - acc: 0.9614 - val_loss: 0.7522 - val_acc: 0.8034\n",
      "Epoch 6/15\n",
      "25000/25000 [==============================] - 39s 2ms/step - loss: 0.0716 - acc: 0.9738 - val_loss: 0.9548 - val_acc: 0.7976\n",
      "Epoch 7/15\n",
      "25000/25000 [==============================] - 38s 2ms/step - loss: 0.0826 - acc: 0.9674 - val_loss: 0.7842 - val_acc: 0.7498\n",
      "Epoch 8/15\n",
      "25000/25000 [==============================] - 40s 2ms/step - loss: 0.0493 - acc: 0.9829 - val_loss: 0.9825 - val_acc: 0.7940\n",
      "Epoch 9/15\n",
      "25000/25000 [==============================] - 43s 2ms/step - loss: 0.0323 - acc: 0.9883 - val_loss: 1.1467 - val_acc: 0.7910\n",
      "Epoch 10/15\n",
      "25000/25000 [==============================] - 41s 2ms/step - loss: 0.0335 - acc: 0.9881 - val_loss: 1.2068 - val_acc: 0.7896\n",
      "Epoch 11/15\n",
      "25000/25000 [==============================] - 36s 1ms/step - loss: 0.0326 - acc: 0.9880 - val_loss: 1.0101 - val_acc: 0.7356\n",
      "Epoch 12/15\n",
      "25000/25000 [==============================] - 36s 1ms/step - loss: 0.0344 - acc: 0.9882 - val_loss: 1.4113 - val_acc: 0.7898\n",
      "Epoch 13/15\n",
      "25000/25000 [==============================] - 36s 1ms/step - loss: 0.0252 - acc: 0.9912 - val_loss: 2.2422 - val_acc: 0.7829\n",
      "Epoch 14/15\n",
      "25000/25000 [==============================] - 37s 1ms/step - loss: 0.0281 - acc: 0.9897 - val_loss: 1.2986 - val_acc: 0.7830\n",
      "Epoch 15/15\n",
      "25000/25000 [==============================] - 36s 1ms/step - loss: 0.0313 - acc: 0.9892 - val_loss: 1.5240 - val_acc: 0.7863\n",
      "25000/25000 [==============================] - 6s 231us/step\n",
      "Test score: 1.5239792558002472\n",
      "Test accuracy: 0.78628\n"
     ]
    }
   ],
   "source": [
    "print('Train...')\n",
    "model.fit(x_train, y_train,\n",
    "          batch_size=batch_size,\n",
    "          epochs=15,\n",
    "          validation_data=(x_test, y_test))\n",
    "score, acc = model.evaluate(x_test, y_test,\n",
    "                            batch_size=batch_size)\n",
    "print('Test score:', score)\n",
    "print('Test accuracy:', acc)"
   ]
  },
  {
   "cell_type": "code",
   "execution_count": 0,
   "metadata": {
    "colab": {},
    "colab_type": "code",
    "id": "c2dlBSA_mToH"
   },
   "outputs": [],
   "source": []
  },
  {
   "cell_type": "markdown",
   "metadata": {
    "colab_type": "text",
    "id": "rNCeRmFN6UUi"
   },
   "source": [
    "### ConvLSTM2D"
   ]
  },
  {
   "cell_type": "code",
   "execution_count": 0,
   "metadata": {
    "colab": {},
    "colab_type": "code",
    "id": "voElXtVQ6WeU"
   },
   "outputs": [],
   "source": [
    "from keras.layers.convolutional import Conv3D\n",
    "from keras.layers.convolutional_recurrent import ConvLSTM2D\n",
    "from keras.layers.normalization import BatchNormalization\n",
    "import numpy as np\n",
    "import pylab as plt\n"
   ]
  },
  {
   "cell_type": "code",
   "execution_count": 0,
   "metadata": {
    "colab": {},
    "colab_type": "code",
    "id": "IKX4xx9l_6To"
   },
   "outputs": [],
   "source": [
    "seq = Sequential()\n",
    "seq.add(ConvLSTM2D(filters=40, kernel_size=(3, 3),\n",
    "                   input_shape=(None, 40, 40, 1),\n",
    "                   padding='same', return_sequences=True))\n",
    "seq.add(BatchNormalization())\n",
    "\n",
    "seq.add(ConvLSTM2D(filters=40, kernel_size=(3, 3),\n",
    "                   padding='same', return_sequences=True))\n",
    "seq.add(BatchNormalization())\n",
    "\n",
    "seq.add(ConvLSTM2D(filters=40, kernel_size=(3, 3),\n",
    "                   padding='same', return_sequences=True))\n",
    "seq.add(BatchNormalization())\n",
    "\n",
    "seq.add(ConvLSTM2D(filters=40, kernel_size=(3, 3),\n",
    "                   padding='same', return_sequences=True))\n",
    "seq.add(BatchNormalization())\n",
    "\n",
    "seq.add(Conv3D(filters=1, kernel_size=(3, 3, 3),\n",
    "               activation='sigmoid',\n",
    "               padding='same', data_format='channels_last'))\n",
    "seq.compile(loss='binary_crossentropy', optimizer='adadelta')"
   ]
  },
  {
   "cell_type": "code",
   "execution_count": 0,
   "metadata": {
    "colab": {},
    "colab_type": "code",
    "id": "9P_AWtr1AKVD"
   },
   "outputs": [],
   "source": [
    "def generate_movies(n_samples=1200, n_frames=15):\n",
    "    row = 80\n",
    "    col = 80\n",
    "    noisy_movies = np.zeros((n_samples, n_frames, row, col, 1), dtype=np.float)\n",
    "    shifted_movies = np.zeros((n_samples, n_frames, row, col, 1),\n",
    "                              dtype=np.float)\n",
    "\n",
    "    for i in range(n_samples):\n",
    "        # Add 3 to 7 moving squares\n",
    "        n = np.random.randint(3, 8)\n",
    "\n",
    "        for j in range(n):\n",
    "            # Initial position\n",
    "            xstart = np.random.randint(20, 60)\n",
    "            ystart = np.random.randint(20, 60)\n",
    "            # Direction of motion\n",
    "            directionx = np.random.randint(0, 3) - 1\n",
    "            directiony = np.random.randint(0, 3) - 1\n",
    "\n",
    "            # Size of the square\n",
    "            w = np.random.randint(2, 4)\n",
    "\n",
    "            for t in range(n_frames):\n",
    "                x_shift = xstart + directionx * t\n",
    "                y_shift = ystart + directiony * t\n",
    "                noisy_movies[i, t, x_shift - w: x_shift + w,\n",
    "                             y_shift - w: y_shift + w, 0] += 1\n",
    "\n",
    "                # Make it more robust by adding noise.\n",
    "                # The idea is that if during inference,\n",
    "                # the value of the pixel is not exactly one,\n",
    "                # we need to train the network to be robust and still\n",
    "                # consider it as a pixel belonging to a square.\n",
    "                if np.random.randint(0, 2):\n",
    "                    noise_f = (-1)**np.random.randint(0, 2)\n",
    "                    noisy_movies[i, t,\n",
    "                                 x_shift - w - 1: x_shift + w + 1,\n",
    "                                 y_shift - w - 1: y_shift + w + 1,\n",
    "                                 0] += noise_f * 0.1\n",
    "\n",
    "                # Shift the ground truth by 1\n",
    "                x_shift = xstart + directionx * (t + 1)\n",
    "                y_shift = ystart + directiony * (t + 1)\n",
    "                shifted_movies[i, t, x_shift - w: x_shift + w,\n",
    "                               y_shift - w: y_shift + w, 0] += 1\n",
    "\n",
    "    # Cut to a 40x40 window\n",
    "    noisy_movies = noisy_movies[::, ::, 20:60, 20:60, ::]\n",
    "    shifted_movies = shifted_movies[::, ::, 20:60, 20:60, ::]\n",
    "    noisy_movies[noisy_movies >= 1] = 1\n",
    "    shifted_movies[shifted_movies >= 1] = 1\n",
    "    return noisy_movies, shifted_movies\n"
   ]
  },
  {
   "cell_type": "code",
   "execution_count": 67,
   "metadata": {
    "colab": {
     "base_uri": "https://localhost:8080/",
     "height": 4482
    },
    "colab_type": "code",
    "id": "uSBH9Hu1BWzQ",
    "outputId": "6831f74a-9cec-4fe7-b6ab-62cdf91a5523"
   },
   "outputs": [
    {
     "name": "stdout",
     "output_type": "stream",
     "text": [
      "Train on 950 samples, validate on 50 samples\n",
      "Epoch 1/5\n",
      "950/950 [==============================] - 116s 122ms/step - loss: 0.0303 - val_loss: 0.0184\n",
      "Epoch 2/5\n",
      "950/950 [==============================] - 115s 121ms/step - loss: 0.0039 - val_loss: 0.0032\n",
      "Epoch 3/5\n",
      "950/950 [==============================] - 115s 121ms/step - loss: 0.0013 - val_loss: 0.0012\n",
      "Epoch 4/5\n",
      "950/950 [==============================] - 116s 122ms/step - loss: 7.4829e-04 - val_loss: 8.4545e-04\n",
      "Epoch 5/5\n",
      "950/950 [==============================] - 115s 121ms/step - loss: 5.7298e-04 - val_loss: 8.3877e-04\n"
     ]
    },
    {
     "data": {
      "image/png": "[encoded data removed]",
      "text/plain": [
       "<Figure size 720x360 with 2 Axes>"
      ]
     },
     "metadata": {
      "tags": []
     },
     "output_type": "display_data"
    },
    {
     "data": {
      "image/png": "[encoded data removed]",
      "text/plain": [
       "<Figure size 720x360 with 2 Axes>"
      ]
     },
     "metadata": {
      "tags": []
     },
     "output_type": "display_data"
    },
    {
     "data": {
      "image/png": "[encoded data removed]",
      "text/plain": [
       "<Figure size 720x360 with 2 Axes>"
      ]
     },
     "metadata": {
      "tags": []
     },
     "output_type": "display_data"
    },
    {
     "data": {
      "image/png": "[encoded data removed]",
      "text/plain": [
       "<Figure size 720x360 with 2 Axes>"
      ]
     },
     "metadata": {
      "tags": []
     },
     "output_type": "display_data"
    },
    {
     "data": {
      "image/png": "[encoded data removed]",
      "text/plain": [
       "<Figure size 720x360 with 2 Axes>"
      ]
     },
     "metadata": {
      "tags": []
     },
     "output_type": "display_data"
    },
    {
     "data": {
      "image/png": "[encoded data removed]",
      "text/plain": [
       "<Figure size 720x360 with 2 Axes>"
      ]
     },
     "metadata": {
      "tags": []
     },
     "output_type": "display_data"
    },
    {
     "data": {
      "image/png": "[encoded data removed]",
      "text/plain": [
       "<Figure size 720x360 with 2 Axes>"
      ]
     },
     "metadata": {
      "tags": []
     },
     "output_type": "display_data"
    },
    {
     "data": {
      "image/png": "[encoded data removed]",
      "text/plain": [
       "<Figure size 720x360 with 2 Axes>"
      ]
     },
     "metadata": {
      "tags": []
     },
     "output_type": "display_data"
    },
    {
     "data": {
      "image/png": "[encoded data removed]",
      "text/plain": [
       "<Figure size 720x360 with 2 Axes>"
      ]
     },
     "metadata": {
      "tags": []
     },
     "output_type": "display_data"
    },
    {
     "data": {
      "image/png": "[encoded data removed]",
      "text/plain": [
       "<Figure size 720x360 with 2 Axes>"
      ]
     },
     "metadata": {
      "tags": []
     },
     "output_type": "display_data"
    },
    {
     "data": {
      "image/png": "[encoded data removed]",
      "text/plain": [
       "<Figure size 720x360 with 2 Axes>"
      ]
     },
     "metadata": {
      "tags": []
     },
     "output_type": "display_data"
    },
    {
     "data": {
      "image/png": "[encoded data removed]",
      "text/plain": [
       "<Figure size 720x360 with 2 Axes>"
      ]
     },
     "metadata": {
      "tags": []
     },
     "output_type": "display_data"
    },
    {
     "data": {
      "image/png": "[encoded data removed]",
      "text/plain": [
       "<Figure size 720x360 with 2 Axes>"
      ]
     },
     "metadata": {
      "tags": []
     },
     "output_type": "display_data"
    },
    {
     "data": {
      "image/png": "[encoded data removed]",
      "text/plain": [
       "<Figure size 720x360 with 2 Axes>"
      ]
     },
     "metadata": {
      "tags": []
     },
     "output_type": "display_data"
    },
    {
     "data": {
      "image/png": "[encoded data removed]",
      "text/plain": [
       "<Figure size 720x360 with 2 Axes>"
      ]
     },
     "metadata": {
      "tags": []
     },
     "output_type": "display_data"
    }
   ],
   "source": [
    "# Train the network\n",
    "noisy_movies, shifted_movies = generate_movies(n_samples=1200)\n",
    "seq.fit(noisy_movies[:1000], shifted_movies[:1000], batch_size=10,\n",
    "        epochs=5, validation_split=0.05)\n",
    "\n",
    "# Testing the network on one movie\n",
    "# feed it with the first 7 positions and then\n",
    "# predict the new positions\n",
    "which = 1004\n",
    "track = noisy_movies[which][:7, ::, ::, ::]\n",
    "\n",
    "for j in range(16):\n",
    "    new_pos = seq.predict(track[np.newaxis, ::, ::, ::, ::])\n",
    "    new = new_pos[::, -1, ::, ::, ::]\n",
    "    track = np.concatenate((track, new), axis=0)\n",
    "\n",
    "\n",
    "# And then compare the predictions\n",
    "# to the ground truth\n",
    "track2 = noisy_movies[which][::, ::, ::, ::]\n",
    "for i in range(15):\n",
    "    fig = plt.figure(figsize=(10, 5))\n",
    "\n",
    "    ax = fig.add_subplot(121)\n",
    "\n",
    "    if i >= 7:\n",
    "        ax.text(1, 3, 'Predictions !', fontsize=20, color='w')\n",
    "    else:\n",
    "        ax.text(1, 3, 'Initial trajectory', fontsize=20)\n",
    "\n",
    "    toplot = track[i, ::, ::, 0]\n",
    "\n",
    "    plt.imshow(toplot)\n",
    "    ax = fig.add_subplot(122)\n",
    "    plt.text(1, 3, 'Ground truth', fontsize=20)\n",
    "\n",
    "    toplot = track2[i, ::, ::, 0]\n",
    "    if i >= 2:\n",
    "        toplot = shifted_movies[which][i - 1, ::, ::, 0]\n",
    "\n",
    "    plt.imshow(toplot)\n",
    "    plt.savefig('%i_animate.png' % (i + 1))"
   ]
  },
  {
   "cell_type": "code",
   "execution_count": 0,
   "metadata": {
    "colab": {},
    "colab_type": "code",
    "id": "whX5GdkZAsdp"
   },
   "outputs": [],
   "source": [
    "from keras.callbacks import History"
   ]
  },
  {
   "cell_type": "code",
   "execution_count": 0,
   "metadata": {
    "colab": {},
    "colab_type": "code",
    "id": "UAHC_rmvFAfY"
   },
   "outputs": [],
   "source": [
    "hist = History()"
   ]
  },
  {
   "cell_type": "code",
   "execution_count": 1,
   "metadata": {
    "colab": {
     "base_uri": "https://localhost:8080/",
     "height": 171
    },
    "colab_type": "code",
    "id": "-XAE75lJFGa9",
    "outputId": "31efebd2-01af-4962-e538-b9f6149cf49a"
   },
   "outputs": [],
   "source": [
    "import pandas as pd"
   ]
  },
  {
   "cell_type": "markdown",
   "metadata": {},
   "source": [
    "### 【問題2】比較結果の説明"
   ]
  },
  {
   "cell_type": "code",
   "execution_count": 9,
   "metadata": {},
   "outputs": [],
   "source": [
    "index = ['LSTM','SimpleRNN','GRU','CuDNNLSTM','CuDNNGRU','RNN','ConvLSTM2D']\n",
    "data = {'speed': ['8ms','2ms', '6ms','1ms','1ms','1ms','122ms'],\n",
    "        'test_accuracy': ['0.80608','0.63392','0.80432','0.7858','0.81272','0.78628','nan']}\n"
   ]
  },
  {
   "cell_type": "code",
   "execution_count": 10,
   "metadata": {
    "colab": {},
    "colab_type": "code",
    "id": "IHTv8f9PFJPi"
   },
   "outputs": [],
   "source": [
    "df = pd.DataFrame(data, index=index)"
   ]
  },
  {
   "cell_type": "code",
   "execution_count": 11,
   "metadata": {},
   "outputs": [
    {
     "data": {
      "text/html": [
       "<div>\n",
       "<style scoped>\n",
       "    .dataframe tbody tr th:only-of-type {\n",
       "        vertical-align: middle;\n",
       "    }\n",
       "\n",
       "    .dataframe tbody tr th {\n",
       "        vertical-align: top;\n",
       "    }\n",
       "\n",
       "    .dataframe thead th {\n",
       "        text-align: right;\n",
       "    }\n",
       "</style>\n",
       "<table border=\"1\" class=\"dataframe\">\n",
       "  <thead>\n",
       "    <tr style=\"text-align: right;\">\n",
       "      <th></th>\n",
       "      <th>speed</th>\n",
       "      <th>test_accuracy</th>\n",
       "    </tr>\n",
       "  </thead>\n",
       "  <tbody>\n",
       "    <tr>\n",
       "      <th>LSTM</th>\n",
       "      <td>8ms</td>\n",
       "      <td>0.80608</td>\n",
       "    </tr>\n",
       "    <tr>\n",
       "      <th>SimpleRNN</th>\n",
       "      <td>2ms</td>\n",
       "      <td>0.63392</td>\n",
       "    </tr>\n",
       "    <tr>\n",
       "      <th>GRU</th>\n",
       "      <td>6ms</td>\n",
       "      <td>0.80432</td>\n",
       "    </tr>\n",
       "    <tr>\n",
       "      <th>CuDNNLSTM</th>\n",
       "      <td>1ms</td>\n",
       "      <td>0.7858</td>\n",
       "    </tr>\n",
       "    <tr>\n",
       "      <th>CuDNNGRU</th>\n",
       "      <td>1ms</td>\n",
       "      <td>0.81272</td>\n",
       "    </tr>\n",
       "    <tr>\n",
       "      <th>RNN</th>\n",
       "      <td>1ms</td>\n",
       "      <td>0.78628</td>\n",
       "    </tr>\n",
       "    <tr>\n",
       "      <th>ConvLSTM2D</th>\n",
       "      <td>122ms</td>\n",
       "      <td>nan</td>\n",
       "    </tr>\n",
       "  </tbody>\n",
       "</table>\n",
       "</div>"
      ],
      "text/plain": [
       "            speed test_accuracy\n",
       "LSTM          8ms       0.80608\n",
       "SimpleRNN     2ms       0.63392\n",
       "GRU           6ms       0.80432\n",
       "CuDNNLSTM     1ms        0.7858\n",
       "CuDNNGRU      1ms       0.81272\n",
       "RNN           1ms       0.78628\n",
       "ConvLSTM2D  122ms           nan"
      ]
     },
     "execution_count": 11,
     "metadata": {},
     "output_type": "execute_result"
    }
   ],
   "source": [
    "df"
   ]
  },
  {
   "cell_type": "markdown",
   "metadata": {},
   "source": [
    "RNN\n",
    "kerasにおけるRNNはリカレントニューラルネットワーク全体をカスタマイズして使う用でlayerクラスのサブクラス扱いである\n",
    "cellを切り替えることで使用するモデルを変更する\n",
    "\n",
    "SimpleRNN\n",
    "いわゆるRNNでゲートなしのリカレントニューラルネットワーク\n",
    "シンプルな分速度が早いが精度は最も低かった\n",
    "\n",
    "\n",
    "LSTM\n",
    "勾配消失問題を対策したモデル.記憶セルと3つのゲートがあります.GRUと精度がほとんど変わらなかったが速度は遅かった\n",
    "\n",
    "GRU\n",
    "LSTMを簡易にしたモデルで記憶セルがなくなり,ゲートも2つになっている.今回のデータではLSTMとほぼ同じ精度で速度は速かった\n",
    "\n",
    "ConvLSTM2D\n",
    "2次元なので比較できないが動画においてGROUND TRUTHほぼ同じ画像を描出できるほど精度は高かった\n",
    "\n",
    "CuDNNGRU\n",
    "GRUのGPU版で非常に高速かつ精度が高かった\n",
    "\n",
    "CuDNNLSTM\n",
    "LSTMのGPU版で非常に高速だったが、精度はやや劣っていた\n"
   ]
  },
  {
   "cell_type": "markdown",
   "metadata": {},
   "source": [
    "### 発表用課題 CodeReading"
   ]
  },
  {
   "cell_type": "code",
   "execution_count": null,
   "metadata": {},
   "outputs": [],
   "source": [
    "class MinimalRNNCell(keras.layers.Layer):\n",
    "            def __init__(self, units, **kwargs):\n",
    "                self.units = units\n",
    "                self.state_size = units\n",
    "                super(MinimalRNNCell, self).__init__(**kwargs)\n",
    "            def build(self, input_shape):\n",
    "                self.kernel = self.add_weight(shape=(input_shape[-1], self.units),\n",
    "                                              initializer='uniform',\n",
    "                                              name='kernel')\n",
    "                self.recurrent_kernel = self.add_weight(\n",
    "                    shape=(self.units, self.units),\n",
    "                    initializer='uniform',\n",
    "                    name='recurrent_kernel')\n",
    "                self.built = True\n",
    "            def call(self, inputs, states):\n",
    "                prev_output = states[0]\n",
    "                h = K.dot(inputs, self.kernel)\n",
    "                output = h + K.dot(prev_output, self.recurrent_kernel)\n",
    "                return output, [output]"
   ]
  },
  {
   "cell_type": "code",
   "execution_count": null,
   "metadata": {},
   "outputs": [],
   "source": [
    "class LSTMCell(Layer):\n",
    "    \"\"\"Cell class for the LSTM layer.\n",
    "    # Arguments\n",
    "        units: Positive integer, dimensionality of the output space.\n",
    "        activation: Activation function to use\n",
    "            (see [activations](../activations.md)).\n",
    "            Default: hyperbolic tangent (`tanh`).\n",
    "            If you pass `None`, no activation is applied\n",
    "            (ie. \"linear\" activation: `a(x) = x`).\n",
    "        recurrent_activation: Activation function to use\n",
    "            for the recurrent step\n",
    "            (see [activations](../activations.md)).\n",
    "            Default: hard sigmoid (`hard_sigmoid`).\n",
    "            If you pass `None`, no activation is applied\n",
    "            (ie. \"linear\" activation: `a(x) = x`).x\n",
    "        use_bias: Boolean, whether the layer uses a bias vector.\n",
    "        kernel_initializer: Initializer for the `kernel` weights matrix,\n",
    "            used for the linear transformation of the inputs\n",
    "            (see [initializers](../initializers.md)).\n",
    "        recurrent_initializer: Initializer for the `recurrent_kernel`\n",
    "            weights matrix,\n",
    "            used for the linear transformation of the recurrent state\n",
    "            (see [initializers](../initializers.md)).\n",
    "        bias_initializer: Initializer for the bias vector\n",
    "            (see [initializers](../initializers.md)).\n",
    "        unit_forget_bias: Boolean.\n",
    "            If True, add 1 to the bias of the forget gate at initialization.\n",
    "            Setting it to true will also force `bias_initializer=\"zeros\"`.\n",
    "            This is recommended in [Jozefowicz et al. (2015)](\n",
    "            http://www.jmlr.org/proceedings/papers/v37/jozefowicz15.pdf).\n",
    "        kernel_regularizer: Regularizer function applied to\n",
    "            the `kernel` weights matrix\n",
    "            (see [regularizer](../regularizers.md)).\n",
    "        recurrent_regularizer: Regularizer function applied to\n",
    "            the `recurrent_kernel` weights matrix\n",
    "            (see [regularizer](../regularizers.md)).\n",
    "        bias_regularizer: Regularizer function applied to the bias vector\n",
    "            (see [regularizer](../regularizers.md)).\n",
    "        kernel_constraint: Constraint function applied to\n",
    "            the `kernel` weights matrix\n",
    "            (see [constraints](../constraints.md)).\n",
    "        recurrent_constraint: Constraint function applied to\n",
    "            the `recurrent_kernel` weights matrix\n",
    "            (see [constraints](../constraints.md)).\n",
    "        bias_constraint: Constraint function applied to the bias vector\n",
    "            (see [constraints](../constraints.md)).\n",
    "        dropout: Float between 0 and 1.\n",
    "            Fraction of the units to drop for\n",
    "            the linear transformation of the inputs.\n",
    "        recurrent_dropout: Float between 0 and 1.\n",
    "            Fraction of the units to drop for\n",
    "            the linear transformation of the recurrent state.\n",
    "        implementation: Implementation mode, either 1 or 2.\n",
    "            Mode 1 will structure its operations as a larger number of\n",
    "            smaller dot products and additions, whereas mode 2 will\n",
    "            batch them into fewer, larger operations. These modes will\n",
    "            have different performance profiles on different hardware and\n",
    "            for different applications.\n",
    "    \"\"\"\n",
    "\n",
    "    def __init__(self, units,\n",
    "                 activation='tanh',\n",
    "                 recurrent_activation='hard_sigmoid',\n",
    "                 use_bias=True,\n",
    "                 kernel_initializer='glorot_uniform',\n",
    "                 recurrent_initializer='orthogonal',\n",
    "                 bias_initializer='zeros',\n",
    "                 unit_forget_bias=True,\n",
    "                 kernel_regularizer=None,\n",
    "                 recurrent_regularizer=None,\n",
    "                 bias_regularizer=None,\n",
    "                 kernel_constraint=None,\n",
    "                 recurrent_constraint=None,\n",
    "                 bias_constraint=None,\n",
    "                 dropout=0.,\n",
    "                 recurrent_dropout=0.,\n",
    "                 implementation=1,\n",
    "                 **kwargs):\n",
    "        super(LSTMCell, self).__init__(**kwargs)\n",
    "        self.units = units #1ゲートに送るnode数\n",
    "        self.activation = activations.get(activation)\n",
    "        self.recurrent_activation = activations.get(recurrent_activation)\n",
    "        self.use_bias = use_bias\n",
    "        \n",
    "        #初期化\n",
    "        self.kernel_initializer = initializers.get(kernel_initializer)\n",
    "        self.recurrent_initializer = initializers.get(recurrent_initializer)\n",
    "        self.bias_initializer = initializers.get(bias_initializer)\n",
    "        self.unit_forget_bias = unit_forget_bias#forget_gateの初期化時にbias項に1を加えるかどうかそのときbias_initializerは必ずzeronになる\n",
    "        \n",
    "        #正則化\n",
    "        self.kernel_regularizer = regularizers.get(kernel_regularizer)\n",
    "        self.recurrent_regularizer = regularizers.get(recurrent_regularizer)\n",
    "        self.bias_regularizer = regularizers.get(bias_regularizer)\n",
    "        \n",
    "        #重みに制約をつける\n",
    "        self.kernel_constraint = constraints.get(kernel_constraint)\n",
    "        self.recurrent_constraint = constraints.get(recurrent_constraint)\n",
    "        self.bias_constraint = constraints.get(bias_constraint)\n",
    "\n",
    "        self.dropout = min(1., max(0., dropout))\n",
    "        self.recurrent_dropout = min(1., max(0., recurrent_dropout))\n",
    "        self.implementation = implementation\n",
    "        self.state_size = (self.units, self.units)\n",
    "        self.output_size = self.units\n",
    "        self._dropout_mask = None\n",
    "        self._recurrent_dropout_mask = None\n",
    "\n",
    "    def build(self, input_shape):\n",
    "        # 行列積を計算するためinputのshapeの最後をとってくる\n",
    "        input_dim = input_shape[-1]\n",
    "        \n",
    "        \n",
    "        if type(self.recurrent_initializer).__name__ == 'Identity':#単位行列(0padも込み)にするならば\n",
    "            def recurrent_identity(shape, gain=1.):\n",
    "                return gain * np.concatenate(\n",
    "                    [np.identity(shape[0])] * (shape[1] // shape[0]), axis=1) # 不明だが単位行列ようの初期化メソッドを作りたいと想像できる\n",
    "\n",
    "            self.recurrent_initializer = recurrent_identity\n",
    "\n",
    "        # xにかける方のweightを作成\n",
    "        self.kernel = self.add_weight(shape=(input_dim, self.units * 4),#unit毎にW_x_input, W_x_forget, W_x_c, W_x_output\n",
    "                                      name='kernel',\n",
    "                                      initializer=self.kernel_initializer,\n",
    "                                      regularizer=self.kernel_regularizer, \n",
    "                                      constraint=self.kernel_constraint)\n",
    "        \n",
    "        # hにかけるほうのweightを作成\n",
    "        self.recurrent_kernel = self.add_weight(\n",
    "            shape=(self.units, self.units * 4),#unit毎にW_h_input, W_h_forget, W_h_c, W_h_output\n",
    "            name='recurrent_kernel',\n",
    "            initializer=self.recurrent_initializer,\n",
    "            regularizer=self.recurrent_regularizer,\n",
    "            constraint=self.recurrent_constraint)\n",
    "        \n",
    "        \n",
    "        if self.use_bias:\n",
    "            if self.unit_forget_bias:\n",
    "                # unit_forget_biasを設定\n",
    "                def bias_initializer(_, *args, **kwargs):\n",
    "                    return K.concatenate([\n",
    "                        self.bias_initializer((self.units,), *args, **kwargs),\n",
    "                        initializers.Ones()((self.units,), *args, **kwargs),\n",
    "                        self.bias_initializer((self.units * 2,), *args, **kwargs),\n",
    "                    ])\n",
    "            else:\n",
    "                bias_initializer = self.bias_initializer\n",
    "                \n",
    "            # biasを作成\n",
    "            self.bias = self.add_weight(shape=(self.units * 4,),\n",
    "                                        name='bias',\n",
    "                                        initializer=bias_initializer,\n",
    "                                        regularizer=self.bias_regularizer,\n",
    "                                        constraint=self.bias_constraint)\n",
    "        else:\n",
    "            self.bias = None\n",
    "\n",
    "        self.kernel_i = self.kernel[:, :self.units]#input_gate用のXとかけるkernel\n",
    "        self.kernel_f = self.kernel[:, self.units: self.units * 2]#forget_gate用のXとかけるkernel\n",
    "        self.kernel_c = self.kernel[:, self.units * 2: self.units * 3]#gateを通らずinput_gateとかけて記憶セルに加えるためのXとかけるkernel\n",
    "        self.kernel_o = self.kernel[:, self.units * 3:]#output_gate用のXとかけるkernel\n",
    "\n",
    "        self.recurrent_kernel_i = self.recurrent_kernel[:, :self.units] #input_gate用のh(前回のout_put)とかけるkernel\n",
    "        self.recurrent_kernel_f = (\n",
    "            self.recurrent_kernel[:, self.units: self.units * 2]) # forget_gate用のh(前回のout_put)とかけるkernel\n",
    "        self.recurrent_kernel_c = (\n",
    "            self.recurrent_kernel[:, self.units * 2: self.units * 3])#gateを通らずinput_gateとかけて記憶セルに加えるためのh(前回のoutput)とかけるkernel\n",
    "        self.recurrent_kernel_o = self.recurrent_kernel[:, self.units * 3:]# output_gate用のh(前回のout_put)とかけるkernel\n",
    "\n",
    "        if self.use_bias:\n",
    "            self.bias_i = self.bias[:self.units]\n",
    "            self.bias_f = self.bias[self.units: self.units * 2]\n",
    "            self.bias_c = self.bias[self.units * 2: self.units * 3]\n",
    "            self.bias_o = self.bias[self.units * 3:]\n",
    "        else:\n",
    "            self.bias_i = None\n",
    "            self.bias_f = None\n",
    "            self.bias_c = None\n",
    "            self.bias_o = None\n",
    "        self.built = True"
   ]
  },
  {
   "cell_type": "markdown",
   "metadata": {},
   "source": [
    "<img src=\"LSTM.png\">"
   ]
  },
  {
   "cell_type": "code",
   "execution_count": null,
   "metadata": {},
   "outputs": [],
   "source": [
    "def call(self, inputs, states, training=None):\n",
    "    x_i = K.dot(inputs_i, self.kernel_i)\n",
    "    x_f = K.dot(inputs_f, self.kernel_f)\n",
    "    x_c = K.dot(inputs_c, self.kernel_c)\n",
    "    x_o = K.dot(inputs_o, self.kernel_o)\n",
    "\n",
    "    # 記憶セルと前のoutputはstatesに保存している\n",
    "    h_tm1 = states[0]  # previous memory state\n",
    "    c_tm1 = states[1]\n",
    "    \n",
    "    h_tm1_i = h_tm1\n",
    "    h_tm1_f = h_tm1\n",
    "    h_tm1_c = h_tm1\n",
    "    h_tm1_o = h_tm1\n",
    "    \n",
    "    i = self.recurrent_activation(x_i + K.dot(h_tm1_i,self.recurrent_kernel_i))\n",
    "    \n",
    "    f = self.recurrent_activation(x_f + K.dot(h_tm1_f,self.recurrent_kernel_f))\n",
    "    \n",
    "    c = f * c_tm1 + i * self.activation(x_c + K.dot(h_tm1_c,self.recurrent_kernel_c))\n",
    "    \n",
    "    o = self.recurrent_activation(x_o + K.dot(h_tm1_o,self.recurrent_kernel_o))"
   ]
  },
  {
   "cell_type": "code",
   "execution_count": null,
   "metadata": {},
   "outputs": [],
   "source": [
    " def build(self, input_shape):\n",
    "        input_dim = input_shape[-1]\n",
    "\n",
    "        if isinstance(self.recurrent_initializer, initializers.Identity):\n",
    "            def recurrent_identity(shape, gain=1.):\n",
    "                return gain * np.concatenate(\n",
    "                    [np.identity(shape[0])] * (shape[1] // shape[0]), axis=1)\n",
    "\n",
    "            self.recurrent_initializer = recurrent_identity\n",
    "\n",
    "        self.kernel = self.add_weight(shape=(input_dim, self.units * 3),# unitが1つ少ない\n",
    "                                      name='kernel',\n",
    "                                      initializer=self.kernel_initializer,\n",
    "                                      regularizer=self.kernel_regularizer,\n",
    "                                      constraint=self.kernel_constraint)\n",
    "        self.recurrent_kernel = self.add_weight(\n",
    "            shape=(self.units, self.units * 3),# unitが1つ少ない\n",
    "            name='recurrent_kernel',\n",
    "            initializer=self.recurrent_initializer,\n",
    "            regularizer=self.recurrent_regularizer,\n",
    "            constraint=self.recurrent_constraint)\n",
    "\n",
    "        if self.use_bias:\n",
    "            if not self.reset_after:\n",
    "                bias_shape = (3 * self.units,)\n",
    "            else:\n",
    "                # separate biases for input and recurrent kernels\n",
    "                # Note: the shape is intentionally different from CuDNNGRU biases\n",
    "                # `(2 * 3 * self.units,)`, so that we can distinguish the classes\n",
    "                # when loading and converting saved weights.\n",
    "                bias_shape = (2, 3 * self.units)\n",
    "            self.bias = self.add_weight(shape=bias_shape,\n",
    "                                        name='bias',\n",
    "                                        initializer=self.bias_initializer,\n",
    "                                        regularizer=self.bias_regularizer,\n",
    "                                        constraint=self.bias_constraint)\n",
    "            if not self.reset_after:\n",
    "                self.input_bias, self.recurrent_bias = self.bias, None\n",
    "            else:\n",
    "                # NOTE: need to flatten, since slicing in CNTK gives 2D array\n",
    "                self.input_bias = K.flatten(self.bias[0])\n",
    "                self.recurrent_bias = K.flatten(self.bias[1])\n",
    "        else:\n",
    "            self.bias = None\n",
    "\n",
    "        # update gate\n",
    "        self.kernel_z = self.kernel[:, :self.units]\n",
    "        self.recurrent_kernel_z = self.recurrent_kernel[:, :self.units]\n",
    "        # reset gate\n",
    "        self.kernel_r = self.kernel[:, self.units: self.units * 2]\n",
    "        self.recurrent_kernel_r = self.recurrent_kernel[:,\n",
    "                                                        self.units:\n",
    "                                                        self.units * 2]\n",
    "        # new gate\n",
    "        self.kernel_h = self.kernel[:, self.units * 2:]\n",
    "        self.recurrent_kernel_h = self.recurrent_kernel[:, self.units * 2:]\n",
    "\n",
    "        if self.use_bias:\n",
    "            # bias for inputs\n",
    "            self.input_bias_z = self.input_bias[:self.units]\n",
    "            self.input_bias_r = self.input_bias[self.units: self.units * 2]\n",
    "            self.input_bias_h = self.input_bias[self.units * 2:]\n",
    "            # bias for hidden state - just for compatibility with CuDNN\n",
    "            if self.reset_after:\n",
    "                self.recurrent_bias_z = self.recurrent_bias[:self.units]\n",
    "                self.recurrent_bias_r = (\n",
    "                    self.recurrent_bias[self.units: self.units * 2])\n",
    "                self.recurrent_bias_h = self.recurrent_bias[self.units * 2:]\n",
    "        else:\n",
    "            self.input_bias_z = None\n",
    "            self.input_bias_r = None\n",
    "            self.input_bias_h = None\n",
    "            if self.reset_after:\n",
    "                self.recurrent_bias_z = None\n",
    "                self.recurrent_bias_r = None\n",
    "                self.recurrent_bias_h = None\n",
    "        self.built = True\n"
   ]
  },
  {
   "cell_type": "markdown",
   "metadata": {},
   "source": [
    "<img src=\"gru.png\">"
   ]
  },
  {
   "cell_type": "code",
   "execution_count": null,
   "metadata": {},
   "outputs": [],
   "source": [
    "def call(self, inputs, states, training=None):\n",
    "    h_tm1 = states[0]\n",
    "    \n",
    "    inputs_z = inputs\n",
    "    inputs_r = inputs\n",
    "    inputs_h = inputs_\n",
    "    \n",
    "    x_z = K.dot(inputs_z, self.kernel_z)\n",
    "    x_r = K.dot(inputs_r, self.kernel_r)\n",
    "    x_h = K.dot(inputs_h, self.kernel_h)\n",
    "    \n",
    "    h_tm1_z = h_tm1\n",
    "    h_tm1_r = h_tm1\n",
    "    h_tm1_h = h_tm1\n",
    "    \n",
    "    recurrent_z = K.dot(h_tm1_z, self.recurrent_kernel_z)\n",
    "    recurrent_r = K.dot(h_tm1_r, self.recurrent_kernel_r)\n",
    "    \n",
    "    z = self.recurrent_activation(x_z + recurrent_z)\n",
    "    r = self.recurrent_activation(x_r + recurrent_r)\n",
    "    \n",
    "    recurrent_h = K.dot(r * h_tm1_h, self.recurrent_kernel_h)\n",
    "    hh = self.activation(x_h + recurrent_h)\n",
    "    \n",
    "    h = z * h_tm1 + (1 - z) * hh\n",
    "    \n",
    "    return h, [h]"
   ]
  },
  {
   "cell_type": "code",
   "execution_count": null,
   "metadata": {},
   "outputs": [],
   "source": []
  }
 ],
 "metadata": {
  "accelerator": "GPU",
  "colab": {
   "collapsed_sections": [],
   "name": "Untitled7.ipynb",
   "provenance": [],
   "version": "0.3.2"
  },
  "kernelspec": {
   "display_name": "Python 3",
   "language": "python",
   "name": "python3"
  },
  "language_info": {
   "codemirror_mode": {
    "name": "ipython",
    "version": 3
   },
   "file_extension": ".py",
   "mimetype": "text/x-python",
   "name": "python",
   "nbconvert_exporter": "python",
   "pygments_lexer": "ipython3",
   "version": "3.6.7"
  }
 },
 "nbformat": 4,
 "nbformat_minor": 1
}
